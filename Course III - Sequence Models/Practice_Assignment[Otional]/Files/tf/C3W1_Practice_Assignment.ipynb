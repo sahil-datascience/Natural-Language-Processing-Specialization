{
 "cells": [
  {
   "cell_type": "markdown",
   "id": "3531c13c",
   "metadata": {},
   "source": [
    "# Assignment 1:  Sentiment with Deep Neural Networks\n",
    "\n",
    "Welcome to the first assignment of course 3. **This is a practice assignment**, which means that the grade you receive won't count towards your final grade of the course. **However you can still submit your solutions and receive a grade along with feedback from the grader.** Before getting started take some time to read the following tips: \n",
    "\n",
    "#### TIPS FOR SUCCESSFUL GRADING OF YOUR ASSIGNMENT:\n",
    "\n",
    "- All cells are frozen except for the ones where you need to submit your solutions.\n",
    "\n",
    "- You can add new cells to experiment but these will be omitted by the grader, so don't rely on newly created cells to host your solution code, use the provided places for this.\n",
    "\n",
    "- You can add the comment # grade-up-to-here in any graded cell to signal the grader that it must only evaluate up to that point. This is helpful if you want to check if you are on the right track even if you are not done with the whole assignment. Be sure to remember to delete the comment afterwards!\n",
    "\n",
    "- To submit your notebook, save it and then click on the blue submit button at the beginning of the page.\n",
    "\n",
    "\n",
    "In this assignment, you will explore sentiment analysis using deep neural networks. "
   ]
  },
  {
   "cell_type": "markdown",
   "id": "5f6473fc",
   "metadata": {},
   "source": [
    "## Table of Contents\n",
    "- [1 - Import the Libraries](#1)\n",
    "- [2 - Importing the Data](#2)\n",
    "    - [2.1 - Load and split the Data](#2-1)\n",
    "    - [2.2 - Build the Vocabulary](#2-2)\n",
    "        - [Exercise 1 - build_vocabulary](#ex-1)\n",
    "    - [2.3 - Convert a Tweet to a Tensor](#2-3)\n",
    "        - [Exercise 2 - max_len](#ex-2)\n",
    "        - [Exercise 3 - padded_sequences](#ex-3)\n",
    "- [3 - Define the structure of the neural network layers](#3)\n",
    "    - [3.1 - ReLU](#3-1)\n",
    "        - [Exercise 4 - relu](#ex-4)\n",
    "    - [3.2 - Sigmoid](#3.2)\n",
    "        - [Exercise 5 - sigmoid](#ex-5)\n",
    "    - [3.3 - Dense class](#3-3)\n",
    "        - [Exercise 6 - Dense](#ex-6)\n",
    "    - [3.3 - Model](#3-4)\n",
    "        - [Exercise 7 - create_model](#ex-7)\n",
    "- [4 - Evaluate the model](#4)\n",
    "    - [4.1 Predict on Data](#4-1)\n",
    "- [5 - Test With Your Own Input](#5)\n",
    "    - [5.1 Create the Prediction Function](#5-1)\n",
    "        - [Exercise 8 - graded_very_positive_tweet](#ex-8)\n",
    "- [6 - Word Embeddings](#6)"
   ]
  },
  {
   "cell_type": "markdown",
   "id": "bd2428bf",
   "metadata": {},
   "source": [
    "In course 1, you implemented Logistic regression and Naive Bayes for sentiment analysis. Even though the two models performed very well on the dataset of tweets, they fail to catch any meaning beyond the meaning of words. For this you can use neural networks. In this assignment, you will write a program that uses a simple deep neural network to identify sentiment in text. By completing this assignment, you will: \n",
    "\n",
    "- Understand how you can design a neural network using tensorflow\n",
    "- Build and train a model\n",
    "- Use a binary cross-entropy loss function\n",
    "- Compute the accuracy of your model\n",
    "- Predict using your own input\n",
    "\n",
    "As you can tell, this model follows a similar structure to the one you previously implemented in the second course of this specialization. \n",
    "- Indeed most of the deep nets you will be implementing will have a similar structure. The only thing that changes is the model architecture, the inputs, and the outputs. In this assignment, you will first create the neural network layers from scratch using `numpy` to better understand what is going on. After this you will use the library `tensorflow` for building and training the model."
   ]
  },
  {
   "cell_type": "markdown",
   "id": "9ee4dd3f",
   "metadata": {},
   "source": [
    "<a name=\"1\"></a>\n",
    "## 1 - Import the Libraries\n",
    "\n",
    "Run the next cell to import the Python packages you'll need for this assignment.\n",
    "\n",
    "Note the `from utils import ...` line. This line imports the functions that were specifically written for this assignment. If you want to look at what these functions are, go to `File -> Open...` and open the `utils.py` file to have a look."
   ]
  },
  {
   "cell_type": "code",
   "execution_count": 2,
   "id": "06d551ca",
   "metadata": {
    "deletable": false,
    "editable": false,
    "tags": [
     "graded"
    ]
   },
   "outputs": [],
   "source": [
    "import os\n",
    "os.environ['TF_CPP_MIN_LOG_LEVEL'] = '3'\n",
    "\n",
    "import numpy as np\n",
    "import tensorflow as tf\n",
    "import matplotlib.pyplot as plt\n",
    "from sklearn.decomposition import PCA\n",
    "\n",
    "from utils import load_tweets, process_tweet\n",
    "\n",
    "%matplotlib inline"
   ]
  },
  {
   "cell_type": "code",
   "execution_count": 3,
   "id": "de4ac254",
   "metadata": {
    "deletable": false,
    "editable": false
   },
   "outputs": [],
   "source": [
    "import w1_unittest"
   ]
  },
  {
   "cell_type": "markdown",
   "id": "8dbe1be4",
   "metadata": {},
   "source": [
    "<a name=\"2\"></a>\n",
    "## 2 - Import the Data\n",
    "\n",
    "<a name=\"2-1\"></a>\n",
    "### 2.1 - Load and split the Data\n",
    "\n",
    "- Import the positive and negative tweets\n",
    "- Have a look at some examples of the tweets\n",
    "- Split the data into the training and validation sets\n",
    "- Create labels for the data"
   ]
  },
  {
   "cell_type": "code",
   "execution_count": 4,
   "id": "57670f95",
   "metadata": {
    "deletable": false,
    "editable": false,
    "tags": [
     "graded"
    ]
   },
   "outputs": [
    {
     "name": "stdout",
     "output_type": "stream",
     "text": [
      "The number of positive tweets: 5000\n",
      "The number of negative tweets: 5000\n"
     ]
    }
   ],
   "source": [
    "# Load positive and negative tweets\n",
    "all_positive_tweets, all_negative_tweets = load_tweets()\n",
    "\n",
    "# View the total number of positive and negative tweets.\n",
    "print(f\"The number of positive tweets: {len(all_positive_tweets)}\")\n",
    "print(f\"The number of negative tweets: {len(all_negative_tweets)}\")"
   ]
  },
  {
   "cell_type": "markdown",
   "id": "e7b47d9d",
   "metadata": {},
   "source": [
    "Now you can have a look at some examples of tweets. "
   ]
  },
  {
   "cell_type": "code",
   "execution_count": 5,
   "id": "676f8aca",
   "metadata": {
    "deletable": false,
    "editable": false,
    "tags": [
     "graded"
    ]
   },
   "outputs": [
    {
     "name": "stdout",
     "output_type": "stream",
     "text": [
      "Positive tweet example:\n",
      "yeaaaah yippppy!!!  my accnt verified rqst has succeed got a blue tick mark on my fb profile :) in 15 days\n",
      "\n",
      "Negative tweet example:\n",
      "Dang starting next week I have \"work\" :(\n"
     ]
    }
   ],
   "source": [
    "# Change the tweet number to any number between 0 and 4999 to see a different pair of tweets.\n",
    "tweet_number = 4\n",
    "print('Positive tweet example:')\n",
    "print(all_positive_tweets[tweet_number])\n",
    "print('\\nNegative tweet example:')\n",
    "print(all_negative_tweets[tweet_number])"
   ]
  },
  {
   "cell_type": "markdown",
   "id": "2d07832d",
   "metadata": {},
   "source": [
    "Here you will process the tweets. This part of the code has been implemented for you.  The processing includes:\n",
    "\n",
    "- tokenizing the sentence (splitting to words)\n",
    "- removing stock market tickers like $GE\n",
    "- removing old style retweet text \"RT\"\n",
    "- removing hyperlinks\n",
    "- removing hashtags\n",
    "- lowercasing\n",
    "- removing stopwords and punctuation\n",
    "- stemming\n",
    "\n",
    "Some of these things are general steps you would do when processing any text, some others are very \"tweet-specific\". The details of the process_tweet function are available in utils.py file"
   ]
  },
  {
   "cell_type": "code",
   "execution_count": 6,
   "id": "a64dc904",
   "metadata": {
    "deletable": false,
    "editable": false,
    "tags": [
     "graded"
    ]
   },
   "outputs": [],
   "source": [
    "# Process all the tweets: tokenize the string, remove tickers, handles, punctuation and stopwords, stem the words\n",
    "all_positive_tweets_processed = [process_tweet(tweet) for tweet in all_positive_tweets]\n",
    "all_negative_tweets_processed = [process_tweet(tweet) for tweet in all_negative_tweets]"
   ]
  },
  {
   "cell_type": "markdown",
   "id": "a7f60d28",
   "metadata": {},
   "source": [
    "Now you can have a look at some examples of how the tweets look like after being processed."
   ]
  },
  {
   "cell_type": "code",
   "execution_count": 7,
   "id": "eab3b775",
   "metadata": {
    "deletable": false,
    "editable": false,
    "tags": [
     "graded"
    ]
   },
   "outputs": [
    {
     "name": "stdout",
     "output_type": "stream",
     "text": [
      "Positive processed tweet example:\n",
      "['yeaaah', 'yipppy', 'accnt', 'verify', 'rqst', 'succeed', 'get', 'blue', 'tick', 'mark', 'fb', 'profile', ':)', '15', 'day']\n",
      "\n",
      "Negative processed tweet example:\n",
      "['dang', 'start', 'next', 'week', 'work', ':(']\n"
     ]
    }
   ],
   "source": [
    "# Change the tweet number to any number between 0 and 4999 to see a different pair of tweets.\n",
    "tweet_number = 4\n",
    "print('Positive processed tweet example:')\n",
    "print(all_positive_tweets_processed[tweet_number])\n",
    "print('\\nNegative processed tweet example:')\n",
    "print(all_negative_tweets_processed[tweet_number])"
   ]
  },
  {
   "cell_type": "markdown",
   "id": "4766db90",
   "metadata": {},
   "source": [
    "Next, you split the tweets into the training and validation datasets. For this example you can use 80 % of the data for training and 20 % of the data for validation."
   ]
  },
  {
   "cell_type": "code",
   "execution_count": 8,
   "id": "ed51b361",
   "metadata": {
    "deletable": false,
    "editable": false,
    "tags": [
     "graded"
    ]
   },
   "outputs": [
    {
     "name": "stdout",
     "output_type": "stream",
     "text": [
      "There are 8000 sentences for training.\n",
      "There are 8000 labels for training.\n",
      "\n",
      "There are 2000 sentences for validation.\n",
      "There are 2000 labels for validation.\n"
     ]
    }
   ],
   "source": [
    "# Split positive set into validation and training\n",
    "val_pos = all_positive_tweets_processed[4000:]\n",
    "train_pos = all_positive_tweets_processed[:4000]\n",
    "# Split negative set into validation and training\n",
    "val_neg = all_negative_tweets_processed[4000:]\n",
    "train_neg = all_negative_tweets_processed[:4000]\n",
    "\n",
    "train_x = train_pos + train_neg \n",
    "val_x  = val_pos + val_neg\n",
    "\n",
    "# Set the labels for the training and validation set (1 for positive, 0 for negative)\n",
    "train_y = [[1] for _ in train_pos] + [[0] for _ in train_neg]\n",
    "val_y  = [[1] for _ in val_pos] + [[0] for _ in val_neg]\n",
    "\n",
    "print(f\"There are {len(train_x)} sentences for training.\")\n",
    "print(f\"There are {len(train_y)} labels for training.\\n\")\n",
    "print(f\"There are {len(val_x)} sentences for validation.\")\n",
    "print(f\"There are {len(val_y)} labels for validation.\")"
   ]
  },
  {
   "cell_type": "markdown",
   "id": "5eff3b5f",
   "metadata": {},
   "source": [
    "<a name=\"2-2\"></a>\n",
    "### 2.2 - Build the Vocabulary\n",
    "\n",
    "Now build the vocabulary.\n",
    "- Map each word in each tweet to an integer (an \"index\"). \n",
    "- Note that you will build the vocabulary based on the training data. \n",
    "- To do so, you will assign an index to every word by iterating over your training set.\n",
    "\n",
    "The vocabulary will also include some special tokens\n",
    "- `''`: padding\n",
    "- `'[UNK]'`: a token representing any word that is not in the vocabulary."
   ]
  },
  {
   "cell_type": "markdown",
   "id": "db38f3bf",
   "metadata": {},
   "source": [
    "<a name=\"ex-1\"></a>\n",
    "### Exercise 1 - build_vocabulary\n",
    "Build the vocabulary from all of the tweets in the training set."
   ]
  },
  {
   "cell_type": "code",
   "execution_count": 9,
   "id": "6b92a065",
   "metadata": {
    "deletable": false,
    "tags": [
     "graded"
    ]
   },
   "outputs": [
    {
     "name": "stdout",
     "output_type": "stream",
     "text": [
      "Vocabulary contains 9544 words\n",
      "\n",
      "{'': 0, '[UNK]': 1, 'followfriday': 2, 'top': 3, 'engage': 4, 'member': 5, 'community': 6, 'week': 7, ':)': 8, 'hey': 9, 'james': 10, 'odd': 11, ':/': 12, 'please': 13, 'call': 14, 'contact': 15, 'centre': 16, '02392441234': 17, 'able': 18, 'assist': 19, 'many': 20, 'thanks': 21, 'listen': 22, 'last': 23, 'night': 24, 'bleed': 25, 'amazing': 26, 'track': 27, 'scotland': 28, 'congrats': 29, 'yeaaah': 30, 'yipppy': 31, 'accnt': 32, 'verify': 33, 'rqst': 34, 'succeed': 35, 'get': 36, 'blue': 37, 'tick': 38, 'mark': 39, 'fb': 40, 'profile': 41, '15': 42, 'day': 43, 'one': 44, 'irresistible': 45, 'flipkartfashionfriday': 46, 'like': 47, 'keep': 48, 'lovely': 49, 'customer': 50, 'wait': 51, 'long': 52, 'hope': 53, 'enjoy': 54, 'happy': 55, 'friday': 56, 'lwwf': 57, 'second': 58, 'thought': 59, '’': 60, 'enough': 61, 'time': 62, 'dd': 63, 'new': 64, 'short': 65, 'enter': 66, 'system': 67, 'sheep': 68, 'must': 69, 'buy': 70, 'jgh': 71, 'go': 72, 'bayan': 73, ':D': 74, 'bye': 75, 'act': 76, 'mischievousness': 77, 'etl': 78, 'layer': 79, 'in-house': 80, 'warehouse': 81, 'app': 82, 'katamari': 83, 'well': 84, '…': 85, 'name': 86, 'imply': 87, ':p': 88, 'influencers': 89, 'love': 90, 'big': 91, '...': 92, 'juicy': 93, 'selfies': 94, 'follow': 95, 'perfect': 96, 'already': 97, 'know': 98, \"what's\": 99, 'great': 100, 'opportunity': 101, 'junior': 102, 'triathletes': 103, 'age': 104, '12': 105, '13': 106, 'gatorade': 107, 'series': 108, 'entry': 109, 'lay': 110, 'greeting': 111, 'card': 112, 'range': 113, 'print': 114, 'today': 115, 'job': 116, ':-)': 117, \"friend's\": 118, 'lunch': 119, 'yummm': 120, 'nostalgia': 121, 'tb': 122, 'ku': 123, 'id': 124, 'conflict': 125, 'help': 126, \"here's\": 127, 'screenshot': 128, 'work': 129, 'hi': 130, 'liv': 131, 'hello': 132, 'need': 133, 'something': 134, 'u': 135, 'fm': 136, 'twitter': 137, '—': 138, 'sure': 139, 'thing': 140, 'dm': 141, 'x': 142, 'follower': 143, \"i've\": 144, 'hear': 145, 'four': 146, 'season': 147, 'pretty': 148, 'dope': 149, 'penthouse': 150, 'obvs': 151, 'gobigorgohome': 152, 'fun': 153, \"y'all\": 154, 'yeah': 155, 'suppose': 156, 'lol': 157, 'chat': 158, 'bit': 159, 'youth': 160, '💅🏽': 161, '💋': 162, 'see': 163, 'year': 164, 'thank': 165, 'rest': 166, 'quickly': 167, 'bed': 168, 'music': 169, 'fix': 170, 'dream': 171, 'spiritual': 172, 'ritual': 173, 'festival': 174, 'népal': 175, 'beginning': 176, 'line-up': 177, 'leave': 178, 'sarah': 179, 'send': 180, 'email': 181, 'bitsy@bitdefender.com': 182, \"we'll\": 183, 'asap': 184, 'lols': 185, 'kik': 186, 'hatessuce': 187, '32429': 188, 'kikme': 189, 'lgbt': 190, 'tinder': 191, 'nsfw': 192, 'akua': 193, 'cumshot': 194, 'come': 195, 'house': 196, 'nsn_supplements': 197, 'effective': 198, 'press': 199, 'release': 200, 'distribution': 201, 'result': 202, 'link': 203, 'remove': 204, 'pressrelease': 205, 'newsdistribution': 206, 'bam': 207, 'bestfriend': 208, 'lot': 209, 'warsaw': 210, '<3': 211, 'x46': 212, 'everyone': 213, 'watch': 214, 'documentary': 215, 'earthling': 216, 'youtube': 217, 'support': 218, 'buuut': 219, 'oh': 220, 'look': 221, 'forward': 222, 'visit': 223, 'next': 224, 'letsgetmessy': 225, 'jo': 226, 'make': 227, 'feel': 228, 'never': 229, 'anyone': 230, 'kpop': 231, 'flesh': 232, 'good': 233, 'girl': 234, 'best': 235, 'wish': 236, 'reason': 237, 'epic': 238, 'soundtrack': 239, 'shout': 240, 'add': 241, 'video': 242, 'playlist': 243, 'would': 244, 'dear': 245, 'jordan': 246, 'okay': 247, 'fake': 248, 'gameplays': 249, ';)': 250, 'haha': 251, 'im': 252, 'kidding': 253, 'stuff': 254, 'exactly': 255, 'product': 256, 'line': 257, 'etsy': 258, 'shop': 259, 'check': 260, 'vacation': 261, 'rechargeable': 262, 'normally': 263, 'charger': 264, 'asleep': 265, 'talk': 266, 'sooo': 267, 'someone': 268, 'text': 269, 'yes': 270, 'bet': 271, \"he'll\": 272, 'fit': 273, 'speech': 274, 'pity': 275, 'green': 276, 'garden': 277, 'midnight': 278, 'sun': 279, 'beautiful': 280, 'canal': 281, 'dasvidaniya': 282, 'till': 283, 'scout': 284, 'sg': 285, 'future': 286, 'wlan': 287, 'pro': 288, 'conference': 289, 'asia': 290, 'change': 291, 'lollipop': 292, '🍭': 293, 'nez': 294, 'agnezmo': 295, 'oley': 296, 'mama': 297, 'stand': 298, 'strong': 299, 'god': 300, 'misty': 301, 'baby': 302, 'cute': 303, 'woohoo': 304, \"can't\": 305, 'sign': 306, 'yet': 307, 'still': 308, 'think': 309, 'mka': 310, 'liam': 311, 'access': 312, 'welcome': 313, 'stats': 314, 'arrive': 315, '1': 316, 'unfollowers': 317, 'via': 318, 'surprise': 319, 'figure': 320, 'happybirthdayemilybett': 321, 'sweet': 322, 'talented': 323, 'amaze': 324, '2': 325, 'plan': 326, 'drain': 327, 'gotta': 328, 'timezones': 329, 'parent': 330, 'proud': 331, 'least': 332, 'maybe': 333, 'sometimes': 334, 'grade': 335, 'al': 336, 'grande': 337, 'manila_bro': 338, 'choose': 339, 'let': 340, 'around': 341, '..': 342, 'side': 343, 'world': 344, 'eh': 345, 'take': 346, 'care': 347, 'finally': 348, 'fuck': 349, 'weekend': 350, 'real': 351, 'x45': 352, 'join': 353, 'hushedcallwithfraydoe': 354, 'gift': 355, 'yeahhh': 356, 'hushedpinwithsammy': 357, 'event': 358, 'might': 359, 'luv': 360, 'really': 361, 'appreciate': 362, 'share': 363, 'wow': 364, 'tom': 365, 'gym': 366, 'monday': 367, 'invite': 368, 'scope': 369, 'influencer': 370, 'friend': 371, 'nude': 372, 'sleep': 373, 'birthday': 374, 'want': 375, 't-shirt': 376, 'cool': 377, 'haw': 378, 'phela': 379, 'mom': 380, 'obviously': 381, 'prince': 382, 'charm': 383, 'stage': 384, 'luck': 385, 'tyler': 386, 'hipster': 387, 'glass': 388, 'marty': 389, 'glad': 390, 'do': 391, 'afternoon': 392, 'read': 393, 'kahfi': 394, 'finish': 395, 'ohmyg': 396, 'yaya': 397, 'dub': 398, 'stalk': 399, 'ig': 400, 'gondooo': 401, 'moo': 402, 'tologooo': 403, 'become': 404, 'detail': 405, 'zzz': 406, 'xx': 407, 'physiotherapy': 408, 'hashtag': 409, 'custom': 410, '💪': 411, 'monica': 412, 'miss': 413, 'sound': 414, 'morning': 415, \"that's\": 416, 'x43': 417, 'definitely': 418, 'try': 419, 'tonight': 420, 'advice': 421, 'treviso': 422, 'concert': 423, 'city': 424, 'country': 425, \"i'll\": 426, 'start': 427, 'fine': 428, 'gorgeous': 429, 'xo': 430, 'oven': 431, 'roast': 432, 'garlic': 433, 'olive': 434, 'oil': 435, 'dry': 436, 'tomato': 437, 'dried': 438, 'basil': 439, 'century': 440, 'tuna': 441, 'right': 442, 'back': 443, 'atchya': 444, 'even': 445, 'almost': 446, 'chance': 447, 'cheer': 448, 'po': 449, 'ice': 450, 'cream': 451, 'agree': 452, '100': 453, 'hehehehe': 454, 'thats': 455, 'point': 456, 'stay': 457, 'home': 458, 'soon': 459, 'promise': 460, 'web': 461, 'whatsapp': 462, 'volta': 463, 'funcionar': 464, 'com': 465, 'iphone': 466, 'jailbroken': 467, 'later': 468, '34': 469, 'min': 470, 'leia': 471, 'appear': 472, 'hologram': 473, 'r2d2': 474, 'w': 475, 'message': 476, 'obi': 477, 'wan': 478, 'sit': 479, 'luke': 480, 'inter': 481, '3': 482, 'ucl': 483, 'arsenal': 484, 'small': 485, 'team': 486, 'passing': 487, '🚂': 488, 'dewsbury': 489, 'railway': 490, 'station': 491, 'dew': 492, 'west': 493, 'yorkshire': 494, '430': 495, 'smh': 496, '9:25': 497, 'live': 498, 'strange': 499, 'imagine': 500, 'megan': 501, 'masaantoday': 502, 'a4': 503, 'shweta': 504, 'tripathi': 505, '5': 506, '20': 507, 'kurta': 508, 'half': 509, 'number': 510, 'wsalelove': 511, 'ah': 512, 'larry': 513, 'anyway': 514, 'kinda': 515, 'goood': 516, 'life': 517, 'enn': 518, 'surely': 519, 'could': 520, 'warmup': 521, '15th': 522, 'bath': 523, 'dum': 524, 'andar': 525, 'ram': 526, 'sampath': 527, 'sona': 528, 'mohapatra': 529, 'samantha': 530, 'edward': 531, 'mein': 532, 'tulane': 533, 'razi': 534, 'wah': 535, 'josh': 536, 'always': 537, 'smile': 538, 'picture': 539, '16.20': 540, 'timing': 541, 'giveitup': 542, 'give': 543, 'gas': 544, 'subsidy': 545, 'initiative': 546, 'propose': 547, 'feeling': 548, 'delighted': 549, 'yesterday': 550, 'x42': 551, 'lmaoo': 552, 'song': 553, 'ever': 554, 'shall': 555, 'little': 556, 'throwback': 557, 'outlying': 558, 'island': 559, 'cheung': 560, 'chau': 561, 'mui': 562, 'wo': 563, 'totally': 564, 'different': 565, 'kfckitchentours': 566, 'kitchen': 567, 'clean': 568, \"i'm\": 569, 'amazed': 570, 'cusp': 571, 'test': 572, 'water': 573, 'reward': 574, 'arummzz': 575, \"let's\": 576, 'drive': 577, 'travel': 578, 'traveler': 579, 'yogyakarta': 580, 'jeep': 581, 'indonesia': 582, 'instamood': 583, 'wanna': 584, 'skype': 585, 'may': 586, 'nice': 587, 'friendly': 588, 'pretend': 589, 'film': 590, 'congratulation': 591, 'winner': 592, 'cheesydelights': 593, 'contest': 594, 'address': 595, 'guy': 596, 'marketing': 597, '24/7': 598, '14': 599, 'hour': 600, 'without': 601, 'delay': 602, 'actually': 603, 'easy': 604, 'guess': 605, 'train': 606, 'wd': 607, 'shift': 608, 'engine': 609, 'etc': 610, 'sunburn': 611, 'peel': 612, 'blog': 613, 'huge': 614, 'warm': 615, '☆': 616, 'complete': 617, 'triangle': 618, 'northern': 619, 'ireland': 620, 'sight': 621, 'smthng': 622, 'fr': 623, 'hug': 624, 'xoxo': 625, 'uu': 626, 'jaann': 627, 'topnewfollowers': 628, 'connect': 629, 'wonderful': 630, 'fluffy': 631, 'inside': 632, 'pirouette': 633, 'moose': 634, 'trip': 635, 'philly': 636, 'december': 637, \"i'd\": 638, 'dude': 639, 'x41': 640, 'question': 641, 'flaw': 642, 'pain': 643, 'negate': 644, 'strength': 645, 'solo': 646, 'move': 647, 'fav': 648, 'nirvana': 649, 'smell': 650, 'teen': 651, 'spirit': 652, 'rip': 653, 'amy': 654, 'winehouse': 655, 'couple': 656, 'tomhiddleston': 657, 'elizabetholsen': 658, 'yaytheylookgreat': 659, 'goodnight': 660, 'vid': 661, 'wake': 662, 'gonna': 663, 'shoot': 664, 'itty': 665, 'bitty': 666, 'teenie': 667, 'bikini': 668, 'much': 669, '4th': 670, 'together': 671, 'end': 672, 'xfiles': 673, 'content': 674, 'rain': 675, 'fabulous': 676, 'fantastic': 677, '♡': 678, 'jb': 679, 'forever': 680, 'belieber': 681, 'nighty': 682, 'bug': 683, 'bite': 684, 'bracelet': 685, 'idea': 686, 'foundry': 687, 'game': 688, 'sense': 689, 'pic': 690, 'eff': 691, 'phone': 692, 'woot': 693, 'derek': 694, 'use': 695, 'parkshare': 696, 'gloucestershire': 697, 'aaaahhh': 698, 'man': 699, 'traffic': 700, 'stress': 701, 'reliever': 702, \"how're\": 703, 'arbeloa': 704, 'turn': 705, '17': 706, 'omg': 707, 'difference': 708, 'say': 709, 'europe': 710, 'rise': 711, 'find': 712, 'hard': 713, 'believe': 714, 'uncountable': 715, 'coz': 716, 'unlimited': 717, 'course': 718, 'teampositive': 719, 'aldub': 720, '☕': 721, 'rita': 722, 'info': 723, \"we'd\": 724, 'way': 725, 'boy': 726, 'x40': 727, 'true': 728, 'sethi': 729, 'high': 730, 'exe': 731, 'skeem': 732, 'saam': 733, 'people': 734, 'polite': 735, 'izzat': 736, 'wese': 737, 'trust': 738, 'khawateen': 739, 'k': 740, 'sath': 741, 'mana': 742, 'kar': 743, 'deya': 744, 'evening': 745, 'sort': 746, 'smart': 747, 'hair': 748, 'tbh': 749, 'jacob': 750, 'g': 751, 'upgrade': 752, 'tee': 753, 'family': 754, 'reading': 755, 'person': 756, 'two': 757, 'conversation': 758, 'online': 759, 'mclaren': 760, 'fridayfeeling': 761, 'tgif': 762, 'square': 763, 'enix': 764, 'bissmillah': 765, 'ya': 766, 'allah': 767, \"we're\": 768, 'training': 769, 'socent': 770, 'startup': 771, 'drop': 772, 'youre': 773, 'arnd': 774, 'town': 775, 'basically': 776, 'piss': 777, 'cup': 778, 'also': 779, 'terrible': 780, 'complicated': 781, 'discussion': 782, 'snapchat': 783, 'lynettelowe': 784, 'kikmenow': 785, 'snapme': 786, 'hot': 787, 'amazon': 788, 'kikmeguys': 789, 'definately': 790, 'grow': 791, 'sport': 792, 'rt': 793, 'rakyat': 794, 'writing': 795, 'since': 796, 'mention': 797, 'fly': 798, 'fish': 799, 'promoted': 800, 'post': 801, 'cyber': 802, 'ourdaughtersourpride': 803, 'mypapamypride': 804, 'papa': 805, 'coach': 806, 'positive': 807, 'kha': 808, 'atleast': 809, 'x39': 810, 'mango': 811, \"lassi's\": 812, \"monty's\": 813, 'marvellous': 814, 'though': 815, 'suspect': 816, 'mean': 817, '24': 818, 'hr': 819, 'touch': 820, 'kepler': 821, '452b': 822, 'chalna': 823, 'hai': 824, 'thankyou': 825, 'hazel': 826, 'food': 827, 'market': 828, 'brooklyn': 829, 'pta': 830, 'awake': 831, 'okayy': 832, 'awww': 833, 'ha': 834, 'doc': 835, 'splendid': 836, 'spam': 837, 'folder': 838, 'amount': 839, 'nigeria': 840, 'claim': 841, 'rted': 842, 'legs': 843, 'hurt': 844, 'bad': 845, 'mine': 846, 'saturday': 847, 'thaaanks': 848, 'puhon': 849, 'happiness': 850, 'tnc': 851, 'prior': 852, 'notification': 853, 'fat': 854, 'co': 855, 'probably': 856, 'eat': 857, 'yuna': 858, 'tameside': 859, '´': 860, 'google': 861, 'account': 862, 'scouser': 863, 'everything': 864, 'zoe': 865, 'mate': 866, 'literally': 867, \"they're\": 868, 'sameee': 869, 'edgar': 870, 'update': 871, 'log': 872, 'bring': 873, 'abes': 874, 'meet': 875, 'x38': 876, 'sigh': 877, 'dreamily': 878, 'pout': 879, 'eye': 880, 'quacketyquack': 881, 'funny': 882, 'happen': 883, 'phil': 884, 'em': 885, 'del': 886, 'rodders': 887, 'else': 888, 'play': 889, 'gamejam': 890, 'irish': 891, 'literature': 892, 'inaccessible': 893, \"kareena's\": 894, 'fan': 895, 'brain': 896, 'dot': 897, 'braindots': 898, 'fair': 899, 'rush': 900, 'either': 901, 'brandi': 902, '18': 903, 'selfie': 904, 'carnival': 905, 'men': 906, 'put': 907, 'mask': 908, 'xavier': 909, 'forneret': 910, 'jennifer': 911, 'site': 912, 'free': 913, '50.000': 914, '8': 915, 'ball': 916, 'pool': 917, 'coin': 918, 'edit': 919, 'trish': 920, '♥': 921, 'gratefulness': 922, 'three': 923, 'grateful': 924, 'comment': 925, 'wakeup': 926, 'beside': 927, 'dirty': 928, 'sex': 929, 'lmaooo': 930, '😤': 931, 'louis': 932, \"he's\": 933, 'throw': 934, 'cause': 935, 'inspire': 936, 'ff': 937, 'twoofs': 938, 'gr8': 939, 'wkend': 940, 'kind': 941, 'exhausted': 942, 'word': 943, 'cheltenham': 944, 'area': 945, 'kale': 946, 'crisp': 947, 'ruin': 948, 'x37': 949, 'open': 950, 'worldwide': 951, 'outta': 952, 'sfvbeta': 953, 'vantastic': 954, 'xcylin': 955, 'bundle': 956, 'show': 957, 'internet': 958, 'price': 959, 'realisticly': 960, 'pay': 961, 'net': 962, 'education': 963, 'powerful': 964, 'weapon': 965, 'nelson': 966, 'mandela': 967, 'recent': 968, 'j': 969, 'chenab': 970, 'flow': 971, 'pakistan': 972, 'incredibleindia': 973, 'teenchoice': 974, 'choiceinternationalartist': 975, 'superjunior': 976, 'caught': 977, 'first': 978, 'salmon': 979, 'super-blend': 980, 'project': 981, 'youth@bipolaruk.org.uk': 982, 'awesome': 983, 'stream': 984, 'alma': 985, 'mater': 986, 'highschooldays': 987, 'clientvisit': 988, 'faith': 989, 'christian': 990, 'school': 991, 'lizaminnelli': 992, 'upcoming': 993, 'uk': 994, 'appearance': 995, '😄': 996, 'single': 997, 'hill': 998, 'every': 999, 'beat': 1000, 'wrong': 1001, 'ready': 1002, 'natural': 1003, 'pefumery': 1004, 'workshop': 1005, 'neals': 1006, 'yard': 1007, 'covent': 1008, 'tomorrow': 1009, 'fback': 1010, 'indo': 1011, 'harmos': 1012, 'americano': 1013, 'remember': 1014, 'aww': 1015, 'head': 1016, 'saw': 1017, 'dark': 1018, 'handshome': 1019, 'juga': 1020, 'hurray': 1021, 'meeting': 1022, 'hate': 1023, 'cant': 1024, 'decide': 1025, 'save': 1026, 'list': 1027, 'hiya': 1028, 'exec': 1029, 'loryn.good@lincs-chamber.co.uk': 1030, 'photo': 1031, 'thx': 1032, '4': 1033, 'china': 1034, 'homosexual': 1035, 'hyungbot': 1036, 'fam': 1037, 'mind': 1038, 'timetunnel': 1039, '1982': 1040, 'quite': 1041, 'radio': 1042, 'set': 1043, 'heart': 1044, 'hiii': 1045, 'jack': 1046, 'ily': 1047, '✨': 1048, 'domino': 1049, 'pub': 1050, 'heat': 1051, 'prob': 1052, 'sorry': 1053, 'hastily': 1054, 'type': 1055, 'screenshotting': 1056, 'pakistani': 1057, 'x36': 1058, '3points': 1059, 'dreamteam': 1060, 'gooo': 1061, 'bailey': 1062, 'pbb': 1063, '737gold': 1064, 'drink': 1065, 'old': 1066, '1/2': 1067, 'welsh': 1068, 'wale': 1069, 'yippee': 1070, '💟': 1071, 'bro': 1072, 'lord': 1073, 'michael': 1074, \"u're\": 1075, 'ure': 1076, 'bigot': 1077, 'usually': 1078, 'front': 1079, 'squat': 1080, 'dobar': 1081, 'dan': 1082, 'brand': 1083, 'heavy': 1084, 'musicology': 1085, '2015': 1086, 'spend': 1087, 'marathon': 1088, 'iflix': 1089, 'officially': 1090, 'graduate': 1091, 'cry': 1092, '__': 1093, 'yep': 1094, 'expert': 1095, 'bisexuality': 1096, 'minal': 1097, 'aidzin': 1098, 'yo': 1099, 'pi': 1100, 'cook': 1101, 'book': 1102, 'dinner': 1103, 'tough': 1104, 'choice': 1105, 'others': 1106, 'chill': 1107, 'smu': 1108, 'oval': 1109, 'basketball': 1110, 'player': 1111, 'whahahaha': 1112, 'soamazing': 1113, 'moment': 1114, 'onto': 1115, 'a5': 1116, 'wardrobe': 1117, 'user': 1118, 'teamred': 1119, 'apparently': 1120, 'hopefully': 1121, 'depends': 1122, 'greatly': 1123, 'design': 1124, 'ahhh': 1125, '7th': 1126, 'cinepambata': 1127, 'mechanic': 1128, 'official': 1129, 'form': 1130, 'download': 1131, 'ur': 1132, 'swishers': 1133, 'cop': 1134, 'ducktails': 1135, 'surreal': 1136, 'exposure': 1137, 'sotw': 1138, 'halesowen': 1139, 'blackcountryfair': 1140, 'street': 1141, 'assessment': 1142, 'mental': 1143, 'body': 1144, 'ooze': 1145, 'appeal': 1146, 'amassiveoverdoseofships': 1147, 'late': 1148, 'isi': 1149, 'chan': 1150, 'c': 1151, 'note': 1152, 'pkwalasawaal': 1153, 'gemma': 1154, 'orleans': 1155, 'fever': 1156, 'catch': 1157, 'geskenya': 1158, 'obamainkenya': 1159, 'magicalkenya': 1160, 'greatkenya': 1161, 'allgoodthingske': 1162, 'anime': 1163, 'umaru': 1164, 'singer': 1165, 'ship': 1166, 'order': 1167, 'room': 1168, 'car': 1169, 'hahaha': 1170, 'story': 1171, 'relate': 1172, 'label': 1173, 'batch': 1174, 'principal': 1175, 'due': 1176, 'march': 1177, 'wooftastic': 1178, 'receive': 1179, 'necessary': 1180, 'regret': 1181, 'rn': 1182, 'whatever': 1183, 'hat': 1184, 'success': 1185, 'abstinence': 1186, 'wtf': 1187, \"there's\": 1188, 'thrown': 1189, 'middle': 1190, 'repeat': 1191, 'relentlessly': 1192, 'approximately': 1193, 'oldschool': 1194, 'runescape': 1195, 'daaay': 1196, 'jumma_mubarik': 1197, 'frnds': 1198, 'stay_blessed': 1199, 'bless': 1200, 'pussycats': 1201, 'main': 1202, 'launch': 1203, 'pretoria': 1204, 'fahrinahmad': 1205, 'tengkuaaronshah': 1206, 'eksperimencinta': 1207, 'tykkäsin': 1208, 'videosta': 1209, 'month': 1210, 'hoodie': 1211, 'eeep': 1212, 'yay': 1213, 'sohappyrightnow': 1214, 'mmm': 1215, 'azz-sets': 1216, 'babe': 1217, 'feedback': 1218, 'gain': 1219, 'value': 1220, 'peaceful': 1221, 'refresh': 1222, 'manthan': 1223, 'tune': 1224, 'freshness': 1225, 'mother': 1226, 'determination': 1227, 'maxfreshmove': 1228, 'lonely': 1229, 'tattoo': 1230, 'friday.and': 1231, 'magnificent': 1232, 'e': 1233, 'achieve': 1234, 'rashmi': 1235, 'dedication': 1236, 'inspiration': 1237, 'happyfriday': 1238, 'nearly': 1239, 'retweeted': 1240, 'alert': 1241, 'da': 1242, 'dang': 1243, 'rad': 1244, 'fanart': 1245, 'massive': 1246, 'niamh': 1247, 'fennell': 1248, 'journalism': 1249, 'land': 1250, 'copying': 1251, 'paste': 1252, 'tweet': 1253, 'yesss': 1254, 'ariana': 1255, 'selena': 1256, 'gomez': 1257, 'tomlinson': 1258, 'payne': 1259, 'caradelevingne': 1260, '🌷': 1261, 'trade': 1262, 'tire': 1263, 'nope': 1264, 'apply': 1265, 'iamca': 1266, 'aftie': 1267, 'goodmorning': 1268, 'prokabaddi': 1269, 'koel': 1270, 'mallick': 1271, 'recite': 1272, 'national': 1273, 'anthem': 1274, '6': 1275, 'yournaturalleaders': 1276, 'youngnaturalleaders': 1277, 'mon': 1278, '27july': 1279, 'cumbria': 1280, 'flockstars': 1281, 'thur': 1282, '30july': 1283, 'itv': 1284, 'sleeptight': 1285, 'haveagoodday': 1286, 'leg': 1287, 'september': 1288, 'perhaps': 1289, 'bb': 1290, 'promote': 1291, 'full': 1292, 'album': 1293, 'fully': 1294, 'intend': 1295, 'write': 1296, 'possible': 1297, 'attack': 1298, '>:D': 1299, 'bird': 1300, 'teamadmicro': 1301, 'fridaydownpour': 1302, 'clear': 1303, 'rohit': 1304, 'queen': 1305, 'otwolgrandtrailer': 1306, 'sheer': 1307, 'fact': 1308, 'obama': 1309, 'innumerable': 1310, 'odds': 1311, 'president': 1312, 'ni': 1313, 'shauri': 1314, 'yako': 1315, 'memotohaters': 1316, 'sunday': 1317, 'pamper': 1318, \"t'was\": 1319, 'cabincrew': 1320, 'interview': 1321, 'langkawi': 1322, '1st': 1323, 'august': 1324, 'fulfil': 1325, 'fantasy': 1326, '👉': 1327, 'thinking': 1328, 'ex-twelebs': 1329, 'friends': 1330, 'apartment': 1331, 'makeover': 1332, 'brilliantly': 1333, 'happyyy': 1334, 'birthdaaayyy': 1335, 'kill': 1336, 'interested': 1337, 'internship': 1338, 'program': 1339, 'sadly': 1340, 'career': 1341, 'page': 1342, 'issue': 1343, 'sad': 1344, 'overwhelmingly': 1345, 'aha': 1346, 'beauts': 1347, '♬': 1348, 'win': 1349, 'deo': 1350, 'faaabulous': 1351, 'freebiefriday': 1352, 'aluminiumfree': 1353, 'stayfresh': 1354, 'john': 1355, 'worry': 1356, 'navigate': 1357, 'thnks': 1358, 'progrmr': 1359, '9pm': 1360, '9am': 1361, 'quit': 1362, 'hardly': 1363, 'surprising': 1364, 'roses': 1365, 'emotive': 1366, 'poetry': 1367, 'frequentflyer': 1368, 'break': 1369, 'apologize': 1370, 'kb': 1371, 'londondairy': 1372, 'icecream': 1373, 'experience': 1374, 'past': 1375, 'cover': 1376, 'sin': 1377, 'excited': 1378, \":')\": 1379, 'xxx': 1380, 'jim': 1381, 'chuckle': 1382, 'shopping': 1383, 'cake': 1384, 'doh': 1385, '500': 1386, 'subscriber': 1387, 'reach': 1388, 'scorch': 1389, 'summer': 1390, 'young': 1391, 'woman': 1392, 'stamen': 1393, 'expect': 1394, 'anything': 1395, 'less': 1396, 'tweeties': 1397, 'fab': 1398, 'dont': 1399, '-->': 1400, '10': 1401, 'loner': 1402, 'introduce': 1403, 'v': 1404, 'alter': 1405, 'understanding': 1406, 'spread': 1407, 'problem': 1408, 'supa': 1409, 'dupa': 1410, 'near': 1411, 'dartmoor': 1412, 'gold': 1413, 'colour': 1414, 'ok': 1415, 'someday': 1416, 'r': 1417, 'dii': 1418, 'n': 1419, 'forget': 1420, 'si': 1421, 'smf': 1422, 'ft': 1423, 'japanese': 1424, 'import': 1425, 'kitty': 1426, 'matching': 1427, 'stationary': 1428, 'draw': 1429, 'close': 1430, 'specialise': 1431, 'thermal': 1432, 'image': 1433, 'survey': 1434, '–': 1435, 'south': 1436, 'korea': 1437, 'scamper': 1438, 'alarm': 1439, \"ain't\": 1440, 'mad': 1441, 'chweina': 1442, 'xd': 1443, 'jotzh': 1444, 'waste': 1445, 'place': 1446, 'completely': 1447, 'worth': 1448, 'coat': 1449, 'beforehand': 1450, 'tho': 1451, 'foh': 1452, 'outside': 1453, 'holiday': 1454, 'menace': 1455, 'jojo': 1456, 'ta': 1457, 'accepted': 1458, 'guys': 1459, 'admin': 1460, 'lukris': 1461, '😘': 1462, 'momma': 1463, 'bear': 1464, '❤': 1465, '️': 1466, 'redo': 1467, '8th': 1468, 'v.ball': 1469, 'atm': 1470, 'retweets': 1471, 'build': 1472, 'pack': 1473, 'suitcase': 1474, 'hang-copying': 1475, 'translation': 1476, \"dostoevsky's\": 1477, 'voucher': 1478, 'bugatti': 1479, 'bra': 1480, 'مطعم_هاشم': 1481, 'yummy': 1482, 'a7la': 1483, 'bdayt': 1484, 'mnwreeen': 1485, 'jazz': 1486, 'truck': 1487, 'x34': 1488, 'speak': 1489, 'pbevent': 1490, 'hq': 1491, 'yoona': 1492, 'hairpin': 1493, 'otp': 1494, 'collection': 1495, 'mastership': 1496, 'honey': 1497, 'paindo': 1498, 'await': 1499, 'report': 1500, 'manny': 1501, 'asshole': 1502, 'brijresidency': 1503, 'structure': 1504, '156': 1505, 'unit': 1506, 'encompass': 1507, 'bhk': 1508, 'flat': 1509, '91': 1510, '975-580-': 1511, '444': 1512, 'honor': 1513, 'curry': 1514, 'clash': 1515, 'milano': 1516, '👌': 1517, 'followback': 1518, ':-D': 1519, 'legit': 1520, 'loser': 1521, 'dead': 1522, 'starsquad': 1523, '⭐': 1524, 'news': 1525, 'utc': 1526, 'flume': 1527, 'kaytranada': 1528, 'alunageorge': 1529, 'ticket': 1530, 'kms': 1531, 'certainty': 1532, 'solve': 1533, 'faster': 1534, '👊': 1535, 'hurry': 1536, 'totem': 1537, 'somewhere': 1538, 'alice': 1539, 'dog': 1540, 'cat': 1541, 'goodwynsgoodies': 1542, 'ugh': 1543, 'fade': 1544, 'moan': 1545, 'leeds': 1546, 'jozi': 1547, 'wasnt': 1548, 'fifth': 1549, 'available': 1550, 'tix': 1551, 'pa': 1552, 'ba': 1553, 'ng': 1554, 'atl': 1555, 'coldplay': 1556, 'favorite': 1557, 'scientist': 1558, 'yellow': 1559, 'atlas': 1560, 'yein': 1561, 'selos': 1562, 'jabongatpumaurbanstampede': 1563, 'an': 1564, '7': 1565, 'timely': 1566, 'arrival': 1567, 'waiter': 1568, 'bill': 1569, 'sir': 1570, 'title': 1571, 'pocket': 1572, 'wripped': 1573, 'jean': 1574, 'connie': 1575, 'crew': 1576, 'staff': 1577, 'sweetan': 1578, 'ask': 1579, 'filming': 1580, 'mum': 1581, 'beg': 1582, 'soprano': 1583, 'ukraine': 1584, 'x33': 1585, 'olly': 1586, 'disney.arts': 1587, 'elmoprinssi': 1588, 'tired': 1589, 'salsa': 1590, 'dance': 1591, 'tell': 1592, 'truth': 1593, 'pls': 1594, '4-6': 1595, 'interest': 1596, '2nd': 1597, 'blogiversary': 1598, 'review': 1599, 'cutie': 1600, 'bohol': 1601, 'briliant': 1602, 'key': 1603, 'annual': 1604, 'productive': 1605, 'far': 1606, 'spin': 1607, 'voice': 1608, '\\U000fe334': 1609, 'yeheyy': 1610, 'pinya': 1611, 'whoooah': 1612, 'trance': 1613, 'lover': 1614, 'subject': 1615, 'physic': 1616, 'stop': 1617, 'ब': 1618, 'matter': 1619, 'jungle': 1620, 'accommodate': 1621, 'secret': 1622, 'behind': 1623, 'sandroforceo': 1624, 'ceo': 1625, '1month': 1626, 'swag': 1627, 'mia': 1628, 'workinprogress': 1629, 'finnigan': 1630, 'loyal': 1631, 'royal': 1632, 'fotoset': 1633, 'reusful': 1634, 'seem': 1635, 'somebody': 1636, 'sell': 1637, 'understand': 1638, 'muntu': 1639, 'another': 1640, 'gem': 1641, 'falcos': 1642, 'supersmash': 1643, 'hotnsexy': 1644, 'friskyfriday': 1645, 'beach': 1646, 'movie': 1647, 'crop': 1648, 'nash': 1649, 'tissue': 1650, 'chocolate': 1651, 'tea': 1652, 'hannibal': 1653, 'episode': 1654, 'hotbed': 1655, 'bush': 1656, 'classicassures': 1657, 'thrill': 1658, 'international': 1659, 'assignment': 1660, 'aerial': 1661, 'camera': 1662, 'operator': 1663, 'wales': 1664, 'boom': 1665, 'hong': 1666, 'kong': 1667, 'ferry': 1668, 'central': 1669, 'girlfriend': 1670, 'after-work': 1671, 'dj': 1672, 'resto': 1673, 'drinkt': 1674, 'koffie': 1675, 'a6': 1676, 'stargate': 1677, 'atlantis': 1678, 'muaahhh': 1679, 'ohh': 1680, 'hii': 1681, '🙈': 1682, 'di': 1683, 'nagsend': 1684, 'yung': 1685, 'ko': 1686, '</3': 1687, 'ulit': 1688, '🎉': 1689, '🎈': 1690, 'ugly': 1691, 'leggete': 1692, 'qui': 1693, 'per': 1694, 'la': 1695, 'mar': 1696, 'encourage': 1697, 'employer': 1698, 'board': 1699, 'sticker': 1700, 'sponsor': 1701, 'prize': 1702, '(:': 1703, 'milo': 1704, 'aurini': 1705, 'juicebro': 1706, 'fucking': 1707, 'pillar': 1708, 'respective': 1709, 'boii': 1710, 'smashingbook': 1711, 'bible': 1712, 'ill': 1713, 'sick': 1714, 'lamo': 1715, 'fangirl': 1716, 'platonic': 1717, 'science': 1718, 'resident': 1719, 'servicewithasmile': 1720, 'fams': 1721, 'bloodline': 1722, 'husky': 1723, 'obituary': 1724, 'advert': 1725, 'goofingaround': 1726, 'madness': 1727, 'bollywood': 1728, 'giveaway': 1729, 'dah': 1730, 'nothing': 1731, 'bitterness': 1732, 'anger': 1733, 'hatred': 1734, 'towards': 1735, 'pure': 1736, 'indifference': 1737, 'suite': 1738, 'zach': 1739, 'cody': 1740, 'deliver': 1741, 'ac': 1742, 'excellence': 1743, 'producer': 1744, 'boggling': 1745, 'fatigue': 1746, 'baareeq': 1747, 'gamedev': 1748, 'hobby': 1749, 'tweenie_fox': 1750, 'click': 1751, 'accessory': 1752, 'tamang': 1753, 'hinala': 1754, 'niam': 1755, 'selfieee': 1756, 'especially': 1757, 'lass': 1758, 'aling': 1759, 'swim': 1760, 'perfection': 1761, 'bout': 1762, 'goodbye': 1763, 'feminist': 1764, 'fight': 1765, 'snobby': 1766, 'bitch': 1767, 'caroline': 1768, 'mighty': 1769, '🔥': 1770, 'hbd': 1771, 'follback': 1772, 'jog': 1773, 'remote': 1774, 'newly': 1775, 'ebay': 1776, 'store': 1777, 'disneyinfinity': 1778, 'starwars': 1779, 'character': 1780, 'preorder': 1781, 'starter': 1782, 'hit': 1783, 'snap': 1784, 'homies': 1785, 'skin': 1786, 'bday': 1787, 'chant': 1788, 'jai': 1789, 'italy': 1790, 'fast': 1791, 'heeeyyy': 1792, 'woah': 1793, '★': 1794, '😊': 1795, 'whenever': 1796, 'ang': 1797, 'kiss': 1798, 'philippine': 1799, 'package': 1800, 'bruise': 1801, 'rib': 1802, '😀': 1803, '😁': 1804, '😂': 1805, '😃': 1806, '😅': 1807, '😉': 1808, 'tombraider': 1809, 'hype': 1810, 'thejuiceinthemix': 1811, 'rela': 1812, 'building': 1813, 'low': 1814, 'priority': 1815, 'match': 1816, 'harry': 1817, 'bc': 1818, 'opportune': 1819, 'collapse': 1820, 'chaotic': 1821, 'cosas': 1822, '<---': 1823, 'alliteration': 1824, 'oppayaa': 1825, \"how's\": 1826, 'natgeo': 1827, 'lick': 1828, 'elbow': 1829, '. .': 1830, 'interesting': 1831, '“': 1832, 'emu': 1833, 'stoke': 1834, \"people's\": 1835, 'approval': 1836, \"god's\": 1837, 'jisung': 1838, 'kid': 1839, 'sunshine': 1840, 'mm': 1841, 'nicola': 1842, 'brighten': 1843, 'helen': 1844, 'brian': 1845, '2-3': 1846, 'australia': 1847, 'ol': 1848, 'bone': 1849, 'creaking': 1850, 'abuti': 1851, 'tweetland': 1852, 'android': 1853, 'xmas': 1854, 'skyblock': 1855, 'standing': 1856, 'bcause': 1857, '2009': 1858, 'die': 1859, 'twitch': 1860, 'sympathy': 1861, 'laugh': 1862, 'unnieee': 1863, 'nuka': 1864, 'penacova': 1865, 'djset': 1866, 'edm': 1867, 'kizomba': 1868, 'latinhouse': 1869, 'housemusic': 1870, 'portugal': 1871, 'wild': 1872, 'ride': 1873, 'anytime': 1874, 'taste': 1875, 'yer': 1876, 'mtn': 1877, 'maganda': 1878, 'mistress': 1879, 'saphire': 1880, 'busy': 1881, '4000': 1882, 'instagram': 1883, 'among': 1884, 'coconut': 1885, 'sambal': 1886, 'mussel': 1887, 'recipe': 1888, 'kalin': 1889, 'mixcloud': 1890, 'sarcasm': 1891, 'chelsea': 1892, 'he': 1893, 'useless': 1894, 'thursday': 1895, 'hang': 1896, 'hehe': 1897, 'benson': 1898, 'facebook': 1899, 'solid': 1900, '16/17': 1901, '30': 1902, '°': 1903, '😜': 1904, 'maryhicks': 1905, 'kikmeboys': 1906, 'photooftheday': 1907, 'musicbiz': 1908, 'sheskindahot': 1909, 'fleekile': 1910, 'mbalula': 1911, 'africa': 1912, 'mexican': 1913, 'scar': 1914, 'office': 1915, 'donut': 1916, 'foiegras': 1917, 'despite': 1918, 'weather': 1919, 'wedding': 1920, 'tony': 1921, 'stark': 1922, 'incredible': 1923, 'poem': 1924, 'bubble': 1925, 'dale': 1926, 'billion': 1927, 'magical': 1928, 'op': 1929, 'cast': 1930, 'vote': 1931, 'election': 1932, 'jcreport': 1933, 'piggin': 1934, 'peace': 1935, 'botanical': 1936, 'soap': 1937, 'upload': 1938, 'freshly': 1939, '3weeks': 1940, 'heal': 1941, 'exciting': 1942, 'tobi-bro': 1943, 'isp': 1944, 'steel': 1945, 'wednesday': 1946, 'swear': 1947, 'earlier': 1948, 'cam': 1949, '😭': 1950, 'except': 1951, \"masha'allah\": 1952, 'french': 1953, 'wwat': 1954, 'france': 1955, 'yaaay': 1956, 'beiruting': 1957, 'coffee': 1958, 'panda': 1959, 'eonnie': 1960, 'favourite': 1961, 'soda': 1962, 'fuller': 1963, 'shit': 1964, 'healthy': 1965, '💓': 1966, 'rettweet': 1967, 'mvg': 1968, 'valuable': 1969, 'madrid': 1970, 'sore': 1971, 'bergerac': 1972, 'u21': 1973, 'individual': 1974, 'excellent': 1975, 'adam': 1976, \"beach's\": 1977, 'suicide': 1978, 'squad': 1979, 'fond': 1980, 'christopher': 1981, 'initially': 1982, 'cocky': 1983, 'prove': 1984, \"attitude's\": 1985, 'improve': 1986, 'suggest': 1987, 'date': 1988, 'indeed': 1989, 'happys': 1990, 'intelligent': 1991, 'cs': 1992, 'certain': 1993, 'exam': 1994, 'forgot': 1995, 'home-based': 1996, 'knee': 1997, 'sale': 1998, 'fleur': 1999, 'dress': 2000, 'readystock_hijabmart': 2001, 'idr': 2002, '325.000': 2003, '200.000': 2004, 'tompolo': 2005, 'aim': 2006, 'cannot': 2007, 'buyer': 2008, 'disappoint': 2009, 'paper': 2010, 'slacking': 2011, 'crack': 2012, 'particularly': 2013, 'striking': 2014, '31': 2015, 'mam': 2016, 'feytyaz': 2017, 'instant': 2018, 'stiffening': 2019, 'ricky_febs': 2020, 'grindea': 2021, 'courier': 2022, 'crypt': 2023, 'possibly': 2024, 'arma': 2025, 'record': 2026, 'gosh': 2027, 'limbo': 2028, 'retweeting': 2029, 'orchard': 2030, 'art': 2031, 'super': 2032, 'karachi': 2033, 'ka': 2034, 'venice': 2035, 'several': 2036, 'part': 2037, 'witness': 2038, 'accumulate': 2039, 'maroon': 2040, 'cocktail': 2041, '0-100': 2042, 'quick': 2043, '1100d': 2044, 'auto-focus': 2045, 'manual': 2046, 'vein': 2047, 'crackle': 2048, 'glaze': 2049, 'layout': 2050, 'bomb': 2051, 'social': 2052, 'website': 2053, 'pake': 2054, 'joim': 2055, 'fee': 2056, 'troop': 2057, 'beauty': 2058, 'mail': 2059, 'ladolcevitainluxembourg@hotmail.com': 2060, 'prrequest': 2061, 'journorequest': 2062, 'the_madstork': 2063, 'shaun': 2064, 'bot': 2065, 'chloe': 2066, 'actress': 2067, 'away': 2068, 'wicked': 2069, 'hola': 2070, 'juan': 2071, 'sending': 2072, 'houston': 2073, 'tx': 2074, 'jenni': 2075, \"year's\": 2076, 'stumble': 2077, 'upon': 2078, 'prob.nice': 2079, 'choker': 2080, 'btw': 2081, 'seouljins': 2082, 'photoset': 2083, 'sadomasochistsparadise': 2084, 'wynter': 2085, 'bottom': 2086, 'outtake': 2087, 'sadomasochist': 2088, 'paradise': 2089, 'cuties': 2090, 'ty': 2091, 'bby': 2092, 'clip': 2093, 'lose': 2094, 'cypher': 2095, 'amen': 2096, 'x32': 2097, 'plant': 2098, 'allow': 2099, 'corner': 2100, 'addict': 2101, 'gurl': 2102, 'suck': 2103, 'special': 2104, 'owe': 2105, 'daniel': 2106, 'ape': 2107, 'saar': 2108, 'ahead': 2109, 'verse': 2110, 'butterfly': 2111, 'bonus': 2112, 'fill': 2113, 'tear': 2114, 'laughter': 2115, '5sos': 2116, 'yummmyyy': 2117, 'dosa': 2118, 'unless': 2119, 'achi': 2120, 'youuu': 2121, 'bawi': 2122, 'ako': 2123, 'queenesther': 2124, 'sharp': 2125, 'wonder': 2126, 'poldi': 2127, 'cimbom': 2128, 'buddy': 2129, 'bruhhh': 2130, 'daddy': 2131, '”': 2132, 'communal': 2133, 'knowledge': 2134, 'attention': 2135, '1tb': 2136, 'bank': 2137, 'credit': 2138, 'department': 2139, 'anz': 2140, 'extreme': 2141, 'offshoring': 2142, 'absolutely': 2143, 'classic': 2144, 'gottolovebanks': 2145, 'yup': 2146, 'in-shaa-allah': 2147, 'dua': 2148, 'thru': 2149, 'aameen': 2150, '4/5': 2151, 'coca': 2152, 'cola': 2153, 'fanta': 2154, 'pepsi': 2155, 'sprite': 2156, 'alls': 2157, 'sweeety': 2158, ';-)': 2159, 'welcometweet': 2160, 'psygustokita': 2161, 'setup': 2162, 'wet': 2163, 'foot': 2164, 'carpet': 2165, 'judgmental': 2166, 'hypocritical': 2167, 'narcissist': 2168, 'jumpsuit': 2169, 'bt': 2170, 'denim': 2171, 'verge': 2172, 'owl': 2173, 'constant': 2174, 'run': 2175, 'sia': 2176, 'count': 2177, 'brilliant': 2178, 'teacher': 2179, 'comparative': 2180, 'religion': 2181, 'rant': 2182, 'student': 2183, 'benchers': 2184, '1/5': 2185, 'porsche': 2186, 'paddock': 2187, 'budapestgp': 2188, 'johnyherbert': 2189, 'roll': 2190, 'porschesupercup': 2191, 'koyal': 2192, 'melody': 2193, 'unexpected': 2194, 'create': 2195, 'memory': 2196, '35': 2197, 'eps': 2198, 'wirh': 2199, 'arc': 2200, 'x31': 2201, 'wolf': 2202, 'fulfill': 2203, 'desire': 2204, 'ameen': 2205, 'kca': 2206, 'votejkt': 2207, '48id': 2208, 'helpinggroupdms': 2209, 'quote': 2210, 'weird': 2211, 'dp': 2212, 'wife': 2213, 'poor': 2214, 'chick': 2215, 'guide': 2216, 'zonzofox': 2217, 'bhaiya': 2218, 'brother': 2219, 'lucky': 2220, 'patty': 2221, 'elaborate': 2222, 'kuching': 2223, 'rate': 2224, 'merdeka': 2225, 'palace': 2226, 'hotel': 2227, 'plusmiles': 2228, 'service': 2229, 'hahahaa': 2230, 'nex': 2231, 'safe': 2232, 'gwd': 2233, 'shes': 2234, 'okok': 2235, '33': 2236, 'idiot': 2237, 'chaerin': 2238, 'unnie': 2239, 'viable': 2240, 'alternative': 2241, 'nowadays': 2242, 'pass': 2243, 'ip': 2244, 'tombow': 2245, 'abt': 2246, 'friyay': 2247, 'smug': 2248, 'marrickville': 2249, 'public': 2250, 'ten': 2251, 'ago': 2252, 'eighteen': 2253, 'auvssscr': 2254, 'ncaaseason': 2255, 'slow': 2256, 'popsicle': 2257, 'soft': 2258, 'melt': 2259, 'mouth': 2260, 'thankyouuu': 2261, 'dianna': 2262, 'ngga': 2263, 'usah': 2264, 'dipikirin': 2265, 'elah': 2266, 'easily': 2267, \"who's\": 2268, 'entp': 2269, 'killin': 2270, 'meme': 2271, 'worthy': 2272, 'shot': 2273, 'emon': 2274, 'decent': 2275, 'outdoor': 2276, 'rave': 2277, 'dv': 2278, 'aku': 2279, 'bakal': 2280, 'liat': 2281, 'kak': 2282, 'merry': 2283, 'tv': 2284, 'outfit': 2285, '--->': 2286, 'fashionfriday': 2287, 'angle.nelson': 2288, 'cheap': 2289, 'mymonsoonstory': 2290, 'tree': 2291, 'lotion': 2292, 'moisturize': 2293, 'important': 2294, 'monsoon': 2295, 'whoop': 2296, 'romantic': 2297, 'valencia': 2298, 'daaru': 2299, 'party': 2300, 'chaddi': 2301, 'bros': 2302, 'wonderful.great': 2303, 'closely': 2304, 'trim': 2305, 'pubes': 2306, 'mi': 2307, 'tio': 2308, 'sinaloa': 2309, 'arre': 2310, 'stylish': 2311, 'trendy': 2312, 'kim': 2313, 'fabfriday': 2314, 'facetime': 2315, 'calum': 2316, 'constantly': 2317, 'announce': 2318, 'filbarbarian': 2319, 'beer': 2320, 'broken': 2321, 'arm': 2322, 'testicle': 2323, 'light': 2324, 'katerina': 2325, 'maniataki': 2326, 'ahh': 2327, 'alright': 2328, 'worthwhile': 2329, 'judging': 2330, 'tech': 2331, 'window': 2332, 'stupid': 2333, 'plugin': 2334, 'bass': 2335, 'slap': 2336, '6pm': 2337, 'door': 2338, 'vip': 2339, 'general': 2340, 'seat': 2341, 'early': 2342, 'london': 2343, 'toptravelcentar': 2344, 'ttctop': 2345, 'lux': 2346, 'luxurytravel': 2347, 'beograd': 2348, 'srbija': 2349, 'putovanja': 2350, 'wendy': 2351, 'provide': 2352, 'fresh': 2353, 'drainage': 2354, 'homebound': 2355, 'hahahays': 2356, 'yeeeah': 2357, 'moar': 2358, 'kittehs': 2359, 'incoming': 2360, 'tower': 2361, 'yippeee': 2362, 'scrummy': 2363, 'bio': 2364, 'mcpe': 2365, '->': 2366, 'vainglory': 2367, 'driver': 2368, '6:01': 2369, 'lilydale': 2370, 'fss': 2371, 'raise': 2372, 'magicalmysterytour': 2373, 'chek': 2374, 'rule': 2375, 'weebly': 2376, 'donetsk': 2377, 'earth': 2378, 'personalise': 2379, 'wrap': 2380, 'business': 2381, 'stationery': 2382, 'adrian': 2383, 'parcel': 2384, 'tuesday': 2385, 'pris': 2386, '80': 2387, 'wz': 2388, 'pattern': 2389, 'cut': 2390, 'buttonhole': 2391, 'finishing': 2392, '4my': 2393, 'designer': 2394, 'famous': 2395, 'client': 2396, 'p': 2397, 'alive': 2398, 'trial': 2399, 'spm': 2400, 'dinooo': 2401, 'cardio': 2402, 'steak': 2403, 'cue': 2404, 'laptop': 2405, 'excite': 2406, 'guinea': 2407, 'pig': 2408, 'bestfriends': 2409, 'salamat': 2410, 'sa': 2411, 'mga': 2412, 'nag.greet': 2413, 'appreciated': 2414, 'guise': 2415, 'godbless': 2416, 'crush': 2417, 'apple': 2418, 'ga': 2419, 'deserve': 2420, 'charles': 2421, 'workhard': 2422, 'model': 2423, 'forrit': 2424, 'bread': 2425, 'bacon': 2426, 'butter': 2427, 'afang': 2428, 'soup': 2429, 'semo': 2430, 'brb': 2431, 'force': 2432, 'doesnt': 2433, 'tato': 2434, 'bulat': 2435, 'discuss': 2436, 'suggestion': 2437, 'concerned': 2438, 'snake': 2439, 'perform': 2440, 'con': 2441, 'todayyy': 2442, 'max': 2443, 'gaza': 2444, 'retweet': 2445, 'bbb': 2446, 'peacefully': 2447, 'pc': 2448, '22': 2449, 'legal': 2450, 'ditch': 2451, 'tory': 2452, 'bajrangibhaijaanhighestweek': 2453, \"s'okay\": 2454, 'andy': 2455, 'you-and': 2456, 'return': 2457, 'tuitutil': 2458, 'bud': 2459, 'learn': 2460, 'takeaway': 2461, 'slept': 2462, 'instead': 2463, '1hr': 2464, 'genial': 2465, 'competition': 2466, 'yosh': 2467, 'procrastinate': 2468, 'plus': 2469, 'sorting': 2470, 'kfc': 2471, 'itunes': 2472, 'dedicatedfan': 2473, '💜': 2474, 'daft': 2475, 'teethe': 2476, 'trouble': 2477, 'huxley': 2478, 'basket': 2479, 'ben': 2480, 'gamer': 2481, 'active': 2482, '120': 2483, 'distance': 2484, 'suitable': 2485, 'final': 2486, 'stockholm': 2487, 'zack': 2488, 'destroy': 2489, 'heel': 2490, 'claw': 2491, 'q': 2492, 'blonde': 2493, 'box': 2494, 'cheerio': 2495, 'seed': 2496, 'cutest': 2497, 'ffback': 2498, 'spotify': 2499, \"we've\": 2500, 'vc': 2501, 'tgp': 2502, 'race': 2503, 'average': 2504, \"joe's\": 2505, 'bluejays': 2506, 'vinylbear': 2507, 'pal': 2508, 'furbaby': 2509, 'luff': 2510, 'mega': 2511, 'retail': 2512, 'boot': 2513, 'whsmith': 2514, 'ps3': 2515, 'shannon': 2516, 'na': 2517, 'redecorate': 2518, 'bob': 2519, 'ellie': 2520, 'mairi': 2521, 'workout': 2522, 'impair': 2523, 'uggghhh': 2524, 'dam': 2525, 'dun': 2526, 'eczema': 2527, 'sufferer': 2528, 'ndee': 2529, 'pleasure': 2530, 'publilius': 2531, 'syrus': 2532, 'fear': 2533, 'death': 2534, 'dread': 2535, 'fell': 2536, 'fuk': 2537, 'unblock': 2538, 'manually': 2539, 'tweak': 2540, 'php': 2541, 'fall': 2542, 'oomf': 2543, 'pippa': 2544, 'hschool': 2545, 'bus': 2546, 'cardi': 2547, 'everyday': 2548, 'everytime': 2549, 'hk': 2550, \"why'd\": 2551, 'acorn': 2552, 'originally': 2553, 'c64': 2554, 'apart': 2555, 'cpu': 2556, 'considerably': 2557, 'advanced': 2558, 'onair': 2559, 'bay': 2560, 'hold': 2561, 'river': 2562, '0878 0388': 2563, '1033': 2564, '0272 3306': 2565, '70': 2566, 'rescue': 2567, 'mutt': 2568, 'confirm': 2569, 'delivery': 2570, 'switch': 2571, 'lap': 2572, 'optimize': 2573, 'lu': 2574, ':|': 2575, 'tweetofthedecade': 2576, ':P': 2577, 'class': 2578, 'happiest': 2579, 'bbmme': 2580, 'pin': 2581, '7df9e60a': 2582, 'bbm': 2583, 'bbmpin': 2584, 'addmeonbbm': 2585, 'addme': 2586, \"today's\": 2587, 'normal': 2588, 'menu': 2589, 'marry': 2590, 'glenn': 2591, 'whats': 2592, 'height': 2593, \"sculptor's\": 2594, 'ti5': 2595, 'dota': 2596, 'nudge': 2597, 'spot': 2598, 'tasty': 2599, 'hilly': 2600, 'cycle': 2601, 'england': 2602, 'scotlandismassive': 2603, 'gen': 2604, 'vikk': 2605, 'fna': 2606, 'mombasa': 2607, 'tukutanemombasa': 2608, '100reasonstovisitmombasa': 2609, 'karibumombasa': 2610, 'hanbin': 2611, 'certainly': 2612, 'goosnight': 2613, 'kindly': 2614, 'familiar': 2615, 'jealous': 2616, 'tent': 2617, 'yea': 2618, 'cozy': 2619, 'phenomenal': 2620, 'collab': 2621, 'birth': 2622, 'behave': 2623, 'monster': 2624, 'spree': 2625, '000': 2626, 'tank': 2627, 'outstanding': 2628, 'donation': 2629, 'h': 2630, 'contestkiduniya': 2631, 'mfundo': 2632, 'oche': 2633, 'hun': 2634, 'inner': 2635, 'nerd': 2636, 'tame': 2637, 'insidious': 2638, 'logic': 2639, 'math': 2640, 'channel': 2641, 'continue': 2642, 'doubt': 2643, '300': 2644, 'sub': 2645, '200': 2646, 'subs': 2647, 'forgiven': 2648, 'wonderfuls': 2649, 'mannerfuls': 2650, 'yhooo': 2651, 'ngi': 2652, 'mood': 2653, 'push': 2654, 'limit': 2655, 'obakeng': 2656, 'goat': 2657, 'alhamdullilah': 2658, 'pebble': 2659, 'engross': 2660, 'bing': 2661, 'scream': 2662, 'whole': 2663, 'wide': 2664, '🌎': 2665, '😧': 2666, 'wat': 2667, 'muahhh': 2668, 'pausetime': 2669, 'drift': 2670, 'loose': 2671, 'campaign': 2672, 'kickstarter': 2673, 'article': 2674, 'absolute': 2675, 'jenna': 2676, 'bellybutton': 2677, 'innie': 2678, 'outie': 2679, 'havent': 2680, 'delish': 2681, 'joselito': 2682, 'freya': 2683, 'nth': 2684, 'latepost': 2685, 'lupet': 2686, 'mo': 2687, 'eric': 2688, 'askaman': 2689, 'helpful': 2690, 'alternatively': 2691, '150': 2692, '0345': 2693, '454': 2694, '111': 2695, 'webz': 2696, 'oops': 2697, \"they'll\": 2698, 'realise': 2699, 'anymore': 2700, 'carmel': 2701, 'decision': 2702, 'matt': 2703, 'probs': 2704, '@commonculture': 2705, '@connorfranta': 2706, 'honestly': 2707, 'explain': 2708, 'relationship': 2709, 'pick': 2710, 'tessnzach': 2711, 'paperboy': 2712, 'honest': 2713, 'reassure': 2714, 'personal': 2715, 'guysss': 2716, 'mubank': 2717, \"dongwoo's\": 2718, 'bright': 2719, 'tommorow': 2720, 'newyork': 2721, 'magic': 2722, 'lolll': 2723, 'twinx': 2724, '16': 2725, 'path': 2726, 'firmansyahbl': 2727, 'usual': 2728, 'procedure': 2729, 'grim': 2730, 'fandango': 2731, 'ordinary': 2732, 'extraordinary': 2733, 'bos': 2734, 'birmingham': 2735, 'oracle': 2736, 'samosa': 2737, 'fireball': 2738, 'shoe': 2739, 'serve': 2740, 'sushi': 2741, 'shoeshi': 2742, '�': 2743, 'lymond': 2744, 'philippa': 2745, 'novel': 2746, 'tara': 2747, '. . .': 2748, 'aur': 2749, 'han': 2750, 'imran': 2751, 'khan': 2752, '63': 2753, 'agaaain': 2754, 'doli': 2755, 'siregar': 2756, 'ninh': 2757, 'size': 2758, 'geekiest': 2759, 'geek': 2760, 'wallet': 2761, 'das': 2762, 'request': 2763, 'medium': 2764, 'rally': 2765, 'rotate': 2766, 'direction': 2767, 'eek': 2768, 'red': 2769, 'beijing': 2770, 'meni': 2771, 'tebrik': 2772, 'etdi': 2773, '700': 2774, '💗': 2775, 'rod': 2776, 'embrace': 2777, 'actor': 2778, 'aplomb': 2779, 'foreveralone': 2780, 'mysummer': 2781, '01482': 2782, '333505': 2783, 'hahahaha': 2784, 'wear': 2785, 'uniform': 2786, 'evil': 2787, 'owww': 2788, 'choo': 2789, 'chweet': 2790, 'shorthaired': 2791, 'oscar': 2792, 'realize': 2793, 'harmony': 2794, 'judge': 2795, 'denerivery': 2796, '506': 2797, 'kiksexting': 2798, 'kikkomansabor': 2799, 'killer': 2800, 'henessydiaries': 2801, 'journey': 2802, 'band': 2803, 'plz': 2804, 'convo': 2805, '11': 2806, 'vault': 2807, 'expand': 2808, 'vinny': 2809, 'money': 2810, 'hahahahaha': 2811, '50cents': 2812, 'repay': 2813, 'debt': 2814, 'smiling': 2815, 'evet': 2816, 'wifi': 2817, 'lifestyle': 2818, 'qatarday': 2819, '. ..': 2820, '🌞': 2821, 'girly': 2822, 'india': 2823, 'innovate': 2824, 'volunteer': 2825, 'saran': 2826, 'drama': 2827, 'genre': 2828, 'romance': 2829, 'comedy': 2830, 'leanneriner': 2831, '19': 2832, 'porno': 2833, 'l4l': 2834, 'weloveyounamjoon': 2835, 'homey': 2836, 'kenya': 2837, 'emotional': 2838, 'roller': 2839, 'coaster': 2840, 'aspect': 2841, 'najam': 2842, 'confession': 2843, 'ad': 2844, 'pricelessantique': 2845, 'takesonetoknowone': 2846, 'extra': 2847, 'ucount': 2848, 'ji': 2849, 'turkish': 2850, 'crap': 2851, 'burn': 2852, '80x': 2853, 'airline': 2854, 'sexy': 2855, 'yello': 2856, 'gail': 2857, 'yael': 2858, 'lesson': 2859, 'en': 2860, 'manos': 2861, 'hand': 2862, 'manager': 2863, 'reader': 2864, 'dnt': 2865, 'ideal': 2866, 'weekly': 2867, 'idol': 2868, 'pose': 2869, 'shortlist': 2870, 'dominion': 2871, 'picnic': 2872, 'tmrw': 2873, 'nobody': 2874, 'jummamubarak': 2875, 'shower': 2876, 'shalwarkameez': 2877, 'itter': 2878, 'offer': 2879, 'jummaprayer': 2880, 'af': 2881, 'display': 2882, 'enable': 2883, 'company': 2884, 'peep': 2885, 'tweeps': 2886, 'folow': 2887, '2k': 2888, 'ohhh': 2889, 'teaser': 2890, 'airecs': 2891, '009': 2892, 'acid': 2893, 'mouse': 2894, 'ep': 2895, '31st': 2896, 'include': 2897, 'robin': 2898, 'rough': 2899, 'control': 2900, 'remixes': 2901, 'rts': 2902, 'faves': 2903, 'toss': 2904, 'lady': 2905, '🐑': 2906, 'library': 2907, 'mr2': 2908, 'climb': 2909, 'cuddle': 2910, 'jilla': 2911, 'headline': 2912, '2017': 2913, 'jumma': 2914, 'mubarik': 2915, 'total': 2916, 'congratz': 2917, 'contribution': 2918, '2.0': 2919, 'yuppiieee': 2920, 'alienthought': 2921, 'happyalien': 2922, 'crowd': 2923, 'loud': 2924, 'gary': 2925, 'particular': 2926, 'attraction': 2927, 'supprt': 2928, 'savage': 2929, 'cleanse': 2930, 'scam': 2931, 'ridden': 2932, 'vyapam': 2933, 'rename': 2934, 'wave': 2935, 'couch': 2936, 'dodge': 2937, 'explanation': 2938, 'bag': 2939, 'sanza': 2940, 'yaa': 2941, 'slr': 2942, 'som': 2943, 'honour': 2944, 'hehehe': 2945, 'view': 2946, 'explorer': 2947, 'wayanadan': 2948, 'forest': 2949, 'wayanad': 2950, 'srijith': 2951, 'whisper': 2952, 'lie': 2953, 'pokemon': 2954, 'dazzle': 2955, 'urself': 2956, 'double': 2957, 'flare': 2958, 'black': 2959, '9': 2960, '51': 2961, 'browse': 2962, 'bore': 2963, 'female': 2964, 'tour': 2965, 'delve': 2966, 'muchhh': 2967, 'tmr': 2968, 'breakfast': 2969, 'gl': 2970, \"tonight's\": 2971, '):': 2972, 'litey': 2973, 'manuella': 2974, 'maine': 2975, 'abhi': 2976, 'tak': 2977, 'ye': 2978, 'nhi': 2979, 'dekhi': 2980, 'promos': 2981, 'se': 2982, 'welcomed': 2983, 'xpax': 2984, 'lisa': 2985, 'aboard': 2986, 'institution': 2987, 'nc': 2988, 'cheese': 2989, 'overload': 2990, 'pizza': 2991, '•': 2992, 'mcfloat': 2993, 'fudge': 2994, 'sandae': 2995, 'munchkins': 2996, \"d'd\": 2997, 'granny': 2998, 'baller': 2999, 'lil': 3000, 'chain': 3001, 'everybody': 3002, 'ought': 3003, 'jay': 3004, 'events@breastcancernow.org': 3005, '79x': 3006, 'champion': 3007, 'letter': 3008, 'approve': 3009, 'unique': 3010, 'affaraid': 3011, 'dearslim': 3012, 'role': 3013, 'billy': 3014, 'labs': 3015, 'ovh': 3016, 'maxi': 3017, 'bunch': 3018, 'acc': 3019, 'sprit': 3020, 'yous': 3021, 'til': 3022, 'severe': 3023, 'hammies': 3024, 'freedom': 3025, 'pistol': 3026, 'unlock': 3027, 'bemeapp': 3028, 'thumb': 3029, 'beme': 3030, 'bemecode': 3031, 'proudtobeme': 3032, 'round': 3033, 'calm': 3034, 'kepo': 3035, 'luckily': 3036, 'clearly': 3037, 'دعمم': 3038, 'للعودة': 3039, 'للحياة': 3040, 'heiyo': 3041, 'dudaftie': 3042, 'breaktym': 3043, 'fatal': 3044, 'dangerous': 3045, 'term': 3046, 'health': 3047, 'outraged': 3048, '645k': 3049, 'muna': 3050, 'magstart': 3051, 'salute': 3052, '→': 3053, 'thq': 3054, 'continous': 3055, 'thalaivar': 3056, '£': 3057, 'heiya': 3058, 'grab': 3059, '30.000': 3060, 'av': 3061, 'gd': 3062, 'wknd': 3063, 'ear': 3064, \"y'day\": 3065, 'hxh': 3066, 'besides': 3067, 'vids': 3068, 'badass': 3069, 'killua': 3070, 'scene': 3071, 'suffering': 3072, 'feed': 3073, '78x': 3074, 'unappreciated': 3075, 'gracious': 3076, 'nailedit': 3077, 'ourdisneyinfinity': 3078, 'mary': 3079, 'jillmill': 3080, 'webcam': 3081, 'elfindelmundo': 3082, 'sexi': 3083, 'mainly': 3084, 'favour': 3085, 'dancetastic': 3086, 'satyajit': 3087, \"ray's\": 3088, 'porosh': 3089, 'pathor': 3090, 'situation': 3091, 'goldbugs': 3092, 'wine': 3093, 'bottle': 3094, 'spill': 3095, 'jazmin': 3096, 'bonilla': 3097, '15000': 3098, 'star': 3099, 'hollywood': 3100, 'rofl': 3101, 'shade': 3102, 'grey': 3103, 'netsec': 3104, 'edition': 3105, 'ate': 3106, 'kev': 3107, 'apology': 3108, 'fangirled': 3109, 'sister': 3110, 'unlisted': 3111, 'hickey': 3112, 'dad': 3113, 'hock': 3114, 'mamma': 3115, 'human': 3116, 'being': 3117, 'mere': 3118, 'holistic': 3119, 'cosmovision': 3120, 'narrow-minded': 3121, 'charge': 3122, 'cess': 3123, 'alix': 3124, 'quan': 3125, 'tip': 3126, 'naaahhh': 3127, 'duh': 3128, 'emesh': 3129, 'hilarious': 3130, 'kath': 3131, 'kia': 3132, '@vauk': 3133, 'tango': 3134, 'tracerequest': 3135, 'homie': 3136, 'dassy': 3137, 'fwm': 3138, 'selamat': 3139, 'nichola': 3140, 'found': 3141, 'malta': 3142, 'gto': 3143, 'tomorrowland': 3144, 'incall': 3145, 'shobs': 3146, 'incomplete': 3147, 'barkada': 3148, 'silverstone': 3149, 'pull': 3150, 'bookstore': 3151, 'lately': 3152, 'ganna': 3153, 'hillary': 3154, 'clinton': 3155, 'court': 3156, 'notice': 3157, 'slice': 3158, 'life-so': 3159, 'hide': 3160, 'untapped': 3161, 'mca': 3162, 'gettin': 3163, 'hella': 3164, 'wana': 3165, 'bandz': 3166, 'hell': 3167, 'donington': 3168, 'park': 3169, '24/25': 3170, 'hop': 3171, 'x30': 3172, 'merci': 3173, 'bien': 3174, 'amie': 3175, 'pitbull': 3176, '777x': 3177, 'fri': 3178, 'annyeong': 3179, 'oppa': 3180, 'indonesian': 3181, 'elf': 3182, 'flight': 3183, 'bf': 3184, 'jennyjean': 3185, 'kikchat': 3186, 'sabadodeganarseguidores': 3187, 'sexysasunday': 3188, 'marseille': 3189, 'ganda': 3190, 'fnaf': 3191, 'steam': 3192, 'assure': 3193, 'current': 3194, 'goin': 3195, 'sweety': 3196, \"spot's\": 3197, 'barnstaple': 3198, 'bideford': 3199, 'abit': 3200, 'road': 3201, 'rocro': 3202, '13glodyysbro': 3203, 'hire': 3204, '2ne1': 3205, 'aspetti': 3206, 'chicken': 3207, 'chip': 3208, 'cupboard': 3209, 'empty': 3210, 'jamie': 3211, 'ian': 3212, 'latin': 3213, 'asian': 3214, 'version': 3215, 'fave': 3216, 'vaing': 3217, '642': 3218, 'kikgirl': 3219, 'orgasm': 3220, 'phonesex': 3221, 'spacers': 3222, 'felicity': 3223, 'smoak': 3224, '👓': 3225, '💘': 3226, 'child': 3227, 'psychopaths': 3228, 'spoile': 3229, 'dimple': 3230, 'contemplate': 3231, 'indie': 3232, 'route': 3233, 'jsl': 3234, '76x': 3235, 'gotcha': 3236, 'kina': 3237, 'donna': 3238, 'reachability': 3239, 'jk': 3240, 'bitter': 3241, 's02e04': 3242, 'air': 3243, 'naggy': 3244, 'anal': 3245, 'vidcon': 3246, 'anxious': 3247, 'shake': 3248, '10:30': 3249, 'smoke': 3250, 'white': 3251, 'grandpa': 3252, 'prolly': 3253, 'stash': 3254, 'closer-chasing': 3255, 'spec': 3256, 'league': 3257, 'chase': 3258, 'wall': 3259, 'angel': 3260, 'mochamichelle': 3261, 'iph': 3262, '0ne': 3263, 'simply': 3264, 'bi0': 3265, 'x29': 3266, 'there': 3267, 'background': 3268, 'maggie': 3269, 'afraid': 3270, 'mull': 3271, 'nil': 3272, 'glasgow': 3273, 'netball': 3274, 'thistle': 3275, 'thistlelove': 3276, 'effect': 3277, 'minecraft': 3278, 'boring': 3279, 'drew': 3280, 'delicious': 3281, 'muddle': 3282, 'racket': 3283, 'isolate': 3284, 'fa': 3285, 'participate': 3286, 'icecreammaster': 3287, 'group': 3288, 'huhu': 3289, 'shet': 3290, 'desk': 3291, 'o_o': 3292, 'orz': 3293, 'problemmm': 3294, '75x': 3295, 'english': 3296, 'yeeaayy': 3297, 'alhamdulillah': 3298, 'amin': 3299, 'weed': 3300, 'definition': 3301, 'crowdfunding': 3302, 'goal': 3303, 'walk': 3304, 'hellooo': 3305, 'selection': 3306, 'lynne': 3307, 'buffer': 3308, 'button': 3309, 'composer': 3310, 'fridayfun': 3311, 'non-filipina': 3312, 'ejayster': 3313, 'united': 3314, 'state': 3315, 'le': 3316, 'stan': 3317, 'lee': 3318, 'discovery': 3319, 'cousin': 3320, '1400': 3321, 'yrs': 3322, 'teleportation': 3323, 'shahid': 3324, 'afridi': 3325, 'tou': 3326, 'mahnor': 3327, 'baloch': 3328, 'nikki': 3329, 'flower': 3330, 'blackfly': 3331, 'courgette': 3332, 'wont': 3333, 'affect': 3334, 'fruit': 3335, 'italian': 3336, 'netfilx': 3337, 'unmarried': 3338, 'finger': 3339, 'rock': 3340, 'wiellys': 3341, 'paul': 3342, 'barcode': 3343, 'charlotte': 3344, 'thtas': 3345, 'trailblazerhonors': 3346, 'labour': 3347, 'leader': 3348, 'alot': 3349, 'agayhippiehippy': 3350, 'exercise': 3351, 'better': 3352, 'ginger': 3353, 'x28': 3354, 'teach': 3355, 'awareness': 3356, '::': 3357, 'portsmouth': 3358, 'sonal': 3359, 'hungry': 3360, 'hmmm': 3361, 'pedant': 3362, '98': 3363, 'kit': 3364, 'ack': 3365, 'hih': 3366, 'choir': 3367, 'rosidbinr': 3368, 'duke': 3369, 'earl': 3370, 'tau': 3371, 'awak': 3372, 'orayt': 3373, 'knw': 3374, 'block': 3375, 'dikha': 3376, 'reh': 3377, 'adolf': 3378, 'hitler': 3379, 'obstacle': 3380, 'exist': 3381, 'surrender': 3382, 'terrific': 3383, 'advaddict': 3384, '_15': 3385, 'jimin': 3386, 'notanapology': 3387, 'map': 3388, 'informed': 3389, '0.7': 3390, 'dependency': 3391, 'motherfucking': 3392, \"david's\": 3393, 'damn': 3394, 'college': 3395, '24th': 3396, 'steroid': 3397, 'made': 3398, 'alansmithpart': 3399, 'publication': 3400, 'servus': 3401, 'bonasio': 3402, \"doido's\": 3403, 'task': 3404, 'delegate': 3405, 'aaahhh': 3406, 'jen': 3407, 'information': 3408, 'virgin': 3409, 'non-mapbox': 3410, 'restrict': 3411, 'mapbox': 3412, 'basemaps': 3413, 'contractually': 3414, 'researcher': 3415, 'seafood': 3416, 'weltum': 3417, 'teh': 3418, 'dety': 3419, 'huh': 3420, '=D': 3421, 'annoy': 3422, 'katmtan': 3423, 'swan': 3424, 'fandom': 3425, 'blurry': 3426, 'besok': 3427, 'b': 3428, 'urgently': 3429, 'within': 3430, 'currently': 3431, 'dorset': 3432, 'goddess': 3433, 'blast': 3434, 'shitfaced': 3435, 'soul': 3436, 'donate': 3437, 'sing': 3438, 'disney': 3439, 'doug': 3440, '28': 3441, 'bnte': 3442, 'hain': 3443, ';p': 3444, 'shiiitt': 3445, 'case': 3446, 'rm35': 3447, 'negooo': 3448, 'male': 3449, 'madeline': 3450, 'nun': 3451, 'mornin': 3452, 'yapsters': 3453, 'ply': 3454, 'copy': 3455, 'icon': 3456, 'alchemist': 3457, 'x27': 3458, 'dayz': 3459, 'preview': 3460, 'thug': 3461, 'lmao': 3462, 'sharethelove': 3463, 'highvalue': 3464, 'halsey': 3465, '30th': 3466, 'wed': 3467, 'anniversary': 3468, 'folk': 3469, 'bae': 3470, 'reply': 3471, 'complain': 3472, 'rude': 3473, 'bond': 3474, 'niggs': 3475, 'readingres': 3476, 'wordoftheweek': 3477, 'wotw': 3478, '4:18': 3479, 'est': 3480, 'earn': 3481, 'whatevs': 3482, 'jess': 3483, 'surry': 3484, 'botany': 3485, 'gel': 3486, 'alison': 3487, 'lsa': 3488, 'response': 3489, 'fron': 3490, 'debbie': 3491, 'carol': 3492, 'patient': 3493, 'discharge': 3494, 'lounge': 3495, 'walmart': 3496, 'balance': 3497, 'study': 3498, 'hayley': 3499, 'shoulder': 3500, 'pad': 3501, 'mount': 3502, 'inquisitor': 3503, 'cosplay': 3504, 'cosplayprogress': 3505, 'mike': 3506, 'dunno': 3507, 'housing': 3508, 'insecurity': 3509, 'nh': 3510, 'devolution': 3511, 'patriotism': 3512, 'halla': 3513, 'ark': 3514, \"jiyeon's\": 3515, 'buzz': 3516, 'burnt': 3517, 'mist': 3518, 'opi': 3519, 'avoplex': 3520, 'nail': 3521, 'cuticle': 3522, 'replenish': 3523, '15ml': 3524, 'serious': 3525, 'submission': 3526, 'lb': 3527, 'cherish': 3528, 'flip': 3529, 'backflip': 3530, 'jumpgiants': 3531, 'foampit': 3532, 'usa': 3533, 'pamer': 3534, 'thks': 3535, 'actuallythough': 3536, 'craft': 3537, 'session': 3538, 'mehtab': 3539, 'aunty': 3540, 'gc': 3541, 'yeeew': 3542, 'pre': 3543, 'lan': 3544, 'yeey': 3545, 'strangely': 3546, 'arrange': 3547, 'doodle': 3548, 'comic': 3549, 'summoner': 3550, 'none': 3551, '🙅': 3552, 'lycra': 3553, 'vincent': 3554, 'couldnt': 3555, 'roy': 3556, 'bg': 3557, 'img': 3558, 'circle': 3559, 'font': 3560, 'deathofgrass': 3561, 'loan': 3562, 'lawnmower': 3563, 'popular': 3564, 'charismatic': 3565, 'man.he': 3566, 'thrive': 3567, 'economy': 3568, 'burst': 3569, 'georgie': 3570, 'x26': 3571, 'million': 3572, 'fl': 3573, 'sometime': 3574, 'iceland': 3575, 'crazy': 3576, 'landscape': 3577, 'yok': 3578, 'lah': 3579, 'concordia': 3580, 'reunite': 3581, 'xxxibmchll': 3582, 'sea': 3583, 'imitatia': 3584, 'oe': 3585, 'michelle': 3586, 'comeback': 3587, 'gross': 3588, 'treat': 3589, 'equal': 3590, 'injustice': 3591, 'feminism': 3592, 'ineedfeminismbecause': 3593, 'jam': 3594, 'stuck': 3595, 'recommend': 3596, 'redhead': 3597, 'wacky': 3598, 'rather': 3599, 'worst': 3600, 'waytoliveahappylife': 3601, 'hoxton': 3602, 'holborn': 3603, 'karen': 3604, 'wag': 3605, 'bum': 3606, 'wwooo': 3607, 'nite': 3608, 'drawing': 3609, 'laiten': 3610, 'arond': 3611, '1:30': 3612, 'consider': 3613, 'exhaust': 3614, 'mature': 3615, 'journeyps': 3616, 'foam': 3617, \"lady's\": 3618, 'mob': 3619, 'false': 3620, 'bulletin': 3621, 'spring': 3622, 'fiesta': 3623, 'noise': 3624, 'awuuu': 3625, 'aich': 3626, 'sept': 3627, 'rudramadevi': 3628, 'anushka': 3629, 'gunashekar': 3630, 'harryxhood': 3631, 'upset': 3632, 'ooh': 3633, 'humanist': 3634, 'magazine': 3635, 'username': 3636, 'rape': 3637, 'csrracing': 3638, 'lack': 3639, 'hygiene': 3640, 'tose': 3641, 'clothes': 3642, 'temperature': 3643, 'planet': 3644, 'brave': 3645, 'ge': 3646, '2015kenya': 3647, 'ryan': 3648, 'tidy': 3649, 'hagergang': 3650, 'chanhun': 3651, 'photoshoot': 3652, 'afterall': 3653, 'sadkaay': 3654, 'tharkness': 3655, 'peak': 3656, 'heatwave': 3657, 'lower': 3658, 'standard': 3659, 'x25': 3660, 'exams': 3661, 'recruit': 3662, 'doom': 3663, 'nasty': 3664, 'affiliate': 3665, '>:)': 3666, 'situate': 3667, '64': 3668, '74': 3669, '40': 3670, '00': 3671, 'hall': 3672, 'ted': 3673, 'pixgram': 3674, 'creative': 3675, 'slideshow': 3676, 'tentatively': 3677, 'nibble': 3678, 'ivy': 3679, 'sho': 3680, 'superpower': 3681, 'obsess': 3682, 'oth': 3683, 'third': 3684, 'ngarepfollbackdarinabilahjkt': 3685, '48': 3686, 'sunglasses': 3687, 'jackie': 3688, 'sunnies': 3689, 'style': 3690, 'jlo': 3691, 'jlovers': 3692, 'turkey': 3693, 'goodafternoon': 3694, 'collage': 3695, 'furry': 3696, 'bruce': 3697, 'kunoriforceo': 3698, 'aayegi': 3699, 'timming': 3700, 'wiw': 3701, 'bips': 3702, 'zareen': 3703, 'daisy': 3704, \"b'coz\": 3705, 'karte': 3706, 'mak': 3707, '∗': 3708, 'lega': 3709, 'branding': 3710, 'spag': 3711, 'boat': 3712, 'outboarding': 3713, 'spell': 3714, 'reboarding': 3715, 'fire': 3716, 'offboarding': 3717, 'sn16': 3718, '9dg': 3719, 'following': 3720, 'bnf': 3721, '50': 3722, 'jason': 3723, 'rob': 3724, 'feb': 3725, 'victoriasecret': 3726, 'finland': 3727, 'helsinki': 3728, 'airport': 3729, 'plane': 3730, 'beyond': 3731, 'onting': 3732, 'tiis': 3733, 'lng': 3734, 'yan': 3735, \"u'll\": 3736, 'steve': 3737, 'bell': 3738, 'prescott': 3739, 'leadership': 3740, 'cartoon': 3741, 'upside': 3742, 'statement': 3743, 'selamathariraya': 3744, 'lovesummertime': 3745, 'dumont': 3746, 'jax': 3747, 'jones': 3748, 'awesomeee': 3749, 'x24': 3750, 'geoff': 3751, 'packing': 3752, 'stick': 3753, 'amazingly': 3754, 'talanted': 3755, 'vsco': 3756, 'thankies': 3757, 'hash': 3758, 'tag': 3759, 'ifimeetanalien': 3760, 'bff': 3761, 'section': 3762, 'follbaaack': 3763, 'az': 3764, 'cauliflower': 3765, 'attempt': 3766, 'prinsesa': 3767, 'yaaah': 3768, 'law': 3769, 'toy': 3770, 'sonaaa': 3771, 'beautifull': 3772, \"josephine's\": 3773, 'mirror': 3774, 'cretaperfect': 3775, '4me': 3776, 'cretaperfectsuv': 3777, 'creta': 3778, 'load': 3779, 'telecom': 3780, 'judy': 3781, 'superb': 3782, 'slightly': 3783, 'rakna': 3784, 'ew': 3785, 'whose': 3786, 'fifa': 3787, 'lineup': 3788, 'survive': 3789, 'p90x': 3790, 'p90': 3791, 'dishoom': 3792, 'rajnigandha': 3793, 'minju': 3794, 'rapper': 3795, 'lead': 3796, 'vocal': 3797, 'yujin': 3798, 'visual': 3799, 'maknae': 3800, 'jane': 3801, 'hah': 3802, 'hawk': 3803, 'history': 3804, 'along': 3805, 'talkback': 3806, 'process': 3807, 'feature': 3808, 'mostly': 3809, \"cinema's\": 3810, 'defend': 3811, 'fashion': 3812, 'atrocity': 3813, 'pandimensional': 3814, 'manifestation': 3815, 'argos': 3816, 'ring': 3817, '640': 3818, 'nad': 3819, 'plezzz': 3820, 'asthma': 3821, 'inhaler': 3822, 'breathe': 3823, 'goodluck': 3824, 'hunger': 3825, 'mockingjay': 3826, 'thehungergames': 3827, 'adore': 3828, 'x23': 3829, 'reina': 3830, 'felt': 3831, 'blogged': 3832, 'excuse': 3833, 'attender': 3834, 'whn': 3835, 'andre': 3836, 'mamayang': 3837, '11pm': 3838, '1d': 3839, '89.9': 3840, 'powys': 3841, 'shropshire': 3842, 'border': 3843, \"school's\": 3844, 'san': 3845, 'diego': 3846, 'jump': 3847, 'source': 3848, 'appeasement': 3849, '¦': 3850, 'aj': 3851, 'action': 3852, 'grunt': 3853, 'sc': 3854, 'anti-christ': 3855, 'm8': 3856, 'ju': 3857, 'halfway': 3858, 'ex': 3859, 'postive': 3860, 'opinion': 3861, 'avi': 3862, 'dare': 3863, 'corridor': 3864, '👯': 3865, 'neither': 3866, 'rundown': 3867, 'yah': 3868, 'leviboard': 3869, 'kleper': 3870, ':(': 3871, 'impeccable': 3872, 'setokido': 3873, 'shoulda': 3874, 'hippo': 3875, 'materialistic': 3876, 'showpo': 3877, 'cough': 3878, '@artofsleepingin': 3879, 'x22': 3880, '☺': 3881, 'makesme': 3882, 'santorini': 3883, 'escape': 3884, 'beatport': 3885, '👊🏻': 3886, 'trmdhesitant': 3887, 'manuel': 3888, 'valls': 3889, 'king': 3890, 'seven': 3891, 'kingdom': 3892, 'andals': 3893, 'privacy': 3894, 'wise': 3895, 'natsuki': 3896, 'often': 3897, 'catchy': 3898, 'neil': 3899, 'emirate': 3900, 'brill': 3901, 'urquhart': 3902, 'castle': 3903, 'simple': 3904, 'generally': 3905, 'shatter': 3906, 'contrast': 3907, 'educampakl': 3908, 'rotorua': 3909, 'pehly': 3910, 'phir': 3911, 'somi': 3912, 'burfday': 3913, 'university': 3914, 'santo': 3915, 'tomas': 3916, 'norhing': 3917, 'dialogue': 3918, 'chainsaw': 3919, 'amusement': 3920, 'awe': 3921, 'protect': 3922, 'pop': 3923, '2ish': 3924, 'fahad': 3925, 'bhai': 3926, 'iqrar': 3927, 'waseem': 3928, 'abroad': 3929, 'rotation': 3930, 'moviee': 3931, 'chef': 3932, 'grogol': 3933, 'long-distance': 3934, 'rhys': 3935, 'pwrfl': 3936, 'benefit': 3937, 'b2b': 3938, 'b2c': 3939, \"else's\": 3940, 'soo': 3941, 'enterprison': 3942, 'schoolsoutforsummer': 3943, 'fellow': 3944, 'juggle': 3945, 'purrthos': 3946, 'cathos': 3947, 'catamis': 3948, 'fourfiveseconds': 3949, 'deaf': 3950, 'drug': 3951, 'alcohol': 3952, 'apexis': 3953, 'crystal': 3954, 'meth': 3955, 'champagne': 3956, 'fc': 3957, 'streamer': 3958, 'juice': 3959, 'correct': 3960, 'portrait': 3961, 'izumi': 3962, 'fugiwara': 3963, 'clonmel': 3964, 'refreshing': 3965, 'vibrant': 3966, 'estimate': 3967, 'server': 3968, 'quiet': 3969, 'yey': 3970, \"insha'allah\": 3971, 'wil': 3972, 'pleased': 3973, 'x21': 3974, 'trend': 3975, 'akshaymostlovedsuperstarever': 3976, 'indirecting': 3977, 'askurban': 3978, 'lyka': 3979, 'sits': 3980, 'nap': 3981, 'aff': 3982, 'uname': 3983, 'jonginuh': 3984, 'billie': 3985, 'forecast': 3986, '10am': 3987, '5am': 3988, 'soothe': 3989, 'vii': 3990, 'sweetheart': 3991, 'freak': 3992, 'original': 3993, 'zayn': 3994, 'fucker': 3995, 'pet': 3996, 'illustration': 3997, 'wohoo': 3998, 'gleam': 3999, 'painting': 4000, 'deal': 4001, 'prime': 4002, 'minister': 4003, 'sunjam': 4004, 'industry': 4005, 'present': 4006, 'practicing': 4007, 'proactive': 4008, 'environment': 4009, 'unreal': 4010, 'zaine': 4011, 'zac': 4012, 'isaac': 4013, 'os': 4014, 'frank': 4015, 'iero': 4016, 'phase': 4017, 'david': 4018, 'beginner': 4019, 'shin': 4020, 'sunflower': 4021, 'sunny': 4022, 'favourites': 4023, 'tommarow': 4024, 'yall': 4025, 'rank': 4026, 'birthdaymonth': 4027, 'vianey': 4028, 'bffs': 4029, 'july': 4030, 'birthdaygirl': 4031, \"town's\": 4032, 'andrew': 4033, 'checkout': 4034, 'otwol': 4035, 'awhile': 4036, 'x20': 4037, 'all-time': 4038, 'julia': 4039, 'robert': 4040, 'awwhh': 4041, 'bulldog': 4042, 'unfortunate': 4043, '02079': 4044, '490': 4045, '132': 4046, 'caring': 4047, 'fightstickfriday': 4048, 'extravagant': 4049, 'tearout': 4050, 'selektion': 4051, 'yoot': 4052, 'cross': 4053, 'deserved': 4054, 'gudday': 4055, 'dave': 4056, 'haileyhelps': 4057, 'eid': 4058, 'mubarak': 4059, 'brotheeerrr': 4060, 'adventure': 4061, 'tokyo': 4062, 'kansai': 4063, 'l': 4064, 'uppe': 4065, 'om': 4066, '60': 4067, 'minuter': 4068, 'detailed': 4069, 'data': 4070, 'jesus': 4071, 'amsterdam': 4072, '3rd': 4073, 'nextweek': 4074, 'sends': 4075, 'booty': 4076, 'bcuz': 4077, 'step': 4078, 'option': 4079, 'stable': 4080, 'sturdy': 4081, 'lukkkee': 4082, 'again.ensoi': 4083, 'tc': 4084, 'madam': 4085, 'siddi': 4086, 'unknown': 4087, 'roomie': 4088, 'gn': 4089, 'gf': 4090, 'consent': 4091, 'mister': 4092, 'supportive': 4093, 'vine': 4094, 'peyton': 4095, 'nagato': 4096, 'yuki-chan': 4097, 'shoushitsu': 4098, 'archdbanterbury': 4099, 'experttradesmen': 4100, 'banter': 4101, 'quiz': 4102, 'tradetalk': 4103, 'floofs': 4104, 'face': 4105, 'muahah': 4106, 'x19': 4107, 'anticipation': 4108, 'jds': 4109, 'laro': 4110, 'tayo': 4111, 'answer': 4112, 'ht': 4113, 'angelica': 4114, 'anghel': 4115, 'aa': 4116, 'kkk': 4117, 'macbook': 4118, 'rehearse': 4119, 'youthcelebrate': 4120, 'mute': 4121, '29th': 4122, 'gohf': 4123, 'invited': 4124, 'vegetarian': 4125, \"she'll\": 4126, 'gooday': 4127, '101': 4128, '12000': 4129, 'oshieer': 4130, 'realreviews': 4131, 'happycustomers': 4132, 'realoshi': 4133, 'dealsuthaonotebachao': 4134, 'dime': 4135, 'uhuh': 4136, '🎵': 4137, 'code': 4138, 'pleasant': 4139, 'on-board': 4140, 'raheel': 4141, 'flyhigh': 4142, 'bother': 4143, 'everette': 4144, 'taylor': 4145, 'ha-ha': 4146, 'peachyloans': 4147, 'fridayfreebie': 4148, 'noe': 4149, 'yisss': 4150, 'bindingofissac': 4151, 'xboxone': 4152, 'console': 4153, 'justin': 4154, 'gladly': 4155, 'son': 4156, 'morocco': 4157, 'peru': 4158, 'nxt': 4159, 'bps': 4160, 'resort': 4161, 'x18': 4162, 'havuuuloveyou': 4163, 'uuu': 4164, 'possitve': 4165, 'hopeyou': 4166, 'sweetie': 4167, 'throwbackfriday': 4168, 'christen': 4169, 'ki': 4170, 'yaad': 4171, 'gayi': 4172, 'opossum': 4173, 'running': 4174, 'belated': 4175, 'yeahh': 4176, 'kuffar': 4177, 'computer': 4178, 'cell': 4179, 'diarrhea': 4180, 'immigrant': 4181, 'louse': 4182, 'goictived': 4183, '70685': 4184, 'tagsforlikes': 4185, 'trapmusic': 4186, 'hotmusicdelocos': 4187, 'kinickers': 4188, '01282': 4189, '452096': 4190, 'shady': 4191, 'management': 4192, 'reservation': 4193, 'tkts': 4194, 'likewise': 4195, 'overgeneralization': 4196, 'ikr': 4197, '😍': 4198, 'consumerism': 4199, 'rid': 4200, 'recently': 4201, 'fics': 4202, 'ouch': 4203, 'slip': 4204, 'disc': 4205, 'thw': 4206, 'swimming': 4207, 'chute': 4208, 'chalut': 4209, 'minute': 4210, 'replay': 4211, 'iplayer': 4212, '11am': 4213, 'unneeded': 4214, 'megamoh': 4215, '7/29': 4216, 'power': 4217, 'tool': 4218, 'zealand': 4219, 'pile': 4220, 'dump': 4221, 'couscous': 4222, \"women's\": 4223, 'fiction': 4224, 'wahahaah': 4225, 'x17': 4226, 'orhan': 4227, 'pamuk': 4228, 'hero': 4229, 'canopy': 4230, 'maple': 4231, 'leaf': 4232, 'syrup': 4233, 'farm': 4234, 'stephanie': 4235, '💖': 4236, 'congrtaualtions': 4237, 'phileas': 4238, 'club': 4239, 'inc': 4240, 'photograph': 4241, 'phonegraphs': 4242, 'srsly': 4243, '10:17': 4244, 'ripaaa': 4245, 'banate': 4246, 'ray': 4247, 'dept': 4248, 'hospital': 4249, 'grt': 4250, 'infographic': 4251, \"o'clock\": 4252, 'habit': 4253, '1dfor': 4254, 'roadtrip': 4255, '19:30': 4256, 'ifc': 4257, 'whip': 4258, 'lilsisbro': 4259, 'pre-ordered': 4260, \"pixar's\": 4261, 'steelbook': 4262, 'hmm': 4263, 'pegell': 4264, 'lemess': 4265, 'kyle': 4266, 'paypal': 4267, 'confirmation': 4268, 'oct': 4269, 'tud': 4270, 'jst': 4271, 'addictive': 4272, 'humphrey': 4273, 'yell': 4274, 'erm': 4275, 'breach': 4276, 'lemon': 4277, 'yogurt': 4278, 'pot': 4279, 'discover': 4280, 'liquorice': 4281, 'pud': 4282, 'cajun': 4283, 'spiced': 4284, 'yum': 4285, 'cajunchicken': 4286, 'infinite': 4287, 'gern': 4288, 'cikaaa': 4289, 'maaf': 4290, 'telat': 4291, 'ngucapinnya': 4292, 'maaay': 4293, 'x16': 4294, 'viparita': 4295, 'karani': 4296, 'legsupthewall': 4297, 'unwind': 4298, 'coco': 4299, 'comfy': 4300, 'jalulu': 4301, 'rosh': 4302, 'gla': 4303, 'avail': 4304, 'suit': 4305, 'pallavi': 4306, 'nairobi': 4307, 'hrdstellobama': 4308, 'regional': 4309, 'civil': 4310, 'society': 4311, 'region': 4312, 'globe': 4313, 'hajur': 4314, 'yayy': 4315, \"must've\": 4316, 'nerve': 4317, 'prelim': 4318, 'costacc': 4319, 'nwb': 4320, 'shud': 4321, 'begin': 4322, 'cold': 4323, 'hmu': 4324, 'cala': 4325, 'brush': 4326, 'ego': 4327, 'wherever': 4328, 'interaction': 4329, 'dongsaeng': 4330, 'chorong': 4331, 'friendship': 4332, 'ffs': 4333, 'impressive': 4334, 'dragon': 4335, 'duck': 4336, 'mix': 4337, 'cheetah': 4338, 'wagga': 4339, 'coursework': 4340, 'lorna': 4341, 'scan': 4342, 'x12': 4343, 'canvas': 4344, 'paint': 4345, 'iqbal': 4346, 'ima': 4347, 'knowing': 4348, 'hon': 4349, 'aja': 4350, 'besi': 4351, 'chati': 4352, 'phulani': 4353, 'swasa': 4354, 'bahari': 4355, 'jiba': 4356, 'mumbai': 4357, 'gujarat': 4358, 'distrubed': 4359, 'otherwise': 4360, '190cr': 4361, 'inspite': 4362, 'holder': 4363, 'threatens': 4364, 'daily': 4365, 'basis': 4366, 'vr': 4367, 'angelo': 4368, 'quezon': 4369, 'sweatpants': 4370, 'breath': 4371, 'tripping': 4372, 'farbridges': 4373, 'segalakatakata': 4374, 'nixus': 4375, 'flint': 4376, '🍰': 4377, 'separately': 4378, 'criticise': 4379, 'gesture': 4380, 'pedal': 4381, 'stroke': 4382, 'attentive': 4383, 'caro': 4384, 'deposit': 4385, 'secure': 4386, 'shock': 4387, 'coffe': 4388, 'tenerina': 4389, 'auguri': 4390, 'iso': 4391, 'certification': 4392, 'paralyze': 4393, 'anxiety': 4394, 'sadness': 4395, \"it'd\": 4396, 'development': 4397, 'spain': 4398, 'def': 4399, 'bantime': 4400, 'fail': 4401, '2ban': 4402, 'x15': 4403, 'awkward': 4404, 'abs': 4405, 'galing': 4406, 'founder': 4407, 'loveyaaah': 4408, '⅛': 4409, '⅞': 4410, '∞': 4411, 'specialist': 4412, 'aw': 4413, 'babyyy': 4414, 'djstruthmate': 4415, 're-cap': 4416, 'flickr': 4417, 'tack': 4418, 'zephbot': 4419, 'hhahahahaha': 4420, 'blew': 4421, 'upp': 4422, 'entire': 4423, 'vega': 4424, 'strip': 4425, 'hahahahahhaha': 4426, \"callie's\": 4427, 'puppy': 4428, 'owner': 4429, 'callinganimalabusehotlineasap': 4430, 'gorefiend': 4431, 'mythic': 4432, 'reminder': 4433, '9:00': 4434, '▪': 4435, '️bea': 4436, 'miller': 4437, 'lockscreen': 4438, 'mbf': 4439, 'keesh': 4440, \"yesterday's\": 4441, 'groupie': 4442, 'bebe': 4443, 'sizams': 4444, 'color': 4445, 'invoice': 4446, 'kanina': 4447, 'pong': 4448, 'umaga': 4449, 'browser': 4450, 'typically': 4451, 'pleasse': 4452, 'leeteuk': 4453, 'pearl': 4454, 'thusi': 4455, 'pour': 4456, 'milk': 4457, 'tgv': 4458, 'paris': 4459, 'austerlitz': 4460, 'blois': 4461, 'mile': 4462, 'chateau': 4463, 'de': 4464, 'marais': 4465, 'taxi': 4466, 'x14': 4467, 'noms': 4468, 'enji': 4469, 'hater': 4470, 'purchase': 4471, 'specially-marked': 4472, 'custard': 4473, 'sm': 4474, 'on-pack': 4475, 'instruction': 4476, 'tile': 4477, 'downstairs': 4478, 'kelly': 4479, 'greek': 4480, 'petra': 4481, 'shadowplaylouis': 4482, 'mutual': 4483, 'cuz': 4484, 'liveonstreamate': 4485, 'lani': 4486, 'graze': 4487, 'pride': 4488, 'bristolart': 4489, 'in-app': 4490, 'ensure': 4491, 'item': 4492, 'screw': 4493, 'amber': 4494, 'noticing': 4495, '43': 4496, 'hpc': 4497, 'wip': 4498, 'sws': 4499, 'newsround': 4500, 'hound': 4501, '7:40': 4502, 'ada': 4503, 'racist': 4504, 'hulk': 4505, 'tight': 4506, 'prayer': 4507, 'pardon': 4508, 'phl': 4509, 'abu': 4510, 'dhabi': 4511, 'blessing': 4512, 'hihihi': 4513, 'teamjanuaryclaims': 4514, 'godonna': 4515, 'msg': 4516, 'bowwowchicawowwow': 4517, 'settle': 4518, 'dkt': 4519, 'porch': 4520, 'uber': 4521, 'mobile': 4522, 'application': 4523, 'giggle': 4524, 'delight': 4525, 'bare': 4526, 'wind': 4527, 'kahlil': 4528, 'gibran': 4529, 'flash': 4530, 'stiff': 4531, 'upper': 4532, 'lip': 4533, 'britain': 4534, 'latmon': 4535, 'endeavour': 4536, 'anne': 4537, 'joy': 4538, 'exploit': 4539, 'ign': 4540, 'au': 4541, 'pubcast': 4542, 'tengaman': 4543, '21': 4544, 'celebratio': 4545, 'determine': 4546, 'install': 4547, 'glorify': 4548, 'infirmity': 4549, 'silly': 4550, 'suave': 4551, 'gentlemen': 4552, 'monthly': 4553, 'mileage': 4554, 'target': 4555, 'samsung': 4556, 'quality': 4557, 'ey': 4558, 'beth': 4559, 'watched': 4560, 'gangster': 4561, \"athena's\": 4562, 'fancy': 4563, 'wellington': 4564, 'rich': 4565, 'christina': 4566, 'newsletter': 4567, 'zy': 4568, 'olur': 4569, 'x13': 4570, 'flawless': 4571, 'remix': 4572, 'reaction': 4573, 'hayli': 4574, 'edwin': 4575, 'elvena': 4576, 'emc': 4577, 'rubber': 4578, 'swearword': 4579, 'infection': 4580, '10:16': 4581, 'christophe': 4582, 'gans': 4583, 'brotherhood': 4584, 'pill': 4585, 'nocturnal': 4586, 'rrp': 4587, '18.99': 4588, '13.99': 4589, 'jah': 4590, 'wobble': 4591, 'retard': 4592, '50notifications': 4593, 'check-up': 4594, 'pun': 4595, 'elite': 4596, 'camillus': 4597, 'pleaseee': 4598, 'spare': 4599, 'tyre': 4600, 'joke': 4601, 'ahahah': 4602, 'shame': 4603, 'abandon': 4604, 'disagree': 4605, 'nowhere': 4606, 'contradict': 4607, 'continuously': 4608, 'chaos': 4609, 'contain': 4610, 'cranium': 4611, 'sneaker': 4612, 'nike': 4613, 'nikeoriginal': 4614, 'nikeindonesia': 4615, 'pierojogger': 4616, 'skoy': 4617, 'winter': 4618, 'falklands': 4619, 'jamie-lee': 4620, 'congraaats': 4621, 'hooh': 4622, 'chrome': 4623, 'storm': 4624, 'thunderstorm': 4625, 'vegas': 4626, 'circuscircus': 4627, 'omgg': 4628, 'thankie': 4629, 'tdy': 4630, '(-:': 4631, 'peter': 4632, 'expel': 4633, 'boughy': 4634, 'kernel': 4635, 'paralysis': 4636, 'liza': 4637, 'lol.hook': 4638, 'vampire': 4639, 'diaries': 4640, 'twice': 4641, 'thanq': 4642, 'goodwill': 4643, 'vandr': 4644, 'ash': 4645, 'debatable': 4646, 'solar': 4647, '6-5': 4648, 'ek': 4649, 'taco': 4650, 'mexico': 4651, 'viva': 4652, 'méxico': 4653, 'burger': 4654, 'thebestangkapuso': 4655, 'tooth': 4656, 'korean': 4657, 'netizen': 4658, 'cruel': 4659, 'elephant': 4660, 'marula': 4661, 'tdif': 4662, 'shoutouts': 4663, 'shortly': 4664, 'itsamarvelthing': 4665, 'marvel': 4666, \"japan's\": 4667, 'artist': 4668, 'homework': 4669, 'marco': 4670, 'herb': 4671, 'pm': 4672, 'self': 4673, 'esteem': 4674, 'patience': 4675, 'sobtian': 4676, 'coworker': 4677, 'deathly': 4678, 'hallows': 4679, 'supernatural': 4680, 'consultant': 4681, 'himachal': 4682, '2.25': 4683, 'ashamed': 4684, 'inform': 4685, 'where.do.i.start': 4686, 'moviemarathon': 4687, 'conversational': 4688, 'skill': 4689, 'shadow': 4690, 'own': 4691, 'pair': 4692, 'typical': 4693, \"it'll\": 4694, 'cortez': 4695, 'superstar': 4696, 'tthanks': 4697, 'colin': 4698, 'luxuous': 4699, 'tarryn': 4700, 'practice': 4701, 'goodness': 4702, 'hbdme': 4703, 'yeeeyyy': 4704, 'barsostay': 4705, 'malese': 4706, 'independent': 4707, 'sum': 4708, 'debacle': 4709, 'perfectly': 4710, 'amyjackson': 4711, 'omegle': 4712, 'countrymusic': 4713, 'five': 4714, \"night's\": 4715, \"freddy's\": 4716, 'demo': 4717, 'pump': 4718, 'fanboy': 4719, 'thegrandad': 4720, 'impression': 4721, 'grand': 4722, 'sidni': 4723, 'remarriage': 4724, 'occasion': 4725, 'completion': 4726, 'language': 4727, 'java': 4728, \"php's\": 4729, 'notion': 4730, 'reference': 4731, 'equally': 4732, 'confuse': 4733, 'ohioan': 4734, 'doctor': 4735, 'offline': 4736, 'thesims': 4737, 'mb': 4738, 'meaningless': 4739, 'common': 4740, 'celebrate': 4741, 'muertosatfringe': 4742, 'emulation': 4743, 'enemy': 4744, 'relax': 4745, 'ou': 4746, 'pink': 4747, 'cc': 4748, 'meooowww': 4749, 'barkkkiiideee': 4750, 'bark': 4751, 'x11': 4752, 'routine': 4753, 'aleks': 4754, 'awh': 4755, 'kumpul': 4756, 'cantik': 4757, 'ganteng': 4758, 'kresna': 4759, 'jelly': 4760, 'simon': 4761, 'lesley': 4762, 'blood': 4763, 'panty': 4764, 'lion': 4765, 'artworkbylie': 4766, 'judo': 4767, 'presentation': 4768, 'daredevil': 4769, 'despondently': 4770, 're-watch': 4771, 'welcoma.have': 4772, 'favor': 4773, 'tridon': 4774, '21pics': 4775, 'master': 4776, 'nim': 4777, \"there're\": 4778, '22pics': 4779, 'kebun': 4780, 'adorable': 4781, 'ubud': 4782, 'ladyposse': 4783, 'xoxoxo': 4784, 'sneak': 4785, 'peek': 4786, 'tuned': 4787, 'inbox': 4788, 'happyweekend': 4789, 'therealgolden': 4790, '47': 4791, 'girlfriendsmya': 4792, 'ppl': 4793, 'njoy': 4794, 'followingg': 4795, 'private': 4796, 'pusher': 4797, 'pri': 4798, 'stun': 4799, 'wooohooo': 4800, 'cuss': 4801, 'teenage': 4802, 'ace': 4803, 'sauce': 4804, 'livi': 4805, 'fowles': 4806, 'oliviafowles': 4807, '891': 4808, 'burnout': 4809, 'johnforceo': 4810, 'matthew': 4811, 'provoke': 4812, 'indiankulture': 4813, 'oppose': 4814, 'biker': 4815, 'dis': 4816, 'lyk': 4817, 'gud': 4818, 'weight': 4819, 'bcus': 4820, 'rubbish': 4821, 'veggie': 4822, 'steph': 4823, 'nj': 4824, 'x10': 4825, 'explore': 4826, 'listenable': 4827, 'cohesive': 4828, 'gossip': 4829, 'alex': 4830, 'heswifi': 4831, '7am': 4832, 'wub': 4833, 'cerbchan': 4834, 'jarraaa': 4835, 'morrrning': 4836, 'snooze': 4837, 'clicksco': 4838, 'gay': 4839, 'lesbian': 4840, 'rigid': 4841, 'theocratic': 4842, 'wing': 4843, 'fundamentalist': 4844, 'islamist': 4845, 'brianaaa': 4846, 'brianazabrocki': 4847, 'sky': 4848, 'batb': 4849, 'clap': 4850, 'working': 4851, 'whilst': 4852, 'aki': 4853, 'thencerest': 4854, '547': 4855, 'indiemusic': 4856, 'sexyjudy': 4857, 'pussy': 4858, 'sexo': 4859, 'humidity': 4860, '87': 4861, 'promotional': 4862, 'sloppy': 4863, \"second's\": 4864, 'stock': 4865, 'marmite': 4866, 'x9': 4867, 'nic': 4868, 'taft': 4869, 'finalist': 4870, 'lottery': 4871, 'award': 4872, 'usagi': 4873, 'looove': 4874, 'wowww': 4875, '💙': 4876, '💚': 4877, '💕': 4878, 'lepas': 4879, 'sembuh': 4880, 'sibuk': 4881, 'balik': 4882, 'kin': 4883, 'gotham': 4884, 'sunnyday': 4885, 'texting': 4886, 'dudettes': 4887, 'cost': 4888, 'flippin': 4889, 'fortune': 4890, 'divinediscontent': 4891, ';}': 4892, 'amnotness': 4893, 'autofollow': 4894, 'teamfollowback': 4895, 'geer': 4896, 'bat': 4897, 'mz': 4898, 'yang': 4899, 'deennya': 4900, 'jehwan': 4901, '11:00': 4902, 'julie': 4903, 'ashton': 4904, '✧': 4905, '｡': 4906, 'chelny': 4907, 'datz': 4908, 'jeremy': 4909, 'fmt': 4910, 'dat': 4911, 'heartbeat': 4912, 'clutch': 4913, '🐢': 4914, 'watching': 4915, 'besteverdoctorwhoepisode': 4916, 'relevant': 4917, 'puke': 4918, 'proper': 4919, 'x8': 4920, 'subliminal': 4921, 'eatmeat': 4922, 'brewproject': 4923, 'lovenafianna': 4924, 'mr': 4925, 'lewis': 4926, 'clock': 4927, '3:02': 4928, 'happens': 4929, 'muslim': 4930, 'prophet': 4931, 'غردلي': 4932, 'is.he': 4933, 'mistake': 4934, 'politician': 4935, 'argue': 4936, 'intellect': 4937, 'recommendation': 4938, 'shiva': 4939, 'mp3': 4940, 'apps': 4941, 'standrews': 4942, 'sandcastle': 4943, 'ewok': 4944, 'nate': 4945, 'brawl': 4946, 'rear': 4947, 'naked': 4948, 'choke': 4949, 'heck': 4950, 'gun': 4951, 'associate': 4952, 'um': 4953, 'endowment': 4954, 'ai': 4955, 'sikandar': 4956, 'pti': 4957, 'standwdik': 4958, 'westandwithik': 4959, 'starbucks': 4960, 'logo': 4961, 'obsession': 4962, 'addiction': 4963, 'renew': 4964, 'charity': 4965, 'جمعة_مباركة': 4966, 'hokies': 4967, 'biz': 4968, 'non': 4969, 'america': 4970, 'california': 4971, '01:16': 4972, '45gameplay': 4973, 'iloveyou': 4974, 'vex': 4975, 'igers': 4976, 'leicaq': 4977, 'leica': 4978, 'dudeee': 4979, 'persona': 4980, 'yepp': 4981, '5878e503': 4982, 'x7': 4983, 'greg': 4984, 'useful': 4985, 'posey': 4986, 'miami': 4987, 'james_yammouni': 4988, 'breakdown': 4989, 'material': 4990, 'thorin': 4991, 'hunt': 4992, 'choroo': 4993, 'nahi': 4994, 'aztec': 4995, 'princess': 4996, 'rainy': 4997, 'kingfisher': 4998, 'relaxed': 4999, 'chinua': 5000, 'achebe': 5001, 'intellectual': 5002, 'liquid': 5003, 'melbournetrip': 5004, 'taxikitchen': 5005, 'nooow': 5006, 'mcdo': 5007, 'everywhere': 5008, 'dreamer': 5009, 'tanisha': 5010, '1nonly': 5011, 'attitude': 5012, 'kindle': 5013, 'flame': 5014, 'conviction': 5015, 'bar': 5016, 'repath': 5017, 'adis': 5018, 'stefanie': 5019, 'sg1': 5020, 'lightbox': 5021, 'incorrect': 5022, 'spelling': 5023, 'apologist': 5024, 'x6': 5025, 'vuly': 5026, '01:15': 5027, 'batman': 5028, 'pearson': 5029, 'reputation': 5030, 'nikkei': 5031, 'woodford': 5032, 'vscocam': 5033, 'vscoph': 5034, 'vscogood': 5035, 'vscophil': 5036, 'vscocousins': 5037, 'yaap': 5038, 'urwelc': 5039, 'neon': 5040, 'pant': 5041, 'haaa': 5042, 'willing': 5043, 'auspost': 5044, 'openfollow': 5045, 'rp': 5046, 'eng': 5047, 'yūjō-cosplay': 5048, 'cosplayers': 5049, 'luxembourg': 5050, 'bunnys': 5051, 'broadcast': 5052, 'needa': 5053, 'gal': 5054, 'bend': 5055, 'heaven': 5056, 'proposal': 5057, 'score': 5058, 'january': 5059, 'hanabutle': 5060, 'kikhorny': 5061, 'interracial': 5062, 'makeup': 5063, 'chu': 5064, \"weekend's\": 5065, 'punt': 5066, 'horseracing': 5067, 'horse': 5068, 'horseracingtips': 5069, 'soulful': 5070, 'guitar': 5071, 'cocoared': 5072, 'salut': 5073, 'brief': 5074, 'introduction': 5075, 'indian': 5076, 'subcontinent': 5077, 'bfr': 5078, 'mauryas': 5079, 'jordanian': 5080, '00962778381': 5081, '838': 5082, 'tenyai': 5083, 'hee': 5084, 'ss': 5085, 'semi': 5086, 'atp': 5087, 'wimbledon': 5088, 'federer': 5089, 'nadal': 5090, 'monfils': 5091, 'handsome': 5092, 'cilic': 5093, 'firm': 5094, 'diary': 5095, 'potentially': 5096, 'nyc': 5097, 'chillin': 5098, 'lils': 5099, 'tail': 5100, 'kitten': 5101, 'garret': 5102, 'baz': 5103, 'leo': 5104, 'xst': 5105, 'centrifugal': 5106, 'haired': 5107, 'eternity': 5108, 'forgive': 5109, 'kangin': 5110, 'بندر': 5111, 'العنزي': 5112, 'kristin': 5113, 'cass': 5114, 'surajettan': 5115, 'kashi': 5116, 'ashwathy': 5117, 'mommy': 5118, 'tirth': 5119, 'brambhatt': 5120, 'playing': 5121, 'snooker': 5122, 'compensation': 5123, 'theoper': 5124, '479': 5125, 'premiostumundo': 5126, 'differ': 5127, 'philosophical': 5128, 'x5': 5129, 'graphic': 5130, 'skills': 5131, 'level': 5132, 'thurs': 5133, 'aug': 5134, 'excl': 5135, 'raw': 5136, 'weenie': 5137, 'annoyingbaby': 5138, 'lazy': 5139, 'cosy': 5140, 'client_amends_edit': 5141, '_5_final_final_final': 5142, 'pdf': 5143, 'mauliate': 5144, 'ito': 5145, 'fridays': 5146, 'okkay': 5147, 'knock': 5148, \"soloist's\": 5149, 'ryu': 5150, 'saera': 5151, 'pinkeu': 5152, 'angry': 5153, 'animation': 5154, 'screencaps': 5155, 'jonghyun': 5156, 'seungyeon': 5157, 'cnblue': 5158, 'mbc': 5159, 'wgm': 5160, 'masa': 5161, 'entrepreneurship': 5162, 'empower': 5163, 'limpopo': 5164, 'picts': 5165, 'norapowel': 5166, 'hornykik': 5167, 'livesex': 5168, 'emirates': 5169, 'pumpkin': 5170, 'reserve': 5171, 'thrice': 5172, 'patron': 5173, 'venture': 5174, 'deathcure': 5175, 'boob': 5176, 'blame': 5177, 'dine': 5178, 'modern': 5179, 'grill': 5180, 'disk': 5181, 'nt4': 5182, 'iirc': 5183, 'ux': 5184, 'refinement': 5185, 'zdps': 5186, 'didnt': 5187, 'justice': 5188, 'daw': 5189, 'tine': 5190, 'gensan': 5191, 'frightlings': 5192, 'undead': 5193, 'plush': 5194, 'cushion': 5195, 'nba': 5196, '2k15': 5197, 'mypark': 5198, 'chronicle': 5199, 'gryph': 5200, 'volume': 5201, 'favorable': 5202, 'ellen': 5203, 'degeneres': 5204, 'shirt': 5205, 'mint': 5206, 'superdry': 5207, 'berangkaat': 5208, 'lagiii': 5209, 'siguro': 5210, 'un': 5211, 'kesa': 5212, 'lotsa': 5213, 'organisation': 5214, '4am': 5215, 'fingers-crossed': 5216, 'deep': 5217, 'htaccess': 5218, 'file': 5219, 'adf': 5220, 'womad': 5221, 'gran': 5222, 'canaria': 5223, 'gig': 5224, 'twist': 5225, 'define': 5226, 'youve': 5227, 'teamnatural': 5228, 'huni': 5229, 'yayayayay': 5230, 'yt': 5231, 'convention': 5232, 'barely': 5233, 'brighton': 5234, 'slay': 5235, 'nickname': 5236, 'babygirl': 5237, 'regard': 5238, 'himmat': 5239, 'karain': 5240, 'baat': 5241, 'meri': 5242, 'debate': 5243, 'hotee-my': 5244, 'uncle': 5245, 'tongue': 5246, 'pronounce': 5247, 'native': 5248, 'american': 5249, 'proverb': 5250, 'lovable': 5251, 'yesha': 5252, 'montoya': 5253, 'eagerly': 5254, 'waiting': 5255, 'payment': 5256, 'supreme': 5257, 'leon': 5258, 'randy': 5259, '9bis': 5260, 'physique': 5261, 'shave': 5262, 'uncut': 5263, 'boi': 5264, 'printing': 5265, 'regular': 5266, 'printer': 5267, 'nz': 5268, 'large': 5269, 'format': 5270, '10/10': 5271, 'senior': 5272, 'raid': 5273, 'conserve': 5274, 'battery': 5275, 'comfortable': 5276, 'swt': 5277, 'reservations@sandsbeach.eu': 5278, 'localgaragederby': 5279, 'campus': 5280, 'subgames': 5281, 'faceit': 5282, 'snpcaht': 5283, 'hakhakhak': 5284, 't___t': 5285, \"kyungsoo's\": 5286, 'animated': 5287, '3d': 5288, 'property': 5289, 'agent': 5290, 'accurate': 5291, 'description': 5292, 'theory': 5293, 'x4': 5294, '15.90': 5295, 'yvette': 5296, 'author': 5297, 'mwf': 5298, 'programme': 5299, 'taal': 5300, 'lake': 5301, '2emt': 5302, '«': 5303, 'scurri': 5304, 'agile': 5305, 'shipping': 5306, 'solution': 5307, 'sme': 5308, 'omar': 5309, 'kamaal': 5310, 'amm': 5311, '3am': 5312, 'hopehousekids': 5313, 'pitmantraining': 5314, 'walkersmithway': 5315, 'keepitlocal': 5316, 'sehun': 5317, 'se100leaders': 5318, 'uneventful': 5319, 'sofa': 5320, 'surf': 5321, 'cunt': 5322, 'unfollow': 5323, 'convos': 5324, 'rescoops': 5325, 'multiracial': 5326, 'fk': 5327, 'narrow': 5328, 'warlock': 5329, 'faithful': 5330, 'balloon': 5331, 'pas': 5332, 'mj': 5333, 'madison': 5334, 'beonknockknock': 5335, 'con-graduation': 5336, 'gent': 5337, 'bitchface': 5338, '😒': 5339, 'organic': 5340, '12pm': 5341, 'york': 5342, 'lendal': 5343, 'pikami': 5344, 'capture': 5345, 'fulton': 5346, 'sheen': 5347, 'baloney': 5348, 'unvarnished': 5349, 'thick': 5350, 'blarney': 5351, 'flattery': 5352, 'laid': 5353, 'thin': 5354, 'sachin': 5355, 'unimportant': 5356, 'context': 5357, 'dampen': 5358, 'excitement': 5359, 'yu': 5360, 'compare': 5361, 'rocket': 5362, 'narendra': 5363, 'modi': 5364, 'aaaand': 5365, \"team's\": 5366, 'macauley': 5367, 'however': 5368, 'x3': 5369, 'wheeen': 5370, 'heechul': 5371, 'toast': 5372, 'coffee-weekdays': 5373, '9-11': 5374, 'sail': 5375, \"friday's\": 5376, 'commercial': 5377, 'insurance': 5378, 'requirement': 5379, 'lookfortheo': 5380, 'updated': 5381, 'cl': 5382, 'thou': 5383, 'april': 5384, 'airforce': 5385, 'clark': 5386, 'field': 5387, 'pampanga': 5388, 'troll': 5389, '⚡': 5390, 'brow': 5391, 'oily': 5392, 'maricarljanah': 5393, '6:15': 5394, 'degree': 5395, 'fahrenheit': 5396, '🍸': 5397, '╲': 5398, '─': 5399, '╱': 5400, '🍤': 5401, '╭': 5402, '╮': 5403, '┓': 5404, '┳': 5405, '┣': 5406, '╰': 5407, '╯': 5408, '┗': 5409, '┻': 5410, 'stool': 5411, 'topple': 5412, 'findyourfit': 5413, 'preferred': 5414, 'whomosexual': 5415, 'stack': 5416, 'pandora': 5417, 'attend': 5418, 'digitalexeter': 5419, 'digitalmarketing': 5420, 'sociamedia': 5421, 'nb': 5422, 'bom': 5423, 'dia': 5424, 'todos': 5425, 'forklift': 5426, 'worker': 5427, 'lsceens': 5428, 'immature': 5429, 'gandhi': 5430, 'grassy': 5431, 'feetblog': 5432, 'daughter': 5433, '4yrs': 5434, 'old-porridge': 5435, 'fiend': 5436, '2nite': 5437, 'comp': 5438, 'viking': 5439, 't20blast': 5440, 'np': 5441, 'tax': 5442, 'feets': 5443, 'ooohh': 5444, 'petjam': 5445, 'virtual': 5446, 'pounce': 5447, 'benteke': 5448, 'agnes': 5449, 'socialmedia@dpdgroup.co.uk': 5450, 'sam': 5451, 'fruity': 5452, 'vodka': 5453, 'sellyourcarin': 5454, '5words': 5455, 'chaloniklo': 5456, 'pic.twitter.com/jxz2lbv6o': 5457, \"paperwhite's\": 5458, 'laser-like': 5459, 'focus': 5460, 'ghost': 5461, 'tagsforlikesapp': 5462, 'instagood': 5463, 'tbt': 5464, 'socket': 5465, 'spanner': 5466, 'patiently': 5467, '😴': 5468, 'pglcsgo': 5469, 'x2': 5470, 'tend': 5471, 'crave': 5472, 'sjw': 5473, 'cakehamper': 5474, 'glow': 5475, 'yayyy': 5476, 'mercedes': 5477, 'hood': 5478, 'badge': 5479, 'hosted': 5480, 'drone': 5481, 'blow': 5482, 'ignore': 5483, 'retaliate': 5484, 'bollinger': 5485, \"where's\": 5486, 'planning': 5487, 'denmark': 5488, 'whitey': 5489, 'culture': 5490, 'coursee': 5491, 'intro': 5492, 'graphicdesign': 5493, 'videographer': 5494, 'youtuber': 5495, 'space': 5496, \"ted's\": 5497, 'bogus': 5498, '1000': 5499, 'hahahaaah': 5500, 'owly': 5501, 'afternon': 5502, 'whangarei': 5503, 'katie': 5504, 'nicholas': 5505, 'pauline': 5506, 'trafficker': 5507, 'daring': 5508, 'hence': 5509, 'expression': 5510, 'wot': 5511, 'hand-lettering': 5512, 'roof': 5513, 'ease': 5514, '2/2': 5515, 'sour': 5516, 'dough': 5517, 'egypt': 5518, 'hubby': 5519, 'mixed': 5520, 'sakin': 5521, 'six': 5522, 'christmas': 5523, 'avril': 5524, 'n04js': 5525, '25': 5526, 'prosecco': 5527, 'pech': 5528, 'micro': 5529, 'catspjs': 5530, '4:15': 5531, 'lazyweekend': 5532, 'overdue': 5533, '💃': 5534, 'jurassic': 5535, 'ding': 5536, 'nila': 5537, 'pairing': 5538, '8)': 5539, 'unfortunately': 5540, 'cookie': 5541, 'shir': 5542, '0': 5543, 'hale': 5544, 'cheshire': 5545, 'decorate': 5546, 'lemme': 5547, 'recs': 5548, 'ingat': 5549, 'din': 5550, 'mono': 5551, 'kathryn': 5552, 'jr': 5553, 'develop': 5554, 'hsr': 5555, 'base': 5556, 'major': 5557, 'sugarrush': 5558, 'knitting': 5559, 'partly': 5560, 'binge': 5561, 'homegirl': 5562, 'nancy': 5563, 'fenja': 5564, 'aapke': 5565, 'benchmark': 5566, 'ke': 5567, 'hisaab': 5568, 'ho': 5569, 'gaya': 5570, 'ofc': 5571, 'influence': 5572, 'rtss': 5573, 'hwaiting': 5574, 'titanfall': 5575, 'xbox': 5576, 'ultimate': 5577, 'experiment': 5578, 'gastronomy': 5579, 'newblogpost': 5580, 'foodiefridays': 5581, 'foodie': 5582, 'yoghurt': 5583, 'pancake': 5584, 'sabah': 5585, 'kapima': 5586, 'gelen': 5587, 'guzel': 5588, 'bir': 5589, 'hediye': 5590, 'thanx': 5591, '💞': 5592, 'visa': 5593, 'parisa': 5594, 'epiphany': 5595, 'lit': 5596, 'em-con': 5597, 'defender': 5598, '0330 333 7234': 5599, 'retailer': 5600, 'kianweareproud': 5601, 'distract': 5602, 'dayofarch': 5603, '10-20': 5604, 'bapu': 5605, 'ivypowel': 5606, 'newmusic': 5607, 'sexchat': 5608, '🍅': 5609, 'pathway': 5610, 'balkan': 5611, 'gypsy': 5612, 'mayhem': 5613, 'burek': 5614, 'meat': 5615, 'gibanica': 5616, 'pie': 5617, 'likely': 5618, 'surrey': 5619, 'afterwards': 5620, '10.30': 5621, 'heard': 5622, 'temporal': 5623, 'void': 5624, 'stem': 5625, 'sf': 5626, 'ykr': 5627, 'sparky': 5628, '40mm': 5629, '3.5': 5630, 'grs': 5631, 'rockfishing': 5632, 'topwater': 5633, 'twitlonger': 5634, 'me.so': 5635, 'jummah': 5636, 'durood': 5637, 'pak': 5638, 'cjradacomateada': 5639, 'suprised': 5640, 'debut': 5641, 'shipper': 5642, 'aside': 5643, 'housemate': 5644, '737bigatingconcert': 5645, 'jedzjabłka': 5646, 'pijjabłka': 5647, 'polish': 5648, 'cider': 5649, 'mustread': 5650, 'cricket': 5651, 'origin': 5652, '5pm': 5653, 'query': 5654, 'abby': 5655, 'sumedh': 5656, 'sunnah': 5657, 'عن': 5658, 'quad': 5659, 'bike': 5660, 'carrie': 5661, 'propriety': 5662, 'chronic': 5663, 'illness': 5664, 'superday': 5665, 'chocolatey': 5666, 'yasu': 5667, 'ooooh': 5668, 'fucked': 5669, 'hallo': 5670, 'improvement': 5671, 'dylan': 5672, 'laura': 5673, 'patrice': 5674, 'keepin': 5675, 'mohr': 5676, 'guest': 5677, \"o'neal\": 5678, 'tks': 5679, 'luas': 5680, 'stone': 5681, 'quicker': 5682, 'diet': 5683, 'sosweet': 5684, 'nominiere': 5685, 'und': 5686, 'hardcore': 5687, '😌': 5688, 'ff__special': 5689, 'acha': 5690, 'banda': 5691, '✌': 5692, 'bhi': 5693, 'krta': 5694, 'beautifully-crafted': 5695, 'mockingbird': 5696, 'diploma': 5697, 'blend': 5698, 'numbero': 5699, 'lolz': 5700, 'ambrose': 5701, 'gwinett': 5702, 'bierce': 5703, 'suffer': 5704, 'ravage': 5705, 'illadvised': 5706, 'marriage': 5707, 'virginity': 5708, 'cynical': 5709, 'yahuda': 5710, 'nosmet': 5711, 'pony': 5712, 'cuuute': 5713, \"f'ing\": 5714, 'vacant': 5715, 'hauc': 5716, 'lovesss': 5717, 'hiss': 5718, 'overnight': 5719, 'cornish': 5720, 'all-clear': 5721, 'complains': 5722, 'raincoat': 5723, 'measure': 5724, 'wealth': 5725, 'invest': 5726, 'garbi': 5727, 'wash': 5728, 'refuel': 5729, 'dunedin': 5730, 'kalle': 5731, 'rakhi': 5732, 'photographer': 5733, '12th': 5734, 'carry': 5735, 'represent': 5736, 'slovenia': 5737, 'fridge': 5738, 'fighting': 5739, 'ludlow': 5740, '28th': 5741, 'selway': 5742, 'submit': 5743, 'spanish': 5744, 'greet': 5745, '90210': 5746, 'oitnb': 5747, 'prepare': 5748, 'condition': 5749, 'msged': 5750, 'chiquitos': 5751, 'ohaha': 5752, 'delhi': 5753, '95': 5754, 'webtogsawards': 5755, 'grace': 5756, 'sheffield': 5757, 'tramline': 5758, 'tl': 5759, 'hack': 5760, 'lad': 5761, 'beeepin': 5762, 'duper': 5763, 'handle': 5764, 'critique': 5765, 'contectually': 5766, 'beliebers': 5767, 'ultor': 5768, 'mamaya': 5769, 'loiyals': 5770, 'para': 5771, 'truthfulwordsof': 5772, 'beanatividad': 5773, 'nknkkpagpapakumbaba': 5774, 'birthdaypresent': 5775, 'compliment': 5776, 'swerve': 5777, 'goodtime': 5778, 'sinister': 5779, 'tryna': 5780, 'anonymous': 5781, 'dipsatch': 5782, 'aunt': 5783, 'dagga': 5784, 'burketeer': 5785, '2am': 5786, 'promo': 5787, 'required': 5788, 'twine': 5789, \"diane's\": 5790, 'happybirthday': 5791, 'thanksss': 5792, 'randomly': 5793, 'buckinghampalace': 5794, 'personality': 5795, 'chibi': 5796, 'maker': 5797, 'timog': 5798, '18th': 5799, 'otw': 5800, 'kami': 5801, 'feelinggood': 5802, 'demand': 5803, 'naman': 5804, 'barkin': 5805, 'yeap': 5806, 'onkey': 5807, 'umma': 5808, 'pervert': 5809, 'onyu': 5810, 'appa': 5811, 'lucy': 5812, 'horrible': 5813, 'quantum': 5814, 'blockchain': 5815, 'nowplaying': 5816, 'loftey': 5817, 'routte': 5818, 'assia': 5819, '.\\n.\\n.': 5820, 'joint': 5821, 'futurereleases': 5822, \"look's\": 5823, 'scary': 5824, 'murder': 5825, 'mystery': 5826, 'comma': 5827, \"j's\": 5828, 'hunny': 5829, 'diva': 5830, 'emily': 5831, 'nathan': 5832, 'meditation': 5833, 'alumnus': 5834, 'mba': 5835, 'representative': 5836, 'foto': 5837, 'what-is-your-fashionality': 5838, 'lorenangel': 5839, 'kw': 5840, 'tellanoldjokeday': 5841, 'reqd': 5842, 'speculation': 5843, 'consistency': 5844, 'tropic': 5845, 'startupph': 5846, 'zodiac': 5847, 'rapunzel': 5848, 'imaginative': 5849, 'therver': 5850, '85552': 5851, 'bestoftheday': 5852, 'oralsex': 5853, 'carly': 5854, 'happily': 5855, 'contract': 5856, 'matsu_bouzu': 5857, 'sonic': 5858, 'videogames': 5859, 'harana': 5860, 'belfast': 5861, 'danny': 5862, 'rare': 5863, 'sponsorship': 5864, 'aswell': 5865, 'gigi': 5866, 'nick': 5867, 'austin': 5868, 'youll': 5869, 'weak': 5870, '10,000': 5871, 'bravo': 5872, 'iamamonster': 5873, 'rxthedailysurveyvotes': 5874, 'as': 5875, 'roux': 5876, 'walkin': 5877, 'audience': 5878, 'pfb': 5879, 'jute': 5880, 'walangmakakapigilsakin': 5881, 'lori': 5882, 'ehm': 5883, 'trick': 5884, 'baekhyun': 5885, 'eyesmiles': 5886, 'borrow': 5887, 'knife': 5888, 'thek': 5889, 'widely': 5890, 'eventually': 5891, 'reaapearing': 5892, 'kno': 5893, 'whet': 5894, 'grattis': 5895, 'tweetin': 5896, 'inshallah': 5897, 'banana': 5898, 'raspberry': 5899, 'healthylifestyle': 5900, 'aint': 5901, 'skate': 5902, 'analyze': 5903, 'variety': 5904, 'twitching': 5905, '4:13': 5906, 'insomnia': 5907, 'medication': 5908, 'opposite': 5909, 'everlasting': 5910, 'yoga': 5911, 'massage': 5912, 'osteopath': 5913, 'trainer': 5914, 'sharm': 5915, 'al_master_band': 5916, 'tbc': 5917, 'univesity': 5918, 'architecture': 5919, 'random': 5920, 'isnt': 5921, 'typo': 5922, 'snark': 5923, 'lessions': 5924, 'drunk': 5925, 'bruuh': 5926, '2weeks': 5927, '50europe': 5928, '🇫🇷': 5929, 'iove': 5930, 'accord': 5931, 'mne': 5932, 'pchelok': 5933, 'ja': 5934, 'carefully': 5935, '=:': 5936, 'comet': 5937, 'ahah': 5938, 'candy': 5939, 'axio': 5940, 'remind': 5941, 'rabbit': 5942, 'nutshell': 5943, 'letshavecocktailsafternuclai': 5944, 'malik': 5945, 'umair': 5946, 'celebrity': 5947, 'canon': 5948, 'gang': 5949, 'grind': 5950, 'thoracicbridge': 5951, '5minute': 5952, 'nonscripted': 5953, 'password': 5954, 'shoshannavassil': 5955, 'addmeonsnapchat': 5956, 'dmme': 5957, 'mpoints': 5958, 'soph': 5959, 'subjective': 5960, 'painful': 5961, 'hopeless': 5962, 'ikea': 5963, 'slide': 5964, 'ban': 5965, 'neighbour': 5966, 'motor': 5967, 'search': 5968, 'sialan': 5969, 'athabasca': 5970, 'glacier': 5971, '1948': 5972, ':-(': 5973, 'jasper': 5974, 'jaspernationalpark': 5975, 'alberta': 5976, 'explorealberta': 5977, 'mare': 5978, 'ivan': 5979, 'hahahah': 5980, 'replacement': 5981, 'bi-polar': 5982, 'grasp': 5983, 'basic': 5984, 'digital': 5985, 'research': 5986, '😩': 5987, 'choreographing': 5988, 'longer': 5989, 'mingming': 5990, 'truly': 5991, 'pee': 5992, 'newwine': 5993, 'doushite': 5994, 'gundam': 5995, 'dollar': 5996, 'pale': 5997, 'imitation': 5998, 'rash': 5999, 'absent': 6000, 'sequel': 6001, 'ouucchhh': 6002, 'wisdom': 6003, 'teeth': 6004, 'frighten': 6005, 'pret': 6006, 'wkwkw': 6007, 'verfied': 6008, 'sentir-se': 6009, 'incompleta': 6010, 'thwarting': 6011, 'zante': 6012, \"when's\": 6013, 'audraesar': 6014, 'craaazzyy': 6015, 'helium': 6016, 'climatechange': 6017, \"california's\": 6018, 'influential': 6019, 'pollution': 6020, 'watchdog': 6021, 'califor': 6022, 'elhaida': 6023, 'jury': 6024, '10th': 6025, 'televoting': 6026, 'idaho': 6027, 'drought-linked': 6028, 'die-of': 6029, 'abrupt': 6030, 'climate': 6031, 'mammoth': 6032, 'megafauna': 6033, \"australia's\": 6034, 'considers': 6035, 'energy': 6036, 'biomass': 6037, 'golf': 6038, 'ulti': 6039, 'prexy': 6040, 'kindergarten': 6041, 'sane': 6042, 'boss': 6043, 'hozier': 6044, 'soooner': 6045, 'respectlost': 6046, 'hypercholesteloremia': 6047, 'calibraska': 6048, 'genuine': 6049, 'contender': 6050, 'aos': 6051, 'yun': 6052, 'encore': 6053, '4thwin': 6054, 'baymax': 6055, 'mixer': 6056, 'wft': 6057, 'promotion': 6058, 'hub': 6059, 'finale': 6060, 'parasyte': 6061, 'alll': 6062, 'zayniscomingbackonjuly': 6063, '26': 6064, 'era': 6065, '。': 6066, 'ω': 6067, '」': 6068, '∠': 6069, 'nathann': 6070, 'dieididieieiei': 6071, 'netflix': 6072, 'ervin': 6073, 'accept': 6074, 'desperate': 6075, 'amargolonnard': 6076, 'batalladelosgallos': 6077, 'webcamsex': 6078, 'duty': 6079, \"u've\": 6080, 'alien': 6081, 'sorka': 6082, 'funeral': 6083, 'nonexistent': 6084, 'wowza': 6085, 'fah': 6086, 'boo': 6087, 'hyung': 6088, 'predict': 6089, 'sj': 6090, 'nominate': 6091, 'brace': 6092, 'omggg': 6093, 'whyyy': 6094, 'annoying': 6095, 'evan': 6096, 'opt': 6097, 'muster': 6098, 'merchs': 6099, 'drinking': 6100, 'savanna': 6101, 'straw': 6102, 'yester': 6103, 'whens': 6104, 'consume': 6105, 'werk': 6106, 'foreals': 6107, 'wesen': 6108, 'uwesiti': 6109, 'bosen': 6110, 'egg': 6111, 'benny': 6112, 'badly': 6113, '>:(': 6114, 'zaz': 6115, 'rehash': 6116, 'mushroom': 6117, 'piece': 6118, 'exception': 6119, 'vicky': 6120, '45': 6121, 'hahah': 6122, 'ninasty': 6123, 'tsktsk': 6124, 'dick': 6125, 'kawaii': 6126, 'manly': 6127, 'youu': 6128, 'potato': 6129, 'fry': 6130, 'asf': 6131, 'eish': 6132, 'ive': 6133, 'mojo': 6134, 'mara': 6135, 'neh': 6136, 'association': 6137, 'councillor': 6138, 'sholong': 6139, 'reject': 6140, 'gee': 6141, 'gidi': 6142, 'lagos': 6143, 'ehn': 6144, 'arrest': 6145, 'idk': 6146, 'anybody': 6147, 'disappear': 6148, 'daze': 6149, 'fragment': 6150, \"would've\": 6151, 'walao': 6152, 'kbs': 6153, 'djderek': 6154, 'legend': 6155, 'tragedy': 6156, '💪🏻': 6157, '🐒': 6158, 'strucked': 6159, 'belgium': 6160, 'fabian': 6161, 'delph': 6162, 'draking': 6163, 'silently': 6164, 'mumma': 6165, 'pray': 6166, 'appropriate': 6167, 'woke': 6168, 'across': 6169, 'hindi': 6170, 'disability': 6171, 'pension': 6172, 'ptsd': 6173, 'impossible': 6174, 'physically': 6175, 'financially': 6176, 'nooo': 6177, 'togheter': 6178, '21st': 6179, 'snsd': 6180, 'anna': 6181, 'akana': 6182, 'askip': 6183, \"t'existes\": 6184, 'decides': 6185, 'kei': 6186, 'kate': 6187, 'spade': 6188, 'pero': 6189, 'walang': 6190, 'agesss': 6191, 'corinehurleigh': 6192, 'snapchatme': 6193, 'sfs': 6194, 'zara': 6195, 'trouser': 6196, \"it'okay\": 6197, 'luckely': 6198, 'orcalove': 6199, 'lew': 6200, 'crumble': 6201, 'mcflurry': 6202, 'cable': 6203, 'scared': 6204, \"venus's\": 6205, 'concept': 6206, 'rly': 6207, 'tagal': 6208, 'awful': 6209, 'appointment': 6210, 'cereal': 6211, 'previous': 6212, '73': 6213, 'fansign': 6214, 'expensive': 6215, 'zzzz': 6216, \"bff's\": 6217, 'extremely': 6218, \"deosn't\": 6219, 'liverpool': 6220, 'tacky': 6221, 'haaretz': 6222, 'israel': 6223, 'syria': 6224, 'chemical': 6225, 'wsj': 6226, 'rep': 6227, 'bts': 6228, 'wong': 6229, 'confiscate': 6230, 'icepack': 6231, 'dos': 6232, 'whimper': 6233, 'senpai': 6234, 'buttsex': 6235, \"dn't\": 6236, 'brk': 6237, \":'(\": 6238, 'falsetto': 6239, 'zone': 6240, 'loveofmylife': 6241, 's2': 6242, 'untruth': 6243, 'ij': 6244, '💥': 6245, '💫': 6246, 'soshi': 6247, 'buttt': 6248, 'heyyy': 6249, 'yeols': 6250, 'danceee': 6251, 'nemanja': 6252, 'vidic': 6253, 'roma': 6254, \"mom's\": 6255, 'linguist': 6256, \"dad's\": 6257, 'dumb': 6258, 'wanted': 6259, 'pouring': 6260, 'crash': 6261, 'resource': 6262, 'vehicle': 6263, 'ayex': 6264, 'lamon': 6265, 'scroll': 6266, 'curve': 6267, 'cement': 6268, '10.3': 6269, 'jmu': 6270, 'camp': 6271, 'tease': 6272, 'awuna': 6273, 'mbulelo': 6274, 'although': 6275, 'crackling': 6276, 'plug': 6277, 'fuse': 6278, 'dammit': 6279, 'carlton': 6280, 'aflblueshawks': 6281, \"alex's\": 6282, 'motorsport': 6283, 'cheeky': 6284, 'seo': 6285, 'nls': 6286, 'christy': 6287, 'niece': 6288, 'bloody': 6289, 'sandwhich': 6290, 'buset': 6291, 'discrimination': 6292, 'pregnancy': 6293, 'f': 6294, 'maternity': 6295, 'kick': 6296, 'domesticviolence': 6297, 'domestic': 6298, 'violence': 6299, 'victim': 6300, '98fm': 6301, 'stressful': 6302, 'upsetting': 6303, 'government': 6304, 'sapiosexual': 6305, 'beta': 6306, 'hogan': 6307, 'scrub': 6308, 'wwe': 6309, 'irene': 6310, 'naa': 6311, 'h_my_king': 6312, 'valentine': 6313, 'et': 6314, \"r'ships\": 6315, 'btwn': 6316, 'homo': 6317, 'biphobic': 6318, 'discipline': 6319, 'incl': 6320, 'european': 6321, 'langs': 6322, 'fresherstofinals': 6323, '💔': 6324, 'realistic': 6325, 'liking': 6326, 'prefer': 6327, 'benzema': 6328, 'hahahahahaah': 6329, 'donno': 6330, 'russian': 6331, 'waaa': 6332, 'eidwithgrofers': 6333, 'boreddd': 6334, 'mug': 6335, 'tiddler': 6336, '에이핑크': 6337, '더쇼': 6338, 'clan': 6339, 'slot': 6340, 'pfff': 6341, 'bugbounty': 6342, 'self-xss': 6343, 'host': 6344, 'header': 6345, 'poison': 6346, 'execution': 6347, 'ktksbye': 6348, 'cancel': 6349, 'petite': 6350, '600': 6351, 'security': 6352, 'odoo': 6353, 'partner': 6354, 'effin': 6355, 'ap': 6356, 'living': 6357, 'elsewhere': 6358, 'branch': 6359, 'concern': 6360, 'pod': 6361, 'D;': 6362, 'talk-kama': 6363, 'hawako': 6364, 'waa': 6365, 'kimaaani': 6366, 'prisss': 6367, 'baggage': 6368, 'sugar': 6369, 'rarely': 6370, 'agh': 6371, 'undercoverboss': 6372, 'تكفى': 6373, 'ache': 6374, 'wrist': 6375, 'ligo': 6376, 'dozen': 6377, 'shark': 6378, 'heartache': 6379, 'zayniscomingback': 6380, 'sweden': 6381, 'elmhurst': 6382, 'etid': 6383, \"chillin'with\": 6384, 'father': 6385, 'istanya': 6386, '2supply': 6387, 'infrastructure': 6388, 'nurse': 6389, 'paramedic': 6390, 'countless': 6391, '2cope': 6392, 'bored': 6393, 'plea': 6394, 'arianator': 6395, 'streaming': 6396, 'kendall': 6397, 'kylie': 6398, \"kylie's\": 6399, 'manila': 6400, 'jeebus': 6401, 'reabsorbtion': 6402, 'abscess': 6403, 'threaten': 6404, 'crown': 6405, 'ooouch': 6406, 'barney': 6407, \"be's\": 6408, 'problematic': 6409, 'mess': 6410, 'maa': 6411, 'bangalore': 6412, 'luis': 6413, 'manzano': 6414, 'shaaa': 6415, 'convener': 6416, '2:30': 6417, 'delete': 6418, 'airfields': 6419, 'jet': 6420, \"jack's\": 6421, 'spamming': 6422, \"mommy's\": 6423, 'overweight': 6424, 'sigeg': 6425, 'habhab': 6426, 'masud': 6427, 'kaha': 6428, 'akong': 6429, 'pala': 6430, 'dolphin': 6431, 'holy': 6432, 'anythin': 6433, 'beware': 6434, 'agonising': 6435, 'modimo': 6436, 'tseba': 6437, 'wena': 6438, 'fela': 6439, 'nowt': 6440, 'willy': 6441, 'gon': 6442, 'vomit': 6443, 'bowl': 6444, 'devastate': 6445, 'titan': 6446, 'ae': 6447, 'shiny': 6448, 'wavy': 6449, 'emo': 6450, 'germany': 6451, 'shedding': 6452, 'bheyps': 6453, 'ayemso': 6454, 'left': 6455, 'swell': 6456, 'wut': 6457, 'vicious': 6458, 'simpson': 6459, 'singapore': 6460, 'pooo': 6461, 'bh3s': 6462, 'pitchwars': 6463, 'chap': 6464, \"mine's\": 6465, 'transcript': 6466, \"apma's\": 6467, 'timw': 6468, 'accs': 6469, 'vitamin': 6470, 'stretch': 6471, 'blockjam': 6472, \"schedule's\": 6473, 'whack': 6474, 'thelock': 6475, '76': 6476, 'hotgirls': 6477, 'ghantay': 6478, 'nai': 6479, 'hay': 6480, 'rejection': 6481, 'deny': 6482, 'laguna': 6483, 'exit': 6484, 'gomen': 6485, 'inch': 6486, 'suuuper': 6487, '65': 6488, 'anyones': 6489, 'inactive': 6490, 'orphan': 6491, 'whaaat': 6492, 'kaya': 6493, 'naaan': 6494, 'pause': 6495, '3:30': 6496, 'inglewood': 6497, 'ummm': 6498, 'charcoal': 6499, 'mid-end': 6500, 'noooo': 6501, 'rodfanta': 6502, 'wasp': 6503, 'sting': 6504, 'avert': 6505, 'exo': 6506, 'seekly': 6507, 'riptito': 6508, 'manbearpig': 6509, 'shorter': 6510, 'academic': 6511, 'exclusive': 6512, 'unfair': 6513, 'esp': 6514, 'bleak': 6515, 'german': 6516, 'chart': 6517, 'pfft': 6518, 'washed': 6519, 'polaroid': 6520, 'newbethvideo': 6521, 'greece': 6522, 'xur': 6523, 'imy': 6524, 'stud': 6525, 'earring': 6526, 'hunde': 6527, '3.4': 6528, 'yach': 6529, 'huvvft': 6530, 'zoo': 6531, 'fieldtrips': 6532, 'sizwe': 6533, 'boredom': 6534, 'who': 6535, 'sinse': 6536, 'somehow': 6537, 'tiny': 6538, 'barbell': 6539, 'looong': 6540, 'apartement': 6541, 'longe': 6542, 'litro': 6543, 'shepherd': 6544, 'lami': 6545, 'lungomare': 6546, 'pesaro': 6547, 'giachietittiwedding': 6548, 'igersoftheday': 6549, 'summertime': 6550, 'nose': 6551, 'scarf': 6552, 'aus': 6553, 'afford': 6554, 'woe': 6555, 'nigga': 6556, 'motn': 6557, 'lighting': 6558, 'make-up': 6559, 'limited': 6560, 'ver': 6561, 'huhuhu': 6562, \"m'lady\": 6563, 'j8': 6564, 'j11': 6565, 'm20': 6566, 'acads': 6567, 'schedule': 6568, 'nowww': 6569, 'hugh': 6570, 'paw': 6571, 'muddy': 6572, 'distracted': 6573, 'heyy': 6574, 'cupcake': 6575, 'talaga': 6576, 'poppin': 6577, 'joc': 6578, 'playin': 6579, 'subj': 6580, 'sobrang': 6581, 'bv': 6582, 'zamn': 6583, 'afropunk': 6584, 'fest': 6585, 'shithouse': 6586, 'ladder': 6587, 'wrack': 6588, 'booset': 6589, 'restart': 6590, 'assassin': 6591, 'creed': 6592, 'ii': 6593, 'heap': 6594, 'ankle': 6595, 'puddle': 6596, 'wearing': 6597, 'slipper': 6598, 'eve': 6599, 'sararocs': 6600, 'anywayhedidanicejob': 6601, '😞': 6602, 'local': 6603, 'cruise': 6604, 'wail': 6605, 'wheelchair': 6606, '26weeks': 6607, 'sbenu': 6608, 'sasin': 6609, 'anarchy': 6610, 'candle': 6611, 'forehead': 6612, 'medicine': 6613, 'hoya': 6614, 'mah': 6615, 'aing': 6616, 'hush': 6617, 'gurly': 6618, 'purty': 6619, 'closer': 6620, 'shiver': 6621, 'properly': 6622, 'gol': 6623, 'pea': 6624, 'emotionally': 6625, 'mentally': 6626, 'tierd': 6627, \"eye's\": 6628, 'thnkyouuu': 6629, 'highlight': 6630, 'courage': 6631, 'fishy': 6632, 'idek': 6633, 'apink': 6634, 'performance': 6635, 'bulet': 6636, 'gendut': 6637, 'noo': 6638, 'hotwheels': 6639, 'm': 6640, 'patch': 6641, 'ahaha': 6642, 'akon': 6643, 'nightmare': 6644, 'mino': 6645, 'crazyyy': 6646, 'thooo': 6647, 'zz': 6648, 'straight': 6649, 'soundcheck': 6650, 'antagonistic': 6651, 'ob': 6652, 'phantasy': 6653, 'sleepdeprived': 6654, 'tiredashell': 6655, '4aspot': 6656, \"kinara's\": 6657, 'awami': 6658, 'niqqa': 6659, 'pb.contestants': 6660, 'aarww': 6661, 'lmbo': 6662, 'dangit': 6663, 'ohmygod': 6664, 'scenario': 6665, 'tooo': 6666, 'baechyyy': 6667, 'okayyy': 6668, 'noone': 6669, 'drag': 6670, 'seriously': 6671, 'misundersranding': 6672, 'chal': 6673, 'raha': 6674, 'yhm': 6675, 'edsa': 6676, 'jasmingarrick': 6677, 'milf': 6678, 'nakamaforever': 6679, 'kiksex': 6680, 'tried': 6681, \"unicef's\": 6682, 'fu': 6683, 'alone': 6684, 'manage': 6685, 'stephen': 6686, 'frustration': 6687, 'sent': 6688, 'woza': 6689, 'senight': 6690, '468': 6691, 'amateur': 6692, 'hotscratch': 6693, 'sock': 6694, '150-160': 6695, 'peso': 6696, 'degrassi': 6697, 'bcz': 6698, 'kat': 6699, 'chem': 6700, 'onscreen': 6701, 'ofscreen': 6702, 'irony': 6703, 'rhisfor': 6704, 'camsex': 6705, 'poopie': 6706, 'pip': 6707, 'uff': 6708, '1.300': 6709, 'glue': 6710, 'factory': 6711, 'kuchar': 6712, 'ups': 6713, 'definite': 6714, 'uni': 6715, 'anyways': 6716, 'ee': 6717, 'tommy': 6718, 'georgia': 6719, 'transmission': 6720, 'orang': 6721, 'suma': 6722, 'shouldeeerr': 6723, 'repack': 6724, 'repacks': 6725, 'dye': 6726, 'rihanna': 6727, 'ginge': 6728, 'adidas': 6729, 'pro@illamasqua.com': 6730, 'ifeelyou': 6731, 'ratbaglater': 6732, 'semester': 6733, 'gin': 6734, 'gutted': 6735, 'reynold': 6736, 'dessert': 6737, 'village': 6738, 'unite': 6739, 'oppressed': 6740, 'mass': 6741, 'afghanistn': 6742, 'war': 6743, 'sunggyu': 6744, 'injure': 6745, 'plaster': 6746, 'rtd': 6747, 'stadium': 6748, 'welder': 6749, 'hogo': 6750, 'vishaya': 6751, 'adu': 6752, 'bjp': 6753, 'madatte': 6754, 'anta': 6755, 'vishwas': 6756, 'ne': 6757, 'illa': 6758, 'wua': 6759, 'noticed': 6760, 'picky': 6761, 'mutuals': 6762, 'unfollowed': 6763, 'thenting': 6764, '423': 6765, 'sexual': 6766, 'sync': 6767, 'plug.dj': 6768, 'suspemsion': 6769, 'cope': 6770, 'offroading': 6771, 'theres': 6772, 'harvest': 6773, 'machinery': 6774, 'inapropriate': 6775, 'weave': 6776, 'investment': 6777, 'scottish': 6778, 'football': 6779, 'dire': 6780, 'nomoney': 6781, 'nawf': 6782, 'bechos': 6783, 'overly': 6784, 'lab': 6785, 'zap': 6786, 'distressing': 6787, 'cinema': 6788, 'louisianashooting': 6789, 'laughing': 6790, 'har': 6791, 'chum': 6792, 'ncc': 6793, 'ph': 6794, 'kayo': 6795, 'itong': 6796, 'thaaat': 6797, 'ctto': 6798, 'expire': 6799, 'bis': 6800, 'broke': 6801, 'bi': 6802, '3:33': 6803, 'jfc': 6804, 'bodo': 6805, 'amat': 6806, 'yelaaa': 6807, 'dublin': 6808, 'potter': 6809, 'pining': 6810, 'keybind': 6811, 'warfare': 6812, 'controlls': 6813, 'diagnose': 6814, 'wiv': 6815, \"scheuermann's\": 6816, 'disease': 6817, 'rlyhurts': 6818, 'howdo': 6819, 'georgesampson': 6820, 'signal': 6821, 'reckon': 6822, 't20': 6823, 'taunton': 6824, 'hopeful': 6825, 'justiceforsandrabland': 6826, 'sandrabland': 6827, 'disturb': 6828, 'happpy': 6829, 'justinbieber': 6830, 'daianerufato': 6831, 'ilysm': 6832, '07:34': 6833, 'delphy': 6834, 'dom': 6835, 'technique': 6836, 'mince': 6837, 'symphony': 6838, 'joe': 6839, 'wth': 6840, 'aisyhhh': 6841, 'bald': 6842, 'seungchan': 6843, 'aigooo': 6844, 'riri': 6845, 'vet': 6846, 'va': 6847, 'luminous': 6848, 'km': 6849, 'horribly': 6850, 'z': 6851, 'popularity': 6852, 'bebeee': 6853, 'lt': 6854, 'inaccuracy': 6855, 'inaccurate': 6856, 'worried': 6857, 'tragic': 6858, 'toronto': 6859, 'stuart': 6860, \"party's\": 6861, 'iyalaya': 6862, ';(': 6863, 'ubusy': 6864, 'gymnastics': 6865, 'aahhh': 6866, 'noggin': 6867, 'bump': 6868, 'feelslikeanidiot': 6869, 'pregnant': 6870, 'dearly': 6871, 'suk': 6872, 'scone': 6873, 'outnumber': 6874, 'eris': 6875, 'geez': 6876, 'precious': 6877, 'hive': 6878, 'voting': 6879, 'vietnam': 6880, 'dunt': 6881, 'sob': 6882, 'buff': 6883, 'toni': 6884, 'deactivate': 6885, \"shady's\": 6886, 'isibaya': 6887, '😓': 6888, 'colder': 6889, 'med': 6890, 'sausage': 6891, 'adios': 6892, 'h8': 6893, 'messenger': 6894, 'shittier': 6895, 'leno': 6896, 'identity': 6897, 'crisis': 6898, 'roommate': 6899, 'nighter': 6900, 'wetherspoons': 6901, 'pubs': 6902, 'police': 6903, 'ocean': 6904, 'lisaherring': 6905, 'ebony': 6906, 'polka': 6907, 'ndi': 6908, 'leftover': 6909, 'walnut': 6910, 'boah': 6911, 'mady': 6912, 'manga': 6913, 'giant': 6914, 'aminormalyet': 6915, 'poorly': 6916, 'tummy': 6917, 'pjs': 6918, 'groaning': 6919, 'nou': 6920, 'ken': 6921, 'saras': 6922, 'accident': 6923, 'freaking': 6924, 'describe': 6925, 'prydz': 6926, 'sister-in-law': 6927, 'instal': 6928, 'rear-ended': 6929, \"everyone's\": 6930, 'trash': 6931, 'boobs': 6932, 'stair': 6933, 'childhood': 6934, 'toothsensitivity': 6935, 'shem': 6936, 'awell': 6937, 'weekendofmadness': 6938, '🍹': 6939, 'cb': 6940, 'dancer': 6941, 'choregrapher': 6942, '626-430-8715': 6943, 'replied': 6944, 'hoe': 6945, 'xiu': 6946, 'nk': 6947, 'gi': 6948, 'us': 6949, 'elisse': 6950, 'ksoo': 6951, 'tat': 6952, 'bcoz': 6953, 'rancho': 6954, 'imperial': 6955, 'silang': 6956, 'subdivision': 6957, 'center': 6958, '39': 6959, 'cornwall': 6960, 'veritably': 6961, 'penny': 6962, 'ebook': 6963, 'фотосет': 6964, 'addicted-to-analsex': 6965, 'sweetbj': 6966, 'blowjob': 6967, 'mhhh': 6968, 'sed': 6969, 'mee': 6970, 'envious': 6971, 'eonni': 6972, 'lovey': 6973, 'dovey': 6974, 'workin': 6975, 'schade': 6976, 'isco': 6977, 'penis': 6978, 'nation': 6979, 'louisiana': 6980, 'lafayette': 6981, 'matteroftheheart': 6982, 'waduh': 6983, 'suspend': 6984, 'smoking': 6985, 'cliche': 6986, 'rma': 6987, 'jersey': 6988, 'texted': 6989, 'jaclintiler': 6990, 'teens': 6991, 'likeforlike': 6992, 'hotfmnoaidilforariana': 6993, 'fuckkk': 6994, 'sanum': 6995, 'llaollao': 6996, 'foood': 6997, 'ubericecream': 6998, 'glare': 6999, 'choreo': 7000, 'offensive': 7001, 'yeyy': 7002, 'hd': 7003, 'sux': 7004, 'nothaveld': 7005, '765': 7006, 'likeforfollow': 7007, 'mosquitoe': 7008, 'kinky': 7009, 'hsould': 7010, 'justget': 7011, 'married': 7012, 'shuffle': 7013, 'inte': 7014, 'buckling': 7015, 'millz': 7016, 'askies': 7017, 'awusasho': 7018, 'unlucky': 7019, 'briefly': 7020, 'greatful': 7021, '144p': 7022, 'brooke': 7023, 'cracked': 7024, '＠': 7025, 'maverickgamer': 7026, '07:32': 7027, '07:25': 7028, 'external': 7029, 'sd': 7030, 'airdroid': 7031, '4.4+': 7032, 'cramp': 7033, 'unstan': 7034, 'tay': 7035, 'ngeze': 7036, 'cocktaily': 7037, 'classy': 7038, '07:24': 7039, '✈': 7040, '️2': 7041, '☔': 7042, 'pen': 7043, 'spar': 7044, 'barcelona': 7045, 'bilbao': 7046, 'sharyl': 7047, 'shane': 7048, 'giddy': 7049, 'd1': 7050, 'zipper': 7051, 'repair': 7052, '2016': 7053, 'cont': 7054, 'wore': 7055, 'tempt': 7056, 'oreo': 7057, 'network': 7058, 'lolipop': 7059, 'kebab': 7060, 'klappertart': 7061, 'moodboster': 7062, 'unprepared': 7063, 'sry': 7064, 'dresscode': 7065, 'closed': 7066, 'iam': 7067, 'stab': 7068, 'meh': 7069, 'wrocilam': 7070, 'looww': 7071, 'recover': 7072, 'wayne': 7073, 'loss': 7074, 'steal': 7075, 'accidentally': 7076, 'damage': 7077, 'device': 7078, 'warranty': 7079, 'lmfaoo': 7080, 'fra': 7081, 'otamendi': 7082, 'ny': 7083, '🚖': 7084, '🗽': 7085, '🌃': 7086, 'stealth': 7087, 'bastard': 7088, 'therapy': 7089, 'exhausting': 7090, 'understandable': 7091, 'switzerland': 7092, 'th': 7093, 'wolrd': 7094, 'fyn': 7095, 'genuinely': 7096, '3g': 7097, 'christ': 7098, 'scale': 7099, 'deck': 7100, 'chair': 7101, 'yk': 7102, 'resy': 7103, 'bruh': 7104, 'lock': 7105, 'fbc': 7106, 'mork': 7107, '873': 7108, 'hotspotwithdanris': 7109, 'sone': 7110, 'produce': 7111, 'potager': 7112, 'blight': 7113, 'mych': 7114, 'shiiit': 7115, 'prompt': 7116, 'aready': 7117, 'similar': 7118, 'soulmate': 7119, 'careful': 7120, 'hws': 7121, 'jouch': 7122, 'por': 7123, 'que': 7124, 'liceooo': 7125, 'ayala': 7126, 'tunnel': 7127, 'thatscold': 7128, 'lourdes': 7129, 'bang': 7130, 'anywhere': 7131, 'showbox': 7132, 'naruto': 7133, 'companion': 7134, 'skinny': 7135, 'dubai': 7136, 'laribuggy': 7137, 'nutella': 7138, \"could've\": 7139, 'sirius': 7140, 'frudging': 7141, 'bbz': 7142, 'angeke': 7143, 'sbali': 7144, 'euuuwww': 7145, 'construction': 7146, '1k': 7147, 'nelle': 7148, 'ik': 7149, 'jaysus': 7150, 'buti': 7151, 'poop': 7152, 'rome': 7153, 'throat': 7154, 'llama': 7155, 'getwellsoonamber': 7156, 'heath': 7157, 'ledger': 7158, 'permission': 7159, '2-0': 7160, 'supersport': 7161, 'milkshake': 7162, 'witcher': 7163, 'papertown': 7164, 'bale': 7165, 'bahay': 7166, 'bahayan': 7167, 'magisa': 7168, 'lang': 7169, 'sadlyf': 7170, 'bunso': 7171, 'sleeep': 7172, 'astonvilla': 7173, 'berigaud': 7174, 'bakar': 7175, 'allergic': 7176, 'depress': 7177, \"blaine's\": 7178, 'acoustic': 7179, 'hernia': 7180, 'toxin': 7181, 'ariel': 7182, 'slam': 7183, 'bee': 7184, 'finddjderek': 7185, 'uuughhh': 7186, 'grabe': 7187, 'wheres': 7188, 'smi': 7189, 'nemesis': 7190, 'neeein': 7191, 'saaad': 7192, 'crease': 7193, 'tanned': 7194, 'dallas': 7195, 'infront': 7196, 'beato': 7197, 'tim': 7198, 'minha': 7199, 'deleicious': 7200, 'pcb': 7201, 'got': 7202, 'peregrine': 7203, '8.40': 7204, 'pigeon': 7205, 'flew': 7206, 'tram': 7207, 'hav': 7208, 'spent': 7209, 'apt': 7210, 'bldg': 7211, 'mmmm': 7212, 'nicki': 7213, 'fucjikg': 7214, 'disgust': 7215, 'buynotanapologyonitunes': 7216, 'avalible': 7217, 'frustrate': 7218, 'nw': 7219, 'sch': 7220, 'jeslyn': 7221, '72': 7222, 'root': 7223, 'kuch': 7224, 'hua': 7225, 'newbie': 7226, 'miracle': 7227, 'linda': 7228, 'nux': 7229, 'hinanap': 7230, 'uy': 7231, 'sched': 7232, 'anyare': 7233, 'entertain': 7234, 'typa': 7235, 'transparency': 7236, 'photoshop': 7237, 'planner': 7238, 'helppp': 7239, 'wearig': 7240, 'dri': 7241, 'prey': 7242, 'ausfailia': 7243, 'snow': 7244, 'footy': 7245, 'row': 7246, \"m's\": 7247, 'kitkat': 7248, '😢': 7249, 'suger': 7250, 'olivia': 7251, 'audition': 7252, 'injury': 7253, 'appendix': 7254, 'appendicitis': 7255, 'fack': 7256, 'nhl': 7257, 'khamis': 7258, 'reaaly': 7259, 'naomi': 7260, 'contemporary': 7261, 'slacke': 7262, '565': 7263, 'jahat': 7264, 'discount': 7265, 'thorpe': 7266, 'nicely': 7267, 'esnho': 7268, 'node': 7269, 'directx': 7270, 'p2': 7271, 'uploaded': 7272, 'blackberry': 7273, 'shitty': 7274, 'povertyyouareevil': 7275, 'struggle': 7276, 'emm': 7277, 'elgin': 7278, 'vava': 7279, 'makati': 7280, '💛': 7281, 'baon': 7282, 'soak': 7283, 'mush': 7284, \"they'd\": 7285, 'ouat': 7286, 'blinkin': 7287, 'headack': 7288, 'tension': 7289, 'eritation': 7290, 'frustrated': 7291, 'perspective': 7292, 'endlessly': 7293, 'blush': 7294, 'kiddo': 7295, 'rumbelle': 7296, 'overwhelming': 7297, 'irresponsibly': 7298, 'pakighinabi': 7299, 'pinkfinite': 7300, 'beb': 7301, 'migraine': 7302, 'coyote': 7303, 'headache': 7304, '인피니트': 7305, 'baechu': 7306, 'calibraskaep': 7307, 'elgato': 7308, 'ant': 7309, 'unexpect': 7310, 'faint': 7311, 'bp': 7312, 'subway': 7313, 'fragile': 7314, 'gap': 7315, 'plot': 7316, 'bungie': 7317, 'woohyun': 7318, 'guilty': 7319, 'davao': 7320, 'luckyyy': 7321, 'confidence': 7322, 'eunhae': 7323, 'misplace': 7324, 'den': 7325, 'dae': 7326, 'bap': 7327, 'huehue': 7328, 'rice': 7329, 'krispy': 7330, 'marshmallow': 7331, 'm5m6junction': 7332, 'soulsurvivor': 7333, 'stafford': 7334, 'progress': 7335, 'mixture': 7336, \"they've\": 7337, 'shems': 7338, 'lage': 7339, 'ramd': 7340, 'opening': 7341, 'munchkin': 7342, 'parting': 7343, 'juja': 7344, 'murugan': 7345, 'bgtau': 7346, 'harap': 7347, 'bagi': 7348, 'aminn': 7349, 'fraand': 7350, '😬': 7351, 'bigbang': 7352, 'sian': 7353, 'nicoleapage': 7354, 'surprised': 7355, 'hellish': 7356, 'thirstyyy': 7357, 'chesties': 7358, \"nando's\": 7359, 'bow': 7360, 'hen': 7361, 'rdd': 7362, 'dissipate': 7363, 'capeee': 7364, 'japan': 7365, 'outlive': 7366, 'x-ray': 7367, 'dental': 7368, 'spine': 7369, 'relief': 7370, 'popol': 7371, 'stomach': 7372, 'frog': 7373, 'brad': 7374, 'gen.ad': 7375, 'negotiable': 7376, 'huhuhuhuhu': 7377, 'bbmadeinmanila': 7378, 'findavip': 7379, 'boyirl': 7380, 'yasss': 7381, '6th': 7382, 'june': 7383, 'laine': 7384, 'difficiency': 7385, 'speed': 7386, 'rapist': 7387, 'commit': 7388, 'crime': 7389, 'bachpan': 7390, 'yaadein': 7391, 'finnair': 7392, 'heathrow': 7393, 'norwegian': 7394, ':\\\\': 7395, 'upvotes': 7396, 'keeno': 7397, 'whatthefuck': 7398, 'grotty': 7399, 'seeker': 7400, 'morality': 7401, 'fern': 7402, 'mimi': 7403, 'bali': 7404, 'editing': 7405, 'lowbat': 7406, 'funk': 7407, 'wewanticecream': 7408, 'sweat': 7409, 'eugh': 7410, 'sara': 7411, 'occasionally': 7412, \"izzy's\": 7413, 'dorm': 7414, 'choppy': 7415, \"infinite's\": 7416, '5:30': 7417, 'cayton': 7418, 'emma': 7419, 'darcey': 7420, 'connor': 7421, 'roommateexperience': 7422, 'avoid': 7423, 'ic': 7424, 'te': 7425, 'auto-followback': 7426, 'ljp': 7427, 'nowdays': 7428, 'pleass': 7429, 'attach': 7430, 'numb': 7431, 'dentist': 7432, 'tab': 7433, 'ucas': 7434, 'bigtime': 7435, 'rumor': 7436, 'chin': 7437, 'tickle': 7438, '♫': 7439, 'zikra': 7440, 'lusi': 7441, 'hasya': 7442, 'nugget': 7443, 'olympic': 7444, \"millie's\": 7445, '748292': 7446, 'ano': 7447, '22stans': 7448, 'mag': 7449, 'hateee': 7450, 'lease': 7451, '6g': 7452, 'unsuccessful': 7453, 'earlobes': 7454, 'girls': 7455, 'sue': 7456, 'dreary': 7457, 'denise': 7458, 'murielle': 7459, 'ahouré': 7460, 'pr': 7461, \"kath'd\": 7462, 'respond': 7463, 'chopped': 7464, 'wbu': 7465, 'activity': 7466, 'kme': 7467, 'cram': 7468, 'curious': 7469, 'announcement': 7470, 'trespasser': 7471, 'clandestins': 7472, 'muller': 7473, 'obvious': 7474, 'mufc': 7475, 'stu': 7476, 'buddyyy': 7477, 'feelgoodfriday': 7478, '6:30': 7479, 'babysit': 7480, 'opixer': 7481, '805': 7482, 'pilllow': 7483, 'fool': 7484, 'brag': 7485, 'skrillah': 7486, 'drown': 7487, 'gue': 7488, 'north': 7489, 'sjkaos': 7490, 'disappointed': 7491, 'srry': 7492, 'honma': 7493, 'yeh': 7494, 'walay': 7495, 'bohat': 7496, 'wailay': 7497, 'pre-season': 7498, 'pe': 7499, 'itna': 7500, 'shor': 7501, 'machaya': 7502, 'samjha': 7503, '👍': 7504, '😔': 7505, 'sirkay': 7506, 'wali': 7507, 'pyaaz': 7508, 'daal': 7509, 'onion': 7510, 'vinegar': 7511, 'cooking': 7512, 'tutorial': 7513, 'soho': 7514, 'wobbly': 7515, 'ciao': 7516, 'masaan': 7517, 'muv': 7518, 'beast': 7519, 'hayst': 7520, 'cr': 7521, 'hnnn': 7522, 'optimisation': 7523, 'soniii': 7524, 'kahaaa': 7525, 'freeze': 7526, 'fml': 7527, 'jacket': 7528, 'sleepy': 7529, 'bully': 7530, 'racial': 7531, 'loool': 7532, 'onwards': 7533, 'coincidence': 7534, 'imac': 7535, 'gram': 7536, 'nearer': 7537, 'blaine': 7538, 'darren': 7539, 'fuuuck': 7540, 'gishwhes': 7541, 'exclude': 7542, 'movement': 7543, 'frou': 7544, 'vaccine': 7545, 'armor': 7546, 'legendary': 7547, 'cash': 7548, 'effort': 7549, 'nat': 7550, 'brake': 7551, 'grumpy': 7552, 'wreck': 7553, 'gahhh': 7554, 'terible': 7555, 'kiligs': 7556, 'shravan': 7557, 'maas': 7558, 'stooop': 7559, 'gi-guilty': 7560, 'akooo': 7561, 'imveryverysorry': 7562, 'cd': 7563, 'basename': 7564, 'theme': 7565, 'cigar': 7566, 'speaker': 7567, 'promethazine': 7568, 'zopiclone': 7569, 'addition': 7570, 'quetiapine': 7571, 'modified': 7572, 'prescription': 7573, 'greska': 7574, 'macedonian': 7575, 'slovak': 7576, 'hike': 7577, 'zokay': 7578, 'accent': 7579, 'b-but': 7580, 'gintama': 7581, 'shinsengumi': 7582, 'chapter': 7583, 'crapple': 7584, 'agrees': 7585, 'ftw': 7586, 'phandroid': 7587, 'tline': 7588, 'orchestra': 7589, 'rehearsal': 7590, 'bittersweetness': 7591, 'eunji': 7592, 'bakit': 7593, '121st': 7594, 'ehdar': 7595, 'pegea': 7596, 'panga': 7597, 'dosto': 7598, 'nd': 7599, 'real_liam_payne': 7600, '3/10': 7601, 'dmed': 7602, '23': 7603, 'alreaddyyy': 7604, 'luceleva': 7605, 'naeun': 7606, \"son's\": 7607, 'kidney': 7608, 'ink': 7609, 'bullying': 7610, 'ihatesomepeople': 7611, 'table': 7612, '0-2': 7613, 'hard-wired': 7614, 'canadian': 7615, 'enjoyed': 7616, 'acne': 7617, 'gulo': 7618, 'kandekjs': 7619, 'rize': 7620, 'meydan': 7621, 'fcking': 7622, 'crei': 7623, 'connection': 7624, 'dormmates': 7625, 'bo3': 7626, 'activation': 7627, 'cod': 7628, 'redeem': 7629, 'invalid': 7630, 'hopia': 7631, 'editor': 7632, 'reveal': 7633, 'booo': 7634, 'extension': 7635, 'rightnow': 7636, 'btu': 7637, 'karaoke': 7638, 'licence': 7639, 'apb': 7640, 'hahahaokay': 7641, 'basara': 7642, 'capcom': 7643, 'url': 7644, 'grumble': 7645, 'migrant': 7646, 'awsme': 7647, 'picking': 7648, 'tmw': 7649, 'uwu': 7650, 'jinki': 7651, 'taems': 7652, 'gifs': 7653, 'cambridge': 7654, 'viathe': 7655, 'cyprus': 7656, 'zayncomebackto': 7657, 'spazzing': 7658, 'soobin': 7659, '27': 7660, 'float': 7661, 'pressure': 7662, 'lifetime': 7663, 'hiondsheings': 7664, '58543': 7665, 'sexdate': 7666, \"demi's\": 7667, 'junjou': 7668, 'romantica': 7669, 'privilege': 7670, 'mixtape': 7671, 'convince': 7672, 'friex': 7673, 'shaylan': 7674, '4:20': 7675, 'ylona': 7676, 'nah': 7677, 'waitting': 7678, 'noon': 7679, 'ouh': 7680, 'nm': 7681, 'encanta': 7682, 'vale': 7683, 'osea': 7684, 'bea': 7685, '♛': 7686, '》': 7687, 'beli̇eve': 7688, 'wi̇ll': 7689, 'justi̇n': 7690, '350': 7691, 'ｓｅｅ': 7692, 'ｍｅ': 7693, '349': 7694, 'baek': 7695, 'dunwan': 7696, 'suan': 7697, 'haiz': 7698, '348': 7699, 'adult': 7700, '347': 7701, '😕': 7702, 'insonia': 7703, '346': 7704, 'rick': 7705, 'ross': 7706, 'heartbreaking': 7707, '345': 7708, 'millie': 7709, 'diff': 7710, 'golden': 7711, 'rosebury': 7712, 'familyhome': 7713, '344': 7714, 'monkey': 7715, '343': 7716, 'erica': 7717, 'istg': 7718, 'jackson': 7719, 'nsbzhdnxndamal': 7720, '342': 7721, '11:15': 7722, '2hours': 7723, '11:25': 7724, '341': 7725, 'mahilig': 7726, 'mam-bully': 7727, 'mtaani': 7728, 'tunaita': 7729, 'viazi': 7730, 'choma': 7731, 'jerk': 7732, 'menille': 7733, '340': 7734, \"kam's\": 7735, 'meee': 7736, 'diz': 7737, 'biooo': 7738, 'ay': 7739, 'taray': 7740, 'yumu-youtuber': 7741, '339': 7742, 'parijat': 7743, 'willmissyouparijat': 7744, 'jolly': 7745, '338': 7746, 'mcnuggets': 7747, 'sophie': 7748, 'caramello': 7749, 'koala': 7750, 'suckmejimin': 7751, '337': 7752, 'sucky': 7753, 'dying': 7754, 'pou': 7755, 'goddamn': 7756, 'nje': 7757, 'dbn': 7758, '🎀': 7759, '336': 7760, '335': 7761, 'supporting': 7762, 'pledge': 7763, 'viber': 7764, 'mwah': 7765, 'estate': 7766, 'lansi': 7767, '334': 7768, 'hp': 7769, 'waah': 7770, 'vandag': 7771, 'kgola': 7772, 'neng': 7773, 'eintlik': 7774, 'porn': 7775, '4like': 7776, 'repost': 7777, '333': 7778, 'magpie': 7779, '22.05': 7780, '15-24': 7781, '05.15': 7782, 'chswiyfxcskcalum': 7783, 'nvm': 7784, 'foof': 7785, '332': 7786, 'casillas': 7787, 'manchester': 7788, 'xi': 7789, 'rmtour': 7790, 'eating': 7791, 'irl': 7792, 'blooper': 7793, 'huhuhuhu': 7794, 'na-take': 7795, 'sorta': 7796, 'unfriend': 7797, 'greysonchance': 7798, 'sandwich': 7799, 'belle': 7800, 'sebastian': 7801, 'rewatched': 7802, 's4': 7803, 'sers': 7804, 'heart-breaking': 7805, 'outdated': 7806, 'm4': 7807, 'theater': 7808, '7-3': 7809, '7.30-': 7810, 'ekk': 7811, 'giriboy': 7812, 'danni': 7813, 'harriet': 7814, 'gegu': 7815, 'gray': 7816, '331': 7817, 'politics': 7818, 'blaming': 7819, '68': 7820, 'corbyn': 7821, \"labour's\": 7822, 'ry': 7823, 'lfccw': 7824, '5ever': 7825, 'ontheroadagain': 7826, 'halaaang': 7827, 'recieved': 7828, 'flop': 7829, 'caesarspalace': 7830, 'socialrewards': 7831, 'cali': 7832, 'fuckboys': 7833, '330': 7834, 'chrompet': 7835, 'immune': 7836, 'lush': 7837, 'bathtub': 7838, 'mysql': 7839, 'libmysqlclient-dev': 7840, 'dev': 7841, 'pleasanton': 7842, 'wala': 7843, '329': 7844, 'heed': 7845, '328': 7846, 'gwss': 7847, 'thankyouu': 7848, 'charade': 7849, 'piano': 7850, '327': 7851, 'complaint': 7852, 'yelling': 7853, 'whatsoever': 7854, 'pete': 7855, 'wentz': 7856, 'shogi': 7857, 'blameshoghicp': 7858, 'classmate': 7859, 'fixedgearfrenzy': 7860, 'dispatch': 7861, 'theyre': 7862, \"shamuon's\": 7863, 'toe': 7864, 'horrendously': 7865, \"someone's\": 7866, '326': 7867, 'hasb': 7868, 'atty': 7869, 'mujy': 7870, 'sirf': 7871, 'sensible': 7872, 'brum': 7873, 'cyclerevolution': 7874, 'caaannnttt': 7875, 'overdraw': 7876, 'tbf': 7877, 'perfume': 7878, 'sample': 7879, 'chanel': 7880, 'burberry': 7881, 'prada': 7882, '325': 7883, 'noesss': 7884, 'topgear': 7885, 'bridesmaid': 7886, 'nhs': 7887, \"tomorrow's\": 7888, 'gathering': 7889, 'sudden': 7890, '324': 7891, 'randomrestart': 7892, 'randomreboot': 7893, 'lumia': 7894, 'windowsphone': 7895, \"microsoft's\": 7896, 'addressing': 7897, 'mañana': 7898, 'rappings': 7899, 'striker': 7900, 'lvg': 7901, 'refurbish': 7902, 'cintiq': 7903, 'originate': 7904, \"finnick's\": 7905, 'askfinnick': 7906, 'container': 7907, 'hairy': 7908, '323': 7909, 'bury': 7910, 'omaygad': 7911, 'vic': 7912, 'surgery': 7913, 'tt.tt': 7914, 'hyper': 7915, '322': 7916, 'imiss': 7917, '321': 7918, '320': 7919, 'know.for': 7920, 'prepay': 7921, '319': 7922, 'grandma': 7923, \"grandpa's\": 7924, 'cow': 7925, 'sheeps': 7926, 'vegetable': 7927, 'delirious': 7928, 'motilium': 7929, 'shite': 7930, '318': 7931, 'schoolwork': 7932, \"phoebe's\": 7933, '317': 7934, 'pothole': 7935, '316': 7936, '1,300': 7937, 'robyn': 7938, 'necklace': 7939, 'rachel': 7940, 'ramzan': 7941, 'crosssed': 7942, 'clapham': 7943, 'investigate': 7944, 'sth': 7945, 'essentially': 7946, 'photoshooot': 7947, 'mahone': 7948, 'shut': 7949, 'andaming': 7950, 'memorization': 7951, 'cotton': 7952, 'swallow': 7953, 'snot': 7954, 'taknottem': 7955, '477': 7956, 'btob': 7957, 'percentage': 7958, 'swift': 7959, 'a9': 7960, 'sexyjane': 7961, 'horny': 7962, 'goodmusic': 7963, 'lart': 7964, 'sew': 7965, 'orange': 7966, 'skyfall': 7967, 'premiere': 7968, 'manteca': 7969, \"she'd\": 7970, 'shiatsu': 7971, 'setting': 7972, 'risk': 7973, 'hopper': 7974, 'eyyah': 7975, 'utd': 7976, 'born': 7977, '1-0': 7978, 'cart': 7979, 'aaa': 7980, 'waifu': 7981, 'breakup': 7982, 'bias': 7983, 'syndrome': 7984, 'shy': 7985, 'pixelated': 7986, 'weh': 7987, 'maymay': 7988, 'advance': 7989, 'allowance': 7990, 'magpaalam': 7991, 'tf': 7992, 'subtitle': 7993, 'chang': 7994, 'backstory': 7995, 'gimme': 7996, 'meal': 7997, 'neat-o': 7998, 'wru': 7999, 'scissors': 8000, 'creation': 8001, 'amtired': 8002, 'imysm': 8003, 'tut': 8004, 'trop': 8005, 'tard': 8006, 'deadline': 8007, 'st': 8008, 'premiun': 8009, 'making': 8010, 'notcool': 8011, '2/3': 8012, 'lahat': 8013, 'araw': 8014, 'nag': 8015, 'gyu': 8016, 'lmfaooo': 8017, 'mashup': 8018, 'eu': 8019, 'lcs': 8020, 'yass': 8021, 'relative': 8022, 'yr': 8023, 'sydney': 8024, 'perf': 8025, 'hashtags': 8026, 'omfg': 8027, 'combat': 8028, 'dosent': 8029, \"sod's\": 8030, '20mins': 8031, 'yahoo': 8032, 'yodel': 8033, 'jokingly': 8034, 'seriousness': 8035, 'gahd': 8036, 'zayns': 8037, '26th': 8038, '12.00': 8039, 'obyun': 8040, 'wayhh': 8041, 'poisoning': 8042, 'prevalent': 8043, 'controversy': 8044, '🍵': 8045, 'tube': 8046, 'strike': 8047, 'meck': 8048, 'mcfc': 8049, 'ucan': 8050, 'depressing': 8051, 'poc': 8052, 'sms': 8053, 'specific': 8054, 'sinhala': 8055, 'billionaire': 8056, '1645': 8057, '1190': 8058, 'maldives': 8059, 'dheena': 8060, 'fasgadah': 8061, 'alvadhaau': 8062, 'countdown': 8063, 'function': 8064, 'desktop': 8065, 'evelineconrade': 8066, 'kikmsn': 8067, 'selfshot': 8068, 'backkk': 8069, 'transfer': 8070, 'relaxing': 8071, 'dull': 8072, 'overcast': 8073, 'missin': 8074, 'hangin': 8075, 'wiff': 8076, 'interactive': 8077, 'cherry': 8078, 'bakewell': 8079, 'collect': 8080, 'teal': 8081, 'sect': 8082, 'tennunb': 8083, 'skip': 8084, 'doomsday': 8085, 'neglected': 8086, 'postie': 8087, 'bellamy': 8088, 'raven': 8089, 'clarke': 8090, 'helmy': 8091, 'uh': 8092, 'cnt': 8093, 'whereisthesun': 8094, 'summerismissing': 8095, 'longgg': 8096, 'ridiculous': 8097, 'stocko': 8098, 'lucozade': 8099, 'shooting': 8100, 'explosion': 8101, 'beh': 8102, 'half-remembered': 8103, \"melody's\": 8104, 'recall': 8105, 'difficult': 8106, 'expo': 8107, 'jisoo': 8108, 'anon': 8109, 'mager': 8110, 'wi': 8111, 'wht': 8112, 'distant': 8113, 'buffering': 8114, 'insane': 8115, 'charli': 8116, 'ganas': 8117, 'studio': 8118, 'arch': 8119, 'lyin': 8120, 'kian': 8121, 'supercars': 8122, 'gurgaon': 8123, 'location': 8124, '9:15': 8125, 'satire': 8126, 'peanut': 8127, 'viners': 8128, 'palembang': 8129, 'sorrryyy': 8130, 'fany': 8131, 'boner': 8132, 'mercy': 8133, 'yuki': 8134, '2500k': 8135, 'jake': 8136, 'gyllenhaal': 8137, 'impact': 8138, \"ledger's\": 8139, 'b4': 8140, 'deplete': 8141, 'mbasa': 8142, 'aah': 8143, 'pa-copy': 8144, 'biome': 8145, 'mosque': 8146, 'smelly': 8147, 'annoyed': 8148, \"ciara's\": 8149, \"everything's\": 8150, 'hugs': 8151, 'tall': 8152, 'intention': 8153, 'ambs': 8154, \"harry's\": 8155, 'mayday': 8156, 'parade': 8157, 'lyf': 8158, '13th': 8159, 'animal': 8160, 'chris': 8161, 'brown': 8162, 'risky': 8163, 'cologne': 8164, 'duo': 8165, 'ballad': 8166, 'bish': 8167, 'intern': 8168, 'yumyum': 8169, \"cathy's\": 8170, 'missyou': 8171, 'bishes': 8172, 'ruby': 8173, 'pora': 8174, 'karlia': 8175, 'khatam': 8176, 'bandi': 8177, '👑': 8178, 'pyaari': 8179, 'gawd': 8180, 'massis': 8181, 'thatselfiethough': 8182, 'loop': 8183, 'aishhh': 8184, 'viewer': 8185, 'sighsss': 8186, 'toffee': 8187, 'honesty': 8188, 'cheatday': 8189, 'protein': 8190, 'sissi': 8191, 'tote': 8192, 'slowly': 8193, 'breaking': 8194, 'church': 8195, 'pll': 8196, 'sel': 8197, 'serbia': 8198, 'serbian': 8199, 'selenators': 8200, 'motavators': 8201, 'zayyyn': 8202, 'happend': 8203, 'imperative': 8204, 'panas': 8205, 'sake': 8206, 'hamstring': 8207, 'rodwell': 8208, 'trace': 8209, 'tp': 8210, 'powder': 8211, 'wider': 8212, 'waking': 8213, 'bruno': 8214, '1.8': 8215, 'ed': 8216, 'croke': 8217, 'toll': 8218, 'shape': 8219, 'unluckiest': 8220, 'bettor': 8221, 'nstp': 8222, 'sem': 8223, 'tan': 8224, 'chipotle': 8225, 'chick-fil-a': 8226, 'stole': 8227, 'ramadhan': 8228, 'stexpert': 8229, 'ripstegi': 8230, 'nickyyy': 8231, '¿': 8232, 'emotion': 8233, 'centralise': 8234, 'discontinue': 8235, 'disappointment': 8236, 'sniff': 8237, \"i'ts\": 8238, 'therese': 8239, 'cred': 8240, 't_t': 8241, 'eliminate': 8242, 'teamzipal': 8243, 'smtm': 8244, 'assingnment': 8245, 'editied': 8246, 'nakaka': 8247, 'beastmode': 8248, 'gaaawd': 8249, 'colombia': 8250, 'yots': 8251, 'labyo': 8252, 'pano': 8253, 'nalamannn': 8254, 'hardheaded': 8255, \"zach's\": 8256, 'xpress': 8257, 'hopkins': 8258, 'melatonin': 8259, '2-4': 8260, 'hahaah': 8261, 'frequently': 8262, 'jail': 8263, 'weirddd': 8264, 'donghyuk': 8265, 'stans': 8266, 'beks': 8267, 'reynoldsgrl': 8268, 'ole': 8269, 'beardy': 8270, 'kaussies': 8271, 'pixels': 8272, 'bummer': 8273, 'fightingmcirene': 8274, \"michael's\": 8275, 'exercising': 8276, 'miserable': 8277, '💦': 8278, '💃🏽': 8279, 'shouldve': 8280, 'saffron': 8281, 'peasant': 8282, 'wouldve': 8283, 'nfinite': 8284, 'admin_myung': 8285, 'slp': 8286, 'laomma': 8287, 'kebaya': 8288, 'bandung': 8289, '7df89150': 8290, '62': 8291, '08962464174': 8292, 'laomma_couture': 8293, 'haizzz': 8294, 'urghhh': 8295, 'sat': 8296, 'working-on-a-tight-schedule': 8297, 'ganbarimasu': 8298, 'livid': 8299, 'whammy': 8300, 'quuuee': 8301, 'friooo': 8302, 'raining': 8303, 'stereo': 8304, 'chwang': 8305, 'lorm': 8306, '823': 8307, 'unhappy': 8308, 'lolzz': 8309, 'dats': 8310, 'corey': 8311, 'mahirap': 8312, 'noodle': 8313, 'veeerry': 8314, 'orig': 8315, 'starholicxx': 8316, '07:17': 8317, '@the': 8318, 'notr': 8319, 'hwy': 8320, 'niall': 8321, 'fraud': 8322, 'diplomacy': 8323, 'survival': 8324, 'zero': 8325, 'tolerant': 8326, 'pier': 8327, 'approach': 8328, 'rattle': 8329, 'robe': 8330, 'emphasis': 8331, 'abby.can': 8332, 'persuade': 8333, 'lyric': 8334, \"emily's\": 8335, 'elect': 8336, 'kamiss': 8337, 'mwa': 8338, 'cafe': 8339, 'melbourne': 8340, 'anyonneee': 8341, 'fricken': 8342, 'rito': 8343, 'friendzone': 8344, 'panel': 8345, 'hsm': 8346, 'canarios': 8347, 'ukiss': 8348, 'kurt': 8349, \"fatma'm\": 8350, 'lmfao': 8351, 'flapjack': 8352, 'countthecost': 8353, 'ihop': 8354, 'infra': 8355, 'lq': 8356, 'sotired': 8357, 'mybrainneedstoshutoff': 8358, 'maccies': 8359, '510': 8360, 'silicon': 8361, 'kbye': 8362, 'ini': 8363, 'citizen': 8364, 'ranking': 8365, 'mcountdown': 8366, '5h': 8367, 'thapelo': 8368, 'civ': 8369, 'wooden': 8370, 'mic': 8371, 'embarrassing': 8372, 'organization': 8373, 'translate': 8374, 'mecha-totems': 8375, 'nak': 8376, 'tgk': 8377, 'townsss': 8378, 'jokid': 8379, 'rent': 8380, 'inconsiderate': 8381, 'softball': 8382, 'tomcat': 8383, 'chel': 8384, 'jemma': 8385, 'matchy': 8386, 'elsa': 8387, 'postpone': 8388, 'karin': 8389, 'vist': 8390, 'unhealthy': 8391, 'propa': 8392, 'knockin': 8393, 'pre-holiday': 8394, 'meany': 8395, 'deathbybaconsmell': 8396, 'inital': 8397, 'destination': 8398, 'victoria': 8399, 'luna': 8400, 'krystal': 8401, 'sarajevo': 8402, 'haix': 8403, 'sp': 8404, 'wii': 8405, 'bayonetta': 8406, 'doable': 8407, 'drove': 8408, 'moved': 8409, 'agency': 8410, 'story.miss': 8411, 'everone': 8412, 'jps': 8413, 'mamabear': 8414, 'imintoher': 8415, 'underrated': 8416, \"slovakia's\": 8417, 'D:': 8418, 'saklap': 8419, 'rizal': 8420, 'lib': 8421, 'advisory': 8422, 'period': 8423, 'dit': 8424, 'dus': 8425, 'harsh': 8426, 'ohgod': 8427, 'abligaverins': 8428, 'sexygirlbypreciouslemmy': 8429, 'ripsandrabland': 8430, 'cri': 8431, 'edel': 8432, 'salam': 8433, 'mubark': 8434, 'dong': 8435, 'tammirossm': 8436, 'speck': 8437, 'abbymill': 8438, 'ion': 8439, '5min': 8440, 'hse': 8441, 'noob': 8442, 'fck': 8443, 'nae': 8444, 'whit': 8445, 'van': 8446, 'bristol': 8447, 'subserver': 8448, 'oo': 8449, 'tub': 8450, 'penyfan': 8451, 'breconbeacons': 8452, 'tittheir': 8453, '42': 8454, 'hottie': 8455, 'fuzzy': 8456, 'antonio': 8457, 'kang': 8458, 'junhee': 8459, 'couldve': 8460, 'pz': 8461, 'somerset': 8462, 'sunburnt': 8463, 'safer': 8464, 'k3g': 8465, 'input': 8466, 'gamestomp': 8467, 'desc': 8468, \"angelo's\": 8469, 'yna': 8470, 'fiver': 8471, 'sakho': 8472, 'threat': 8473, 'goalscorer': 8474, '10:59': 8475, '11.00': 8476, 'sham': 8477, 'tricky': 8478, 'baao': 8479, 'nisrina': 8480, 'bcs': 8481, 'ladygaga': 8482, \"you's\": 8483, 'marrish': 8484, \"otp's\": 8485, 'edomnt': 8486, 'qih': 8487, 'shxbs': 8488, 'chilton': 8489, 'creepy': 8490, 'boohoo': 8491, 'roar': 8492, 'victory': 8493, 'tweepsmatchout': 8494, 'nein': 8495, '404': 8496, 'willlow': 8497, 'sowwy': 8498, '3000': 8499, 'gear': 8500, '0.001': 8501, 'mode': 8502, 'madi': 8503, '11:11': 8504, 'shanzay': 8505, 'salabraty': 8506, 'journo': 8507, 'lure': 8508, 'mashaket': 8509, 'bapak': 8510, 'prima': 8511, 'mune': 8512, '874': 8513, 'plisss': 8514, 'sunway': 8515, 'petaling': 8516, 'jaya': 8517, 'selangor': 8518, 'huhuu': 8519, 'margo': 8520, 'konga': 8521, 'wa': 8522, 'ode': 8523, 'disvirgined': 8524, 'negotiate': 8525, 'bride': 8526, 'yulin': 8527, 'imma': 8528, 'syawal': 8529, 'lapar': 8530, 'foundation': 8531, 'facil': 8532, 'dh': 8533, 'chalet': 8534, 'suay': 8535, 'anot': 8536, 'bugger': 8537, 'एक': 8538, 'बार': 8539, 'फिर': 8540, 'सेँ': 8541, 'धोखा': 8542, 'chandauli': 8543, 'majhwar': 8544, 'tito': 8545, 'titas': 8546, 'critical': 8547, 'narcos': 8548, 'regens': 8549, 'unfaved': 8550, 'benadryl': 8551, 'arent': 8552, 'yg': 8553, 'gg': 8554, 'sxrew': 8555, 'dissappeared': 8556, 'swap': 8557, 'ishal': 8558, 'thaanks': 8559, 'jhezz': 8560, 'defence': 8561, 'defensive': 8562, 'nrltigersroosters': 8563, 'indiana': 8564, 'hibbs': 8565, 'biblethump': 8566, 'rlyyy': 8567, 'septum': 8568, 'pierce': 8569, 'venomous': 8570, 'carriage': 8571, 'fur-trimmed': 8572, 'stetson': 8573, 'error': 8574, '59': 8575, 'xue': 8576, 'midori': 8577, 'disabled': 8578, 'sakit': 8579, 'mateo': 8580, 'bartender': 8581, 'despair': 8582, 'insta': 8583, 'iwantin': 8584, '___': 8585, 'fault': 8586, 'help@veryhq.co.uk': 8587, 'benedictervention': 8588, '221b': 8589, 'popcorn': 8590, 'joyce': 8591, 'ooops': 8592, 'paalam': 8593, 'sazballs': 8594, 'incident': 8595, 'aaahh': 8596, \"stomach's\": 8597, 'growl': 8598, 'beard': 8599, 'nooope': 8600, 'hundred': 8601, 'meg': 8602, \"verity's\": 8603, 'rupert': 8604, 'pleaaase': 8605, '👆🏻': 8606, 'woaah': 8607, 'solvo': 8608, 'twin': 8609, 'lego': 8610, 'barefooted': 8611, 'twelvyy': 8612, 'boaz': 8613, 'myhill': 8614, 'takeover': 8615, 'wba': 8616, \"taeyeon's\": 8617, 'derp': 8618, 'pd': 8619, 'zoom': 8620, \"sunny's\": 8621, 'besst': 8622, 'plague': 8623, 'pit': 8624, 'frail': 8625, 'twurkin': 8626, 'razzist': 8627, 'tumblr': 8628, 'shek': 8629, '609': 8630, 'mugshot': 8631, 'plsss': 8632, 'taissa': 8633, 'farmiga': 8634, 'ahs': 8635, 'danielle': 8636, 'software': 8637, 'restore': 8638, 'momo': 8639, 'pharma': 8640, 'immovable': 8641, 'messy': 8642, 'anshe': 8643, 'f1': 8644, 'rand': 8645, 'bein': 8646, 'tla': 8647, 'tweng': 8648, 'gene': 8649, 'up.come': 8650, 'county': 8651, 'minhyuks': 8652, '1900': 8653, '😪': 8654, 'hz': 8655, 'emta': 8656, 'hatigii': 8657, 'b2aa': 8658, 'anesthesia': 8659, 'penrith': 8660, 'plain': 8661, 'untouched': 8662, 'brienne': 8663, 'lsh': 8664, 'gunna': 8665, 'former': 8666, 'darn': 8667, 'juudiciary': 8668, \"horton's\": 8669, 'dunkin': 8670, 'socialise': 8671, 'cara': 8672, \"delevingne's\": 8673, 'lace': 8674, 'fank': 8675, 'takfaham': 8676, 'older': 8677, 'ufff': 8678, 'sr': 8679, 'dard': 8680, 'katekyn': 8681, 'ehh': 8682, 'hacharatt': 8683, 'niwll': 8684, 'depend': 8685, 'successful': 8686, 'goa': 8687, 'linis': 8688, 'kasi': 8689, 'sweating': 8690, 'init': 8691, 'rhd': 8692, 'celebration': 8693, 'physical': 8694, 'wae': 8695, 'subsidized': 8696, '20th': 8697, 'youngjae': 8698, 'harumph': 8699, 'soggy': 8700, 'weeding': 8701, 'sakura': 8702, 'flavour': 8703, 'chokkie': 8704, '🌸': 8705, 'unavailable': 8706, 'richard': 8707, 'satya': 8708, 'aditya': 8709, '🍜': 8710, 'vibrate': 8711, 'cu': 8712, 'dhaka': 8713, 'cornettos': 8714, 'nosebleed': 8715, 'nintendo': 8716, 'wew': 8717, 'ramos': 8718, 'ground': 8719, 'shawn': 8720, 'mend': 8721, 'dinghy': 8722, 'skye': 8723, 'colleague': 8724, 'gagal': 8725, 'txt': 8726, 'sims': 8727, 'nooot': 8728, 'notch': 8729, 'thts': 8730, 'everyones': 8731, 'starve': 8732, '\\U000fe196': 8733, 'pyjama': 8734, 'suks': 8735, 'sleeping': 8736, 'swifties': 8737, 'sorna': 8738, 'lurgy': 8739, '6gb': 8740, 'fenestoscope': 8741, 'etienne': 8742, 'bandana': 8743, 'vagina': 8744, 'suriya': 8745, 'dangle': 8746, 'mjhe': 8747, 'aaj': 8748, 'kisi': 8749, 'kiya': 8750, 'eyesight': 8751, '25x30': 8752, 'aftenoon': 8753, 'booore': 8754, 'boyfriend': 8755, 'garage': 8756, 'ce': 8757, 'gws': 8758, 'anatomy': 8759, 'no1': 8760, \"morisette's\": 8761, 'non-trial': 8762, 'sayhername': 8763, 'lootcrate': 8764, 'inca': 8765, 'trail': 8766, 'sandboarding': 8767, 'derby': 8768, 'unable': 8769, 'signature': 8770, 'dish': 8771, 'unfamiliar': 8772, 'shed': 8773, \"old's\": 8774, '14518344': 8775, '61': 8776, 'thirdwheeling': 8777, 'lovebird': 8778, 'imo': 8779, '@juliettemaughan': 8780, 'sensiesha': 8781, 'eldest': 8782, '😟': 8783, 'keedz': 8784, 'taybigail': 8785, 'tournament': 8786, 'ps4': 8787, 'kink': 8788, 'losing': 8789, 'streak': 8790, 'srsky': 8791, 'tdc': 8792, 'in-sensitiveness': 8793, 'cooperate': 8794, 'conversion': 8795, 'thurston': 8796, 'collins': 8797, 'quietly': 8798, 'kennel': 8799, '911': 8800, 'pluckersss': 8801, 'gion': 8802, '886': 8803, 'kidschoiceawards': 8804, 'ming': 8805, 'pbr': 8806, 'shoutout': 8807, 'periscope': 8808, 'uts': 8809, 'shawty': 8810, 'naw': 8811, \"sterling's\": 8812, '9muses': 8813, 'hrryok': 8814, 'wnt': 8815, '9:30': 8816, '9:48': 8817, '9/11': 8818, 'bueno': 8819, 'receptionist': 8820, 'ella': 8821, 'ketchup': 8822, 'tasteless': 8823, 'deantd': 8824, 'justgotkanekified': 8825, 'babes': 8826, 'notgonnabeactivefor': 8827, '2weeksdontmissittoomuch': 8828, '2013': 8829, 'vlog': 8830, 'turtle': 8831, 'cnn': 8832, 'strapline': 8833, 'theatre': 8834, 'guncontrol': 8835, \"thát's\": 8836, 'powerpoint': 8837, 'expectation': 8838, 'diner': 8839, 'no-no': 8840, 'hinde': 8841, 'circuit': 8842, 'secondary': 8843, 'sodders': 8844, 'mobitel': 8845, 'playstation': 8846, 'exp': 8847, 'misspell': 8848, 'hyungwon': 8849, 'needicecreamnow': 8850, 'repeatedly': 8851, 'nu-uh': 8852, 'jace': 8853, 'most': 8854, 'urgh': 8855, \"grigson's\": 8856, 'carrot': 8857, '>:-(': 8858, 'ughh': 8859, 'otter': 8860, 'protection': 8861, 'argh': 8862, 'pon': 8863, 'otl': 8864, 'sleepover': 8865, 'jesse': 8866, 'fabina': 8867, 'meant': 8868, 'gardening': 8869, \"barrista's\": 8870, 'pup': 8871, 'brolly': 8872, 'dey': 8873, 'bitin': 8874, 'pretzel': 8875, 'bb17': 8876, 'bblf': 8877, 'fuckin': 8878, 'vanilla': 8879, 'latte': 8880, 'skulker': 8881, 'thread': 8882, 'hungrrryyy': 8883, 'icloud': 8884, 'ipod': 8885, 'hallyu': 8886, 'über': 8887, 'okie': 8888, '8p': 8889, 'harlo': 8890, 'torrentialrain': 8891, 'lloyd': 8892, 'knowww': 8893, 'runny': 8894, 'sweater': 8895, 'intolerant': 8896, 'xenophobes': 8897, 'wtfff': 8898, 'tone': 8899, '1pm': 8900, 'pish': 8901, 'comparison': 8902, 'remastered': 8903, 'fe14': 8904, 'cornetto': 8905, 'strawberry': 8906, 'kapatidkongpogi': 8907, 'mel': 8908, 'carmen': 8909, 'login': 8910, '00128835': 8911, 'wingstop': 8912, 'budge': 8913, 'fuq': 8914, 'ilhoon': 8915, 'getthescoop': 8916, 'hearess': 8917, '677': 8918, 'txt_shot': 8919, 'unfollowing': 8920, 'standby': 8921, 'inatall': 8922, 'zenmate': 8923, 'namechecking': 8924, 'whistle': 8925, 'junmyeon': 8926, 'ddy': 8927, 'arini': 8928, 'je': 8929, 'igbo': 8930, 'blamehoney': 8931, 'whhr': 8932, 'snuggle': 8933, 'usage': 8934, 'warning': 8935, 'tweeting': 8936, 'animator': 8937, 'vertigo': 8938, 'panic': 8939, 'dual': 8940, 'carriageway': 8941, 'aragalang': 8942, '08': 8943, 'tams': 8944, 'theo': 8945, 'anymoreee': 8946, 'cactus': 8947, 'sorrry': 8948, 'bowel': 8949, 'tumour': 8950, 'puffy': 8951, 'eyelid': 8952, 'musicas': 8953, 'campsite': 8954, 'miah': 8955, 'hahays': 8956, 'churro': 8957, 'montana': 8958, 'reign': 8959, 'example': 8960, 'inflation': 8961, 'sic': 8962, 'reset': 8963, 'entlerbountly': 8964, 'dirtykik': 8965, 'sexcam': 8966, 'spray': 8967, 'postcode': 8968, 'kafi': 8969, 'mene': 8970, 'koi': 8971, 'rewert': 8972, 'bunta': 8973, 'warnaaa': 8974, 'torture': 8975, 'iran': 8976, 'irandeal': 8977, 'us-iran': 8978, 'nuclear': 8979, \"mit's\": 8980, 'severely': 8981, 'li': 8982, 's2e12': 8983, 'rumpy': 8984, 'gallon': 8985, 'responsibility': 8986, 'dandia': 8987, 'rbi': 8988, 'cage': 8989, 'parrot': 8990, '1ly': 8991, 'commission': 8992, 'cag': 8993, 'ily.melanie': 8994, 'unlike': 8995, 'talent': 8996, 'deepxcape': 8997, 'doin': 8998, '5:08': 8999, 'thesis': 9000, 'gtg': 9001, 'compete': 9002, 'vv': 9003, 'respect': 9004, 'nys': 9005, 'opt-outed': 9006, 'vam': 9007, 'testing': 9008, 'speced': 9009, 'ell': 9010, 'sexyamelie': 9011, 'fineandyu': 9012, 'imsorry': 9013, 'koe': 9014, 'emyu': 9015, 'confetti': 9016, 'sini': 9017, 'dipoppo': 9018, 'bestweekend': 9019, 'okay-ish': 9020, 'html': 9021, 'geneva': 9022, 'patml': 9023, '482': 9024, 'abouty': 9025, '797': 9026, 'reaally': 9027, 'meter': 9028, 'unanswered': 9029, 'bri': 9030, 'magcon': 9031, 'merch': 9032, 'sinuend': 9033, 'laper': 9034, 'rage': 9035, 'brendon': 9036, \"urie's\": 9037, 'sumer': 9038, 'repackage': 9039, \":'D\": 9040, 'yongbe': 9041, 'suede': 9042, 'warm-up': 9043, 'signing': 9044, 'rub': 9045, 'belly': 9046, 'jannatul': 9047, 'ferdous': 9048, 'ami': 9049, 'ekta': 9050, 'kharap': 9051, 'manush': 9052, 'mart': 9053, 'gua': 9054, 'can': 9055, \"khloe's\": 9056, 'nhe': 9057, 'yar': 9058, 'minkyuk': 9059, 'hols': 9060, 'grown': 9061, 'sensor': 9062, 'broker': 9063, 'wna': 9064, 'flaviana': 9065, 'chickmt': 9066, '123': 9067, 'letsfootball': 9068, 'atk': 9069, 'greymind': 9070, 'gayle': 9071, 'mood-dump': 9072, 'livestream': 9073, 'felton': 9074, 'verity': 9075, \"standen's\": 9076, '😆': 9077, 'takoyaki': 9078, 'aisyah': 9079, 'ffvi': 9080, 'youtu.be/2_gpctsojkw': 9081, 'donutsss': 9082, '50p': 9083, 'grate': 9084, 'sparse': 9085, 'lagi': 9086, 'rider': 9087, 'hueee': 9088, 'thingy': 9089, 'george': 9090, 'chew': 9091, 'stella': 9092, 'theaccidentalcouple': 9093, 'smooth': 9094, 'handover': 9095, 'spick': 9096, 'offense': 9097, 'bebii': 9098, 'happenend': 9099, 'dr': 9100, 'balm': 9101, 'hmph': 9102, 'bubba': 9103, 'floor': 9104, 'oi': 9105, 'bengali': 9106, 'insecure': 9107, 'masterchef': 9108, 'whatchya': 9109, 'petrol': 9110, 'diesel': 9111, 'cock': 9112, 'nyquil': 9113, 'poootek': 9114, '1,500': 9115, 'bobble': 9116, 'leak': 9117, 'thermos': 9118, 'tae': 9119, 'confusing': 9120, 'kita': 9121, 'ia': 9122, 'developed': 9123, 'corrupted': 9124, 'anything.surely': 9125, 'october': 9126, 'ene': 9127, '3k': 9128, 'zehr': 9129, 'khany': 9130, 'grocery': 9131, 'hubba': 9132, 'gum': 9133, 'closet': 9134, 'jhalak': 9135, 'bakwas': 9136, '. ...': 9137, 'seehiah': 9138, 'goy': 9139, 'nachos': 9140, 'braid': 9141, 'initial': 9142, 'ruth': 9143, 'boong': 9144, 'gta': 9145, 'cwnt': 9146, 'trivia': 9147, 'bdays': 9148, 'rohingya': 9149, 'muslims': 9150, 'indict': 9151, 'trafficking': 9152, 'thailand': 9153, 'rumble': 9154, 'kumble': 9155, 'scold': 9156, 'phrase': 9157, 'tfw': 9158, 'jest': 9159, 'relaxes': 9160, 'offend': 9161, 'sleepingwithsirens': 9162, '17th': 9163, 'bringmethehorizon': 9164, 'carva': 9165, 'regularly': 9166, 'sympathis': 9167, 'revamps': 9168, 'mosquito': 9169, 'headphone': 9170, 'breathing': 9171, 'wacha': 9172, 'niende': 9173, '2hrs': 9174, '13m': 9175, 'kk': 9176, 'calibraksaep': 9177, 'darlin': 9178, 'stunning': 9179, \"doedn't\": 9180, 'meaningful': 9181, 'horrific': 9182, 'scoups': 9183, 'royally': 9184, 'sweedy': 9185, 'nams': 9186, \"sacconejoly's\": 9187, 'bethesda': 9188, 'fallout': 9189, 'likee': 9190, 'minecon': 9191, 'kateee': 9192, 'iloveyouu': 9193, 'linux': 9194, 'nawwwe': 9195, 'chikka': 9196, 'ug': 9197, 'rata': 9198, 'soonest': 9199, 'mwamwa': 9200, 'faggot': 9201, 'opener': 9202, 'fyi': 9203, 'mehendi': 9204, 'dash': 9205, 'bookmark': 9206, 'whay': 9207, 'shaa': 9208, 'pramis': 9209, '😚': 9210, 'ngee': 9211, 'ann': 9212, 'crikey': 9213, 'snit': 9214, 'tiring': 9215, 'nathanielhinanakit': 9216, 'naya': 9217, 'spinny': 9218, 'loading': 9219, 'wheel': 9220, 'notifs': 9221, 'albeit': 9222, 'disappointing': 9223, 'athlete': 9224, 'racing': 9225, 'stripe': 9226, 'gfriend': 9227, 'screenshots': 9228, 'fugly': 9229, 'jongdae': 9230, 'tlists': 9231, 'recommended': 9232, 'budget': 9233, 'pabebegirls': 9234, 'pabebe': 9235, 'sandra': 9236, 'bland': 9237, 'storify': 9238, 'mtvhottest': 9239, 'gaga': 9240, '😵': 9241, 'hulkamania': 9242, 'unloved': 9243, 'ihhh': 9244, 'stackare': 9245, 'remedy': 9246, 'ov': 9247, 'raiz': 9248, 'nvr': 9249, 'gv': 9250, 'up.wt': 9251, 'wt': 9252, 'thr': 9253, 'soln': 9254, \"sister's\": 9255, 'pipe': 9256, 'lawn': 9257, \"cupid's\": 9258, 'retainer': 9259, 'clown': 9260, 'lipstick': 9261, 'haiss': 9262, 'todayy': 9263, 'thoo': 9264, 'everday': 9265, 'hangout': 9266, 'steven': 9267, 'william': 9268, 'umboh': 9269, 'jadines': 9270, 'thiz': 9271, 'iz': 9272, 'emeged': 9273, 'kennat': 9274, 'abi': 9275, 'arctic': 9276, 'chicsirific': 9277, 'structured': 9278, 'cumbia': 9279, 'badlife': 9280, '4-5': 9281, 'kaslkdja': 9282, '3wks': 9283, 'feverfew': 9284, 'weddingflowers': 9285, 'diyflowers': 9286, 'fitnes': 9287, 'wolverine': 9288, 'innocent': 9289, '🙏🏻': 9290, '🎂': 9291, 'mememe': 9292, 'krystoria': 9293, 'snob': 9294, 'zumba': 9295, 'greekcrisis': 9296, 'remain': 9297, 'artistic': 9298, 'dutch': 9299, 'legible': 9300, 'israeli': 9301, 'passport': 9302, 'froze': 9303, '23rd': 9304, 'stomachache': 9305, 'ཀ': 9306, 'agains': 9307, 'otani': 9308, '3-0': 9309, 'niaaa': 9310, '2/4': 9311, 'scheme': 9312, 'fckin': 9313, 'vin': 9314, 'plss': 9315, 'rply': 9316, 'rat': 9317, 'mac': 9318, 'backup': 9319, 'actual': 9320, 'lunes': 9321, 'martes': 9322, 'robinhood': 9323, 'robinhoodies': 9324, '🚙': 9325, 'docopenhagen': 9326, 'setter': 9327, 'swipe': 9328, 'bbygurl': 9329, 'caribbean': 9330, '6yrs': 9331, 'takraw': 9332, 'fersuree': 9333, 'angie': 9334, 'sheriff': 9335, 'aaages': 9336, \"i'mo\": 9337, 'sulk': 9338, 'selfish': 9339, 'nonce': 9340, 'bison': 9341, 'motivate': 9342, \"q'don\": 9343, 'cheat': 9344, 'stomping': 9345, 'aaaaaaaaah': 9346, 'kanye': 9347, 'jdjdjdjd': 9348, \"jimin's\": 9349, 'fancafe': 9350, 'flipping': 9351, 'waffle': 9352, '87.7': 9353, '2fm': 9354, 'himseek': 9355, 'kissme': 9356, 'glo': 9357, 'cory': 9358, 'monteith': 9359, 'hashbrowns': 9360, 'pgs': 9361, 'msc': 9362, 'hierro': 9363, 'shirleycam': 9364, 'looks': 9365, 'gilet': 9366, 'cheek': 9367, 'squishy': 9368, 'donating': 9369, 'lahhh': 9370, 'eon': 9371, 'sunrise': 9372, 'beety': 9373, '697': 9374, 'getaway': 9375, 'criminal': 9376, 'amiibo': 9377, 'habe': 9378, 'siannn': 9379, 'chuckin': 9380, 'ampsha': 9381, 'nia': 9382, 'strap': 9383, 'dz9055': 9384, 'entlead': 9385, '590': 9386, 'nudes': 9387, '07:02': 9388, 'ifsc': 9389, 'mayor': 9390, 'biodiversity': 9391, 'taxonomic': 9392, 'collaboration': 9393, 'specie': 9394, 'collar': 9395, '3:03': 9396, 'belt': 9397, 'smith': 9398, 'eyeliner': 9399, 'therefore': 9400, 'netherlands': 9401, 'el': 9402, 'jeb': 9403, 'blacklivesmatter': 9404, 'slogan': 9405, 'msnbc': 9406, 'jebbush': 9407, 'famish': 9408, 'marino': 9409, 'qualify': 9410, 'suzy': 9411, 'skirt': 9412, 'tama': 9413, 'warrior': 9414, 'wound': 9415, 'iraq': 9416, 'camara': 9417, 'coverall': 9418, 'sneezy': 9419, 'rogerwatch': 9420, 'stalker': 9421, 'velvet': 9422, 'tradition': 9423, 'beheaviour': 9424, \"robert's\": 9425, '.\\n.': 9426, 'aaron': 9427, 'jelouse': 9428, 'mtg': 9429, 'thoughtseized': 9430, 'playables': 9431, 'oldie': 9432, 'goody': 9433, 'mcg': 9434, 'inspirit': 9435, 'ised': 9436, 'assume': 9437, 'waisted': 9438, 'guinness': 9439, 'venue': 9440, 'pepper': 9441, 'thessidew': 9442, '877': 9443, 'genesis': 9444, 'november': 9445, 'mash': 9446, 'whattsap': 9447, 'inuyasha': 9448, 'outfwith': 9449, 'myungsoo': 9450, 'yeol': 9451, 'satisfied': 9452, 'challo': 9453, 'pliss': 9454, 'juliana': 9455, 'enroll': 9456, 'darlene': 9457, 'emoji': 9458, 'brisbane': 9459, 'merlin': 9460, 'nawwwee': 9461, 'hyperbullies': 9462, 'tong': 9463, 'nga': 9464, 'seatmates': 9465, 'rajud': 9466, 'ore': 9467, 'kaylas': 9468, 'ericavan': 9469, 'jong': 9470, 'dongwoo': 9471, 'photocards': 9472, 'wh': 9473, 'dw': 9474, 'tumor': 9475, 'vivian': 9476, 'mmsmalubhangsakit': 9477, 'jillcruz': 9478, 'qt': 9479, '19th': 9480, 'co-worker': 9481, 'starving': 9482, 'unsettled': 9483, 'gh': 9484, '18c': 9485, 'rlly': 9486, 'hamster': 9487, 'sheeran': 9488, 'preform': 9489, 'monash': 9490, 'hitmarker': 9491, 'glitch': 9492, 'safaa': 9493, \"selena's\": 9494, 'galat': 9495, 'tum': 9496, 'ab': 9497, 'lrka': 9498, 'bna': 9499, 'bhook': 9500, 'afterschool': 9501, 'bilal': 9502, 'ashraf': 9503, 'icu': 9504, 'annnd': 9505, 'winchester': 9506, '{:': 9507, 'dms': 9508, 'grepe': 9509, 'grepein': 9510, 'panem': 9511, 'sulli': 9512, 'injured': 9513, 'cpm': 9514, 'condemn': 9515, 'political': 9516, '✔': 9517, 'occur': 9518, 'mentality': 9519, 'unagi': 9520, '7elw': 9521, 'mesh': 9522, 'beyt': 9523, '3a2ad': 9524, 'fluent': 9525, 'varsity': 9526, 'sengenza': 9527, 'typos': 9528, 'movnat': 9529, 'yield': 9530, 'nbheroes': 9531, 'agover': 9532, 'brasileirao': 9533, 'abusive': 9534, 'unfollower': 9535, 'unparents': 9536, 'bianca': 9537, 'bun': 9538, 'dislike': 9539, 'burdensome': 9540, 'amelia': 9541, 'melon': 9542, 'soccer': 9543}\n"
     ]
    }
   ],
   "source": [
    "# GRADED FUNCTION: build_vocabulary\n",
    "def build_vocabulary(corpus):\n",
    "    '''Function that builds a vocabulary from the given corpus\n",
    "    Input: \n",
    "        - corpus (list): the corpus\n",
    "    Output:\n",
    "        - vocab (dict): Dictionary of all the words in the corpus.\n",
    "                The keys are the words and the values are integers.\n",
    "    '''\n",
    "\n",
    "    # The vocabulary includes special tokens like padding token and token for unknown words\n",
    "    # Keys are words and values are distinct integers (increasing by one from 0)\n",
    "    vocab = {'': 0, '[UNK]': 1} \n",
    "\n",
    "    ### START CODE HERE ###\n",
    "    \n",
    "    # For each tweet in the training set\n",
    "    for tweet in corpus:\n",
    "        # For each word in the tweet\n",
    "        for word in tweet:\n",
    "            # If the word is not in vocabulary yet, add it to vocabulary\n",
    "            if word not in vocab:\n",
    "                vocab[word] = len(vocab)\n",
    "    \n",
    "    ### END CODE HERE ###\n",
    "    \n",
    "    return vocab\n",
    "\n",
    "\n",
    "vocab = build_vocabulary(train_x)\n",
    "num_words = len(vocab)\n",
    "\n",
    "print(f\"Vocabulary contains {num_words} words\\n\")\n",
    "print(vocab)"
   ]
  },
  {
   "cell_type": "markdown",
   "id": "2e748f56",
   "metadata": {},
   "source": [
    "The dictionary `Vocab` will look like this:\n",
    "```CPP\n",
    "{'': 0,\n",
    " '[UNK]': 1,\n",
    " 'followfriday': 2,\n",
    " 'top': 3,\n",
    " 'engage': 4,\n",
    " ...\n",
    "```\n",
    "\n",
    "- Each unique word has a unique integer associated with it.\n",
    "- The total number of words in Vocab: 9535"
   ]
  },
  {
   "cell_type": "code",
   "execution_count": 10,
   "id": "afba257d",
   "metadata": {
    "deletable": false,
    "editable": false,
    "tags": []
   },
   "outputs": [
    {
     "name": "stdout",
     "output_type": "stream",
     "text": [
      "\u001b[92m All tests passed\n"
     ]
    }
   ],
   "source": [
    "# Test the build_vocabulary function\n",
    "w1_unittest.test_build_vocabulary(build_vocabulary)"
   ]
  },
  {
   "cell_type": "markdown",
   "id": "7bfa1614",
   "metadata": {},
   "source": [
    "<a name=\"2-3\"></a>\n",
    "### 2.3 - Convert a Tweet to a Tensor\n",
    "\n",
    "Next, you will write a function that will convert each tweet to a tensor (a list of integer IDs representing the processed tweet).\n",
    "- You already transformed each tweet to a list of tokens with the `process_tweet` function in order to make a vocabulary.\n",
    "- Now you will transform the tokens to integers and pad the tensors so they all have equal length.\n",
    "- Note, the returned data type will be a **regular Python `list()`**\n",
    "    - You won't use TensorFlow in this function\n",
    "    - You also won't use a numpy array\n",
    "- For words in the tweet that are not in the vocabulary, set them to the unique ID for the token `[UNK]`.\n",
    "\n",
    "##### Example\n",
    "You had the original tweet:\n",
    "```CPP\n",
    "'@happypuppy, is Maria happy?'\n",
    "```\n",
    "\n",
    "The tweet is already converted into a list of tokens (including only relevant words).\n",
    "```CPP\n",
    "['maria', 'happy']\n",
    "```\n",
    "\n",
    "Now you will convert each word into its unique integer.\n",
    "\n",
    "```CPP\n",
    "[1, 55]\n",
    "```\n",
    "- Notice that the word \"maria\" is not in the vocabulary, so it is assigned the unique integer associated with the `[UNK]` token, because it is considered \"unknown.\"\n",
    "\n",
    "After that, you will pad the tweet with zeros so that all the tweets have the same length.\n",
    "\n",
    "```CPP\n",
    "[1, 56, 0, 0, ... , 0]\n",
    "```"
   ]
  },
  {
   "cell_type": "markdown",
   "id": "ae577b59",
   "metadata": {},
   "source": [
    "First, let's have a look at the length of the processed tweets. You have to look at all tweets in the training and validation set and find the longest one to pad all of them to the maximum length."
   ]
  },
  {
   "cell_type": "code",
   "execution_count": 11,
   "id": "a9cc2e70",
   "metadata": {
    "deletable": false,
    "editable": false,
    "tags": [
     "graded"
    ]
   },
   "outputs": [
    {
     "data": {
      "image/png": "[encoded data removed]",
      "text/plain": [
       "<Figure size 640x480 with 1 Axes>"
      ]
     },
     "metadata": {},
     "output_type": "display_data"
    }
   ],
   "source": [
    "# Tweet lengths\n",
    "plt.hist([len(t) for t in train_x + val_x]);"
   ]
  },
  {
   "cell_type": "markdown",
   "id": "5e1b006c",
   "metadata": {},
   "source": [
    "Now find the length of the longest tweet. Remember to look at the training and the validation set."
   ]
  },
  {
   "cell_type": "markdown",
   "id": "e7bbe5df",
   "metadata": {},
   "source": [
    "<a name=\"ex-2\"></a>\n",
    "### Exercise 2 - max_len\n",
    "Calculate the length of the longest tweet."
   ]
  },
  {
   "cell_type": "code",
   "execution_count": 12,
   "id": "f7078bca",
   "metadata": {
    "deletable": false,
    "tags": [
     "graded"
    ]
   },
   "outputs": [
    {
     "name": "stdout",
     "output_type": "stream",
     "text": [
      "The length of the longest tweet is 51 tokens.\n"
     ]
    }
   ],
   "source": [
    "# GRADED FUNCTION: max_length\n",
    "def max_length(training_x, validation_x):\n",
    "    \"\"\"Computes the length of the longest tweet in the training and validation sets.\n",
    "\n",
    "    Args:\n",
    "        training_x (list): The tweets in the training set.\n",
    "        validation_x (list): The tweets in the validation set.\n",
    "\n",
    "    Returns:\n",
    "        int: Length of the longest tweet.\n",
    "    \"\"\"\n",
    "    ### START CODE HERE ###\n",
    "\n",
    "    max_len = max([len(tweet) for tweet in training_x + validation_x])\n",
    "    \n",
    "    ### END CODE HERE ###\n",
    "    return max_len\n",
    "\n",
    "max_len = max_length(train_x, val_x)\n",
    "print(f'The length of the longest tweet is {max_len} tokens.')"
   ]
  },
  {
   "cell_type": "markdown",
   "id": "6cfbce29",
   "metadata": {},
   "source": [
    "Expected output:\n",
    "\n",
    "The length of the longest tweet is 51 tokens."
   ]
  },
  {
   "cell_type": "code",
   "execution_count": 13,
   "id": "a20bd3ee",
   "metadata": {
    "deletable": false,
    "editable": false,
    "tags": []
   },
   "outputs": [
    {
     "name": "stdout",
     "output_type": "stream",
     "text": [
      "\u001b[92m All tests passed\n"
     ]
    }
   ],
   "source": [
    "# Test your max_len function\n",
    "w1_unittest.test_max_length(max_length)"
   ]
  },
  {
   "cell_type": "markdown",
   "id": "34e550c2",
   "metadata": {},
   "source": [
    "<a name=\"ex-3\"></a>\n",
    "### Exercise 3 - padded_sequence\n",
    "Implement `padded_sequence` function to transform sequences of words into padded sequences of numbers. A couple of things to notice:\n",
    "\n",
    "- The term `tensor` is used to refer to the encoded tweet but the function should return a regular python list, not a `tf.tensor`\n",
    "- There is no need to truncate the tweet if it exceeds `max_len` as you already know the maximum length of the tweets beforehand"
   ]
  },
  {
   "cell_type": "code",
   "execution_count": 14,
   "id": "fe6597fa",
   "metadata": {
    "deletable": false,
    "tags": [
     "graded"
    ]
   },
   "outputs": [],
   "source": [
    "# GRADED FUNCTION: padded_sequence\n",
    "def padded_sequence(tweet, vocab_dict, max_len, unk_token='[UNK]'):\n",
    "    \"\"\"transform sequences of words into padded sequences of numbers\n",
    "\n",
    "    Args:\n",
    "        tweet (list): A single tweet encoded as a list of strings.\n",
    "        vocab_dict (dict): Vocabulary.\n",
    "        max_len (int): Length of the longest tweet.\n",
    "        unk_token (str, optional): Unknown token. Defaults to '[UNK]'.\n",
    "\n",
    "    Returns:\n",
    "        list: Padded tweet encoded as a list of int.\n",
    "    \"\"\"\n",
    "    ### START CODE HERE ###\n",
    "    \n",
    "    # Find the ID of the UNK token, to use it when you encounter a new word\n",
    "    unk_ID = vocab_dict[unk_token] \n",
    "    \n",
    "    # First convert the words to integers by looking up the vocab_dict\n",
    "    tweet = [vocab_dict.get(word, unk_ID) for word in tweet]\n",
    "\n",
    "    # Then pad the tensor with zeroes up to the length max_len\n",
    "    padded_tensor = tweet + [0] * (max_len - len(tweet))\n",
    "\n",
    "    ### END CODE HERE ###\n",
    "\n",
    "    return padded_tensor"
   ]
  },
  {
   "cell_type": "markdown",
   "id": "3752b8dc",
   "metadata": {},
   "source": [
    "Test the function"
   ]
  },
  {
   "cell_type": "code",
   "execution_count": 15,
   "id": "f8766862",
   "metadata": {
    "deletable": false,
    "editable": false,
    "tags": []
   },
   "outputs": [
    {
     "name": "stdout",
     "output_type": "stream",
     "text": [
      "\u001b[92m All tests passed\n"
     ]
    }
   ],
   "source": [
    "# Test your padded_sequence function\n",
    "w1_unittest.test_padded_sequence(padded_sequence)"
   ]
  },
  {
   "cell_type": "markdown",
   "id": "a4dfd15c",
   "metadata": {},
   "source": [
    "Pad the train and validation dataset"
   ]
  },
  {
   "cell_type": "code",
   "execution_count": 16,
   "id": "38f7fcbd",
   "metadata": {
    "deletable": false,
    "editable": false,
    "tags": [
     "graded"
    ]
   },
   "outputs": [],
   "source": [
    "train_x_padded = [padded_sequence(x, vocab, max_len) for x in train_x]\n",
    "val_x_padded = [padded_sequence(x, vocab, max_len) for x in val_x]"
   ]
  },
  {
   "cell_type": "markdown",
   "id": "6fde3269",
   "metadata": {},
   "source": [
    "<a name=\"3\"></a>\n",
    "## 3 - Define the structure of the neural network layers\n",
    "\n",
    "In this part, you will write your own functions and layers for the neural network to test your understanding of the implementation. It will be similar to the one used in Keras and PyTorch. Writing your own small framework will help you understand how they all work and use them effectively in the future.\n",
    "\n",
    "You will implement the ReLU and sigmoid functions, which you will use as activation functions for the neural network, as well as a fully connected (dense) layer."
   ]
  },
  {
   "cell_type": "markdown",
   "id": "a4809299",
   "metadata": {},
   "source": [
    "<a name=\"3-1\"></a>\n",
    "### 3.1 - ReLU\n",
    "You will now implement the ReLU activation in a function below. The ReLU function looks as follows: \n",
    "<img src = \"images/relu.jpg\" style=\"width:300px;height:150px;\"/>\n",
    "\n",
    "$$ \\mathrm{ReLU}(x) = \\mathrm{max}(0,x) $$\n"
   ]
  },
  {
   "cell_type": "markdown",
   "id": "ca253367",
   "metadata": {},
   "source": [
    "<a name=\"ex-4\"></a>\n",
    "### Exercise 4 - relu\n",
    "**Instructions:** Implement the ReLU activation function below. Your function should take in a matrix or vector and it should transform all the negative numbers into 0 while keeping all the positive numbers intact. \n",
    "\n",
    "Notice you can get the maximum of two numbers by using [np.maximum](https://numpy.org/doc/stable/reference/generated/numpy.maximum.html)."
   ]
  },
  {
   "cell_type": "code",
   "execution_count": 17,
   "id": "f1c365d1",
   "metadata": {
    "deletable": false,
    "tags": [
     "graded"
    ]
   },
   "outputs": [],
   "source": [
    "# GRADED FUNCTION: relu\n",
    "def relu(x):\n",
    "    '''Relu activation function implementation\n",
    "    Input: \n",
    "        - x (numpy array)\n",
    "    Output:\n",
    "        - activation (numpy array): input with negative values set to zero\n",
    "    '''\n",
    "    ### START CODE HERE ###\n",
    "\n",
    "    activation = np.maximum(0, x)\n",
    "\n",
    "    ### END CODE HERE ###\n",
    "\n",
    "    return activation"
   ]
  },
  {
   "cell_type": "code",
   "execution_count": 18,
   "id": "6027ee6e",
   "metadata": {
    "deletable": false,
    "editable": false,
    "tags": [
     "graded"
    ]
   },
   "outputs": [
    {
     "name": "stdout",
     "output_type": "stream",
     "text": [
      "Test data is:\n",
      "[[-2. -1.  0.]\n",
      " [ 0.  1.  2.]]\n",
      "\n",
      "Output of relu is:\n",
      "[[0. 0. 0.]\n",
      " [0. 1. 2.]]\n"
     ]
    }
   ],
   "source": [
    "# Check the output of your function\n",
    "x = np.array([[-2.0, -1.0, 0.0], [0.0, 1.0, 2.0]], dtype=float)\n",
    "print(\"Test data is:\")\n",
    "print(x)\n",
    "print(\"\\nOutput of relu is:\")\n",
    "print(relu(x))"
   ]
  },
  {
   "cell_type": "markdown",
   "id": "f6cb21e3",
   "metadata": {},
   "source": [
    "**Expected Output:**\n",
    "```\n",
    "Test data is:\n",
    "[[-2. -1.  0.]\n",
    " [ 0.  1.  2.]]\n",
    " \n",
    "Output of relu is:\n",
    "[[0. 0. 0.]\n",
    " [0. 1. 2.]]\n",
    "```"
   ]
  },
  {
   "cell_type": "code",
   "execution_count": 19,
   "id": "09460d00",
   "metadata": {
    "deletable": false,
    "editable": false,
    "tags": []
   },
   "outputs": [
    {
     "name": "stdout",
     "output_type": "stream",
     "text": [
      "\u001b[92m All tests passed\n"
     ]
    }
   ],
   "source": [
    "# Test your relu function\n",
    "w1_unittest.test_relu(relu)"
   ]
  },
  {
   "cell_type": "markdown",
   "id": "2bad16e4",
   "metadata": {},
   "source": [
    "<a name=\"3-2\"></a>\n",
    "### 3.2 - Sigmoid\n",
    "You will now implement the sigmoid activation in a function below. The sigmoid function looks as follows: \n",
    "<img src = \"images/sigmoid.jpg\" style=\"width:300px;height:150px;\"/>\n",
    "\n",
    "$$ \\mathrm{sigmoid}(x) = \\frac{1}{1 + e^{-x}} $$\n"
   ]
  },
  {
   "cell_type": "markdown",
   "id": "fa5bbd47",
   "metadata": {},
   "source": [
    "<a name=\"ex-5\"></a>\n",
    "### Exercise 5 - sigmoid\n",
    "**Instructions:** Implement the sigmoid activation function below. Your function should take in a matrix or vector and it should transform all the numbers according to the formula above."
   ]
  },
  {
   "cell_type": "code",
   "execution_count": 20,
   "id": "1d5d3268",
   "metadata": {
    "deletable": false,
    "tags": [
     "graded"
    ]
   },
   "outputs": [],
   "source": [
    "# GRADED FUNCTION: sigmoid\n",
    "def sigmoid(x):\n",
    "    '''Sigmoid activation function implementation\n",
    "    Input: \n",
    "        - x (numpy array)\n",
    "    Output:\n",
    "        - activation (numpy array)\n",
    "    '''\n",
    "    ### START CODE HERE ###\n",
    "\n",
    "    activation = 1 / (1 + np.exp(-x))\n",
    "\n",
    "    ### END CODE HERE ###\n",
    "\n",
    "    return activation    "
   ]
  },
  {
   "cell_type": "code",
   "execution_count": 21,
   "id": "31275d11",
   "metadata": {
    "deletable": false,
    "editable": false,
    "tags": [
     "graded"
    ]
   },
   "outputs": [
    {
     "name": "stdout",
     "output_type": "stream",
     "text": [
      "Test data is:\n",
      "[[-1000.    -1.     0.]\n",
      " [    0.     1.  1000.]]\n",
      "\n",
      "Output of sigmoid is:\n",
      "[[0.         0.26894142 0.5       ]\n",
      " [0.5        0.73105858 1.        ]]\n"
     ]
    },
    {
     "name": "stderr",
     "output_type": "stream",
     "text": [
      "C:\\Users\\sahil\\AppData\\Local\\Temp\\ipykernel_23312\\1592997170.py:11: RuntimeWarning: overflow encountered in exp\n",
      "  activation = 1 / (1 + np.exp(-x))\n"
     ]
    }
   ],
   "source": [
    "# Check the output of your function\n",
    "x = np.array([[-1000.0, -1.0, 0.0], [0.0, 1.0, 1000.0]], dtype=float)\n",
    "print(\"Test data is:\")\n",
    "print(x)\n",
    "print(\"\\nOutput of sigmoid is:\")\n",
    "print(sigmoid(x))"
   ]
  },
  {
   "cell_type": "markdown",
   "id": "3df79772",
   "metadata": {},
   "source": [
    "**Expected Output:**\n",
    "```\n",
    "Test data is:\n",
    "[[-1000.    -1.     0.]\n",
    " [    0.     1.  1000.]]\n",
    "\n",
    "Output of sigmoid is:\n",
    "[[0.         0.26894142 0.5       ]\n",
    " [0.5        0.73105858 1.        ]]\n",
    "```"
   ]
  },
  {
   "cell_type": "code",
   "execution_count": 22,
   "id": "87150bd2",
   "metadata": {
    "deletable": false,
    "editable": false,
    "tags": []
   },
   "outputs": [
    {
     "name": "stdout",
     "output_type": "stream",
     "text": [
      "\u001b[92m All tests passed\n"
     ]
    },
    {
     "name": "stderr",
     "output_type": "stream",
     "text": [
      "C:\\Users\\sahil\\AppData\\Local\\Temp\\ipykernel_23312\\1592997170.py:11: RuntimeWarning: overflow encountered in exp\n",
      "  activation = 1 / (1 + np.exp(-x))\n"
     ]
    }
   ],
   "source": [
    "# Test your sigmoid function\n",
    "w1_unittest.test_sigmoid(sigmoid)"
   ]
  },
  {
   "cell_type": "markdown",
   "id": "cfd2861b",
   "metadata": {},
   "source": [
    "<a name=\"3.3\"></a>\n",
    "### 3.3 - Dense Class \n",
    "\n",
    "Implement the weight initialization in the `__init__` method.\n",
    "- Weights are initialized with a random key.\n",
    "- The shape of the weights (num_rows, num_cols) should equal the number of columns in the input data (this is in the last column) and the number of units respectively.\n",
    "    - The number of rows in the weight matrix should equal the number of columns in the input data `x`.  Since `x` may have 2 dimensions if it represents a single training example (row, col), or three dimensions (batch_size, row, col), get the last dimension from the tuple that holds the dimensions of x.\n",
    "    - The number of columns in the weight matrix is the number of units chosen for that dense layer.\n",
    "- The values generated should have a mean of 0 and standard deviation of `stdev`.\n",
    "    - To initialize random weights, a random generator is created using `random_generator = np.random.default_rng(seed=random_seed)`. This part is implemented for you. You will use `random_generator.normal(...)` to create your random weights. Check [here](https://numpy.org/doc/stable/reference/random/generator.html) how the random generator works.\n",
    "    - Please don't change the `random_seed`, so that the results are reproducible for testing (and you can be fairly graded).\n",
    "\n",
    "Implement the `forward` function of the Dense class. \n",
    "- The forward function multiplies the input to the layer (`x`) by the weight matrix (`W`)\n",
    "\n",
    "$$\\mathrm{forward}(\\mathbf{x},\\mathbf{W}) = \\mathbf{xW} $$\n",
    "\n",
    "- You can use `numpy.dot` to perform the matrix multiplication."
   ]
  },
  {
   "cell_type": "markdown",
   "id": "2917e87b",
   "metadata": {},
   "source": [
    "<a name=\"ex-6\"></a>\n",
    "### Exercise 6 - Dense\n",
    "\n",
    "Implement the `Dense` class. You might want to check how normal random numbers can be generated with numpy by checking the [docs](https://numpy.org/doc/stable/reference/random/generated/numpy.random.Generator.normal.html#numpy.random.Generator.normal)."
   ]
  },
  {
   "cell_type": "code",
   "execution_count": 26,
   "id": "4ede0912",
   "metadata": {
    "deletable": false,
    "tags": [
     "graded"
    ]
   },
   "outputs": [],
   "source": [
    "# GRADED CLASS: Dense\n",
    "class Dense():\n",
    "    \"\"\"\n",
    "    A dense (fully-connected) layer.\n",
    "    \"\"\"\n",
    "\n",
    "    # Please implement '__init__'\n",
    "    def __init__(self, n_units, input_shape, activation, stdev=0.1, random_seed=42):\n",
    "        \n",
    "        # Set the number of units in this layer\n",
    "        self.n_units = n_units\n",
    "        # Set the random key for initializing weights\n",
    "        self.random_generator = np.random.default_rng(seed=random_seed)\n",
    "        self.activation = activation\n",
    "        \n",
    "        ### START CODE HERE ###\n",
    "\n",
    "        # Generate the weight matrix from a normal distribution and standard deviation of 'stdev'\n",
    "        # Set the size of the matrix w\n",
    "        w = self.random_generator.normal(scale= stdev, size = (input_shape[1], n_units))\n",
    "        \n",
    "        ### END CODE HERE ##\n",
    "\n",
    "        self.weights = w\n",
    "        \n",
    "\n",
    "    def __call__(self, x):\n",
    "        return self.forward(x)\n",
    "    \n",
    "    \n",
    "    # Please implement 'forward()'\n",
    "    def forward(self, x):\n",
    "        \n",
    "        ### START CODE HERE ###\n",
    "\n",
    "        # Matrix multiply x and the weight matrix\n",
    "        dense = np.dot(x, self.weights)\n",
    "        # Apply the activation function\n",
    "        dense = self.activation(dense)\n",
    "        \n",
    "        ### END CODE HERE ###\n",
    "        return dense"
   ]
  },
  {
   "cell_type": "code",
   "execution_count": 23,
   "id": "5bc10c8b",
   "metadata": {
    "deletable": false,
    "editable": false,
    "tags": [
     "graded"
    ]
   },
   "outputs": [
    {
     "ename": "NameError",
     "evalue": "name 'Dense' is not defined",
     "output_type": "error",
     "traceback": [
      "\u001b[1;31m---------------------------------------------------------------------------\u001b[0m",
      "\u001b[1;31mNameError\u001b[0m                                 Traceback (most recent call last)",
      "Cell \u001b[1;32mIn[23], line 5\u001b[0m\n\u001b[0;32m      2\u001b[0m z \u001b[38;5;241m=\u001b[39m np\u001b[38;5;241m.\u001b[39marray([[\u001b[38;5;241m2.0\u001b[39m, \u001b[38;5;241m7.0\u001b[39m, \u001b[38;5;241m25.0\u001b[39m]]) \u001b[38;5;66;03m# input array\u001b[39;00m\n\u001b[0;32m      4\u001b[0m \u001b[38;5;66;03m# Testing your Dense layer \u001b[39;00m\n\u001b[1;32m----> 5\u001b[0m dense_layer \u001b[38;5;241m=\u001b[39m \u001b[43mDense\u001b[49m(n_units\u001b[38;5;241m=\u001b[39m\u001b[38;5;241m10\u001b[39m, input_shape\u001b[38;5;241m=\u001b[39mz\u001b[38;5;241m.\u001b[39mshape, activation\u001b[38;5;241m=\u001b[39mrelu)  \u001b[38;5;66;03m#sets  number of units in dense layer\u001b[39;00m\n\u001b[0;32m      7\u001b[0m \u001b[38;5;28mprint\u001b[39m(\u001b[38;5;124m\"\u001b[39m\u001b[38;5;124mWeights are:\u001b[39m\u001b[38;5;130;01m\\n\u001b[39;00m\u001b[38;5;124m\"\u001b[39m,dense_layer\u001b[38;5;241m.\u001b[39mweights) \u001b[38;5;66;03m#Returns randomly generated weights\u001b[39;00m\n\u001b[0;32m      8\u001b[0m \u001b[38;5;28mprint\u001b[39m(\u001b[38;5;124m\"\u001b[39m\u001b[38;5;124mFoward function output is:\u001b[39m\u001b[38;5;124m\"\u001b[39m, dense_layer(z)) \u001b[38;5;66;03m# Returns multiplied values of units and weights\u001b[39;00m\n",
      "\u001b[1;31mNameError\u001b[0m: name 'Dense' is not defined"
     ]
    }
   ],
   "source": [
    "# random_key = np.random.get_prng()  # sets random seed\n",
    "z = np.array([[2.0, 7.0, 25.0]]) # input array\n",
    "\n",
    "# Testing your Dense layer \n",
    "dense_layer = Dense(n_units=10, input_shape=z.shape, activation=relu)  #sets  number of units in dense layer\n",
    "\n",
    "print(\"Weights are:\\n\",dense_layer.weights) #Returns randomly generated weights\n",
    "print(\"Foward function output is:\", dense_layer(z)) # Returns multiplied values of units and weights"
   ]
  },
  {
   "cell_type": "markdown",
   "id": "56055e63",
   "metadata": {},
   "source": [
    "**Expected Output:**\n",
    "```\n",
    "Weights are:\n",
    " [[ 0.03047171 -0.10399841  0.07504512  0.09405647 -0.19510352 -0.13021795\n",
    "   0.01278404 -0.03162426 -0.00168012 -0.08530439]\n",
    " [ 0.0879398   0.07777919  0.00660307  0.11272412  0.04675093 -0.08592925\n",
    "   0.03687508 -0.09588826  0.08784503 -0.00499259]\n",
    " [-0.01848624 -0.06809295  0.12225413 -0.01545295 -0.04283278 -0.03521336\n",
    "   0.05323092  0.03654441  0.04127326  0.0430821 ]]\n",
    "\n",
    "Foward function output is: [[0.21436609 0.         3.25266507 0.59085808 0.         0.\n",
    "  1.61446659 0.17914382 1.64338651 0.87149558]]\n",
    "```"
   ]
  },
  {
   "cell_type": "markdown",
   "id": "88912018",
   "metadata": {},
   "source": [
    "Test the Dense class"
   ]
  },
  {
   "cell_type": "code",
   "execution_count": 51,
   "id": "da1120d5",
   "metadata": {
    "deletable": false,
    "editable": false,
    "tags": []
   },
   "outputs": [
    {
     "name": "stdout",
     "output_type": "stream",
     "text": [
      "\u001b[92m All tests passed\n"
     ]
    }
   ],
   "source": [
    "# Test your Dense class\n",
    "w1_unittest.test_Dense(Dense)"
   ]
  },
  {
   "cell_type": "markdown",
   "id": "0c2d927a",
   "metadata": {},
   "source": [
    "<a name=\"3-4\"></a>\n",
    "### 3.4 - Model\n",
    "\n",
    "Now you will implement a classifier using neural networks. Here is the model architecture you will be implementing. \n",
    "\n",
    "<img src = \"images/nn.jpg\"/>\n",
    "\n",
    "For the model implementation, you will use `TensorFlow` module, imported as `tf`. Your model will consist of layers and activation functions that you implemented above, but you will take them directly from the tensorflow library.\n",
    "\n",
    "You will use the [tf.keras.Sequential](https://www.tensorflow.org/api_docs/python/tf/keras/Sequential) module, which allows you to stack the layers in a sequence as you want them in the model. You will use the following layers:\n",
    "- [tf.keras.layers.Embedding](https://www.tensorflow.org/api_docs/python/tf/keras/layers/Embedding)\n",
    "    - Turns positive integers (word indices) into vectors of fixed size. You can imagine it as creating one-hot vectors out of indices and then running them through a fully-connected (dense) layer.\n",
    "- [tf.keras.layers.GlobalAveragePooling1D](https://www.tensorflow.org/api_docs/python/tf/keras/layers/GlobalAveragePooling1D)\n",
    "- [tf.keras.layers.Dense](https://www.tensorflow.org/api_docs/python/tf/keras/layers/Dense)\n",
    "    - Regular fully connected layer\n",
    "    \n",
    "Please use the `help` function to view documentation for each layer."
   ]
  },
  {
   "cell_type": "code",
   "execution_count": 55,
   "id": "8a5de20b",
   "metadata": {
    "deletable": false,
    "tags": [
     "graded"
    ]
   },
   "outputs": [],
   "source": [
    "# View documentation on how to implement the layers in tf.\n",
    "# help(tf.keras.Sequential)\n",
    "# help(tf.keras.layers.Embedding)\n",
    "# help(tf.keras.layers.GlobalAveragePooling1D)\n",
    "# help(tf.keras.layers.Dense)"
   ]
  },
  {
   "cell_type": "markdown",
   "id": "1a184816",
   "metadata": {},
   "source": [
    "<a name=\"ex-7\"></a>\n",
    "### Exercise 7 - create_model\n",
    "Implement the create_model function. \n",
    "\n",
    "First you need to create the model. The `tf.keras.Sequential` has been implemented for you. Within it you should put the following layers:\n",
    "- `tf.keras.layers.Embedding` with the size `num_words` times `embeding_dim` and the `input_length` set to the length of the input sequences (which is the length of the longest tweet).\n",
    "- `tf.keras.layers.GlobalAveragePooling1D` with no extra parameters.\n",
    "- `tf.keras.layers.Dense` with the size of one (this is your classification output) and `'sigmoid'` activation passed to the  `activation` keyword parameter.\n",
    "Make sure to separate the layers with a comma.\n",
    "\n",
    "Then you need to compile the model. Here you can look at all the parameters you can set when compiling the model:  [tf.keras.Model](https://www.tensorflow.org/api_docs/python/tf/keras/Model). In this notebook, you just need to set the loss to `'binary_crossentropy'` (because you are doing binary classification with a sigmoid function at the output), the optimizer to `'adam'` and the metrics to `'accuracy'` (so that you can track the accuracy on the training and validation sets."
   ]
  },
  {
   "cell_type": "code",
   "execution_count": null,
   "id": "1f8deb0d",
   "metadata": {
    "deletable": false,
    "tags": [
     "graded"
    ]
   },
   "outputs": [],
   "source": [
    "# GRADED FUNCTION: create_model\n",
    "def create_model(num_words, embedding_dim, max_len):\n",
    "    \"\"\"\n",
    "    Creates a text classifier model\n",
    "    \n",
    "    Args:\n",
    "        num_words (int): size of the vocabulary for the Embedding layer input\n",
    "        embedding_dim (int): dimensionality of the Embedding layer output\n",
    "        max_len (int): length of the input sequences\n",
    "    \n",
    "    Returns:\n",
    "        model (tf.keras Model): the text classifier model\n",
    "    \"\"\"\n",
    "    \n",
    "    tf.random.set_seed(123)\n",
    "    \n",
    "    ### START CODE HERE\n",
    "    \n",
    "    model = tf.keras.Sequential([ \n",
    "        tf.keras.layers.Embedding(None, None, input_length=None),\n",
    "        None,\n",
    "        None\n",
    "    ]) \n",
    "    \n",
    "    model.compile(loss=None,\n",
    "                  optimizer=None,\n",
    "                  metrics=['None'])\n",
    "\n",
    "    ### END CODE HERE\n",
    "\n",
    "    return model"
   ]
  },
  {
   "cell_type": "code",
   "execution_count": null,
   "id": "9a88700c",
   "metadata": {
    "deletable": false,
    "editable": false,
    "tags": [
     "graded"
    ]
   },
   "outputs": [],
   "source": [
    "# Create the model\n",
    "model = create_model(num_words=num_words, embedding_dim=16, max_len=max_len)\n",
    "\n",
    "print('The model is created!\\n')"
   ]
  },
  {
   "cell_type": "code",
   "execution_count": null,
   "id": "1a0d3f48",
   "metadata": {
    "deletable": false,
    "editable": false,
    "tags": []
   },
   "outputs": [],
   "source": [
    "# Test your create_model function\n",
    "w1_unittest.test_model(create_model)"
   ]
  },
  {
   "cell_type": "markdown",
   "id": "aa3495bc",
   "metadata": {},
   "source": [
    "Now you need to prepare the data to put into the model. You already created lists of x and y values and all you need to do now is convert them to `NumPy` arrays, as this is the format that the model is expecting.\n",
    "\n",
    "Then you can create a model with the function you defined above and train it. The trained model should give you about 99.6 % accuracy on the validation set."
   ]
  },
  {
   "cell_type": "code",
   "execution_count": null,
   "id": "5cc20ab8",
   "metadata": {
    "deletable": false,
    "editable": false,
    "tags": [
     "graded"
    ]
   },
   "outputs": [],
   "source": [
    "# Prepare the data\n",
    "train_x_prepared = np.array(train_x_padded)\n",
    "val_x_prepared = np.array(val_x_padded)\n",
    "\n",
    "train_y_prepared = np.array(train_y)\n",
    "val_y_prepared = np.array(val_y)\n",
    "\n",
    "print('The data is prepared for training!\\n')\n",
    "\n",
    "# Fit the model\n",
    "print('Training:')\n",
    "history = model.fit(train_x_prepared, train_y_prepared, epochs=20, validation_data=(val_x_prepared, val_y_prepared))"
   ]
  },
  {
   "cell_type": "markdown",
   "id": "ab323967",
   "metadata": {},
   "source": [
    "<a name=\"4\"></a>\n",
    "## 4 - Evaluate the model\n",
    "\n",
    "Now that you trained the model, it is time to look at its performance. While training, you already saw a printout of the accuracy and loss on training and validation sets. To have a better feeling on how the model improved with training, you can plot them below."
   ]
  },
  {
   "cell_type": "code",
   "execution_count": null,
   "id": "547f3ce5",
   "metadata": {
    "deletable": false,
    "editable": false,
    "tags": [
     "graded"
    ]
   },
   "outputs": [],
   "source": [
    "def plot_metrics(history, metric):\n",
    "    plt.plot(history.history[metric])\n",
    "    plt.plot(history.history[f'val_{metric}'])\n",
    "    plt.xlabel(\"Epochs\")\n",
    "    plt.ylabel(metric.title())\n",
    "    plt.legend([metric, f'val_{metric}'])\n",
    "    plt.show()\n",
    "    \n",
    "plot_metrics(history, \"accuracy\")\n",
    "plot_metrics(history, \"loss\")"
   ]
  },
  {
   "cell_type": "markdown",
   "id": "c18ab524",
   "metadata": {},
   "source": [
    "You can see that already after just a few epochs the model reached very high accuracy on both sets. But if you zoom in, you can see that the performance was still slightly improving on the training set through all 20 epochs, while it stagnated a bit earlier on the validation set. The loss on the other hand kept decreasing through all 20 epochs, which means that the model also got more confident in its predictions."
   ]
  },
  {
   "cell_type": "markdown",
   "id": "8325ea1e",
   "metadata": {},
   "source": [
    "<a name=\"4-1\"></a>\n",
    "### 4.1 - Predict on Data\n",
    "\n",
    "Now you can use the model for predictions on unseen tweets as `model.predict()`. This is as simple as passing an array of sequences you want to predict to the mentioned method.\n",
    "In the cell below you prepare an extract of positive and negative samples from the validation set (remember, the positive examples are at the beginning and the negative are at the end) for the demonstration and predict their values with the model. Note that in the ideal case you should have another test set from which you would draw this data to inspect the model performance. But for the demonstration here the validation set will do just as well."
   ]
  },
  {
   "cell_type": "code",
   "execution_count": null,
   "id": "d712e017",
   "metadata": {
    "deletable": false,
    "editable": false,
    "tags": [
     "graded"
    ]
   },
   "outputs": [],
   "source": [
    "# Prepare an example with 10 positive and 10 negative tweets.\n",
    "example_for_prediction = np.append(val_x_prepared[0:10], val_x_prepared[-10:], axis=0)\n",
    "\n",
    "# Make a prediction on the tweets.\n",
    "model.predict(example_for_prediction)"
   ]
  },
  {
   "cell_type": "markdown",
   "id": "043a206e",
   "metadata": {},
   "source": [
    "You can see that the first 10 numbers are very close to 1, which means the model correctly predicted positive sentiment and the last 10 numbers are all close to zero, which means the model correctly predicted negative sentiment."
   ]
  },
  {
   "cell_type": "markdown",
   "id": "e7c90d18",
   "metadata": {},
   "source": [
    "<a name=\"5\"></a>\n",
    "## 5 - Test With Your Own Input\n",
    "\n",
    "Finally you will test with your own input. You will see that deepnets are more powerful than the older methods you have used before. Although you go close to 100 % accuracy on the first two assignments, you can see even more improvement here. \n",
    "\n",
    "<a name=\"5-1\"></a>\n",
    "### 5.1 - Create the Prediction Function"
   ]
  },
  {
   "cell_type": "code",
   "execution_count": null,
   "id": "9da31016",
   "metadata": {
    "deletable": false,
    "editable": false,
    "tags": [
     "graded"
    ]
   },
   "outputs": [],
   "source": [
    "def get_prediction_from_tweet(tweet, model, vocab, max_len):\n",
    "    tweet = process_tweet(tweet)\n",
    "    tweet = padded_sequence(tweet, vocab, max_len)\n",
    "    tweet = np.array([tweet])\n",
    "\n",
    "    prediction = model.predict(tweet, verbose=False)\n",
    "    \n",
    "    return prediction[0][0]"
   ]
  },
  {
   "cell_type": "markdown",
   "id": "bf2d7208",
   "metadata": {},
   "source": [
    "Now you can write your own tweet and see how the model predicts it. Try playing around with the words - for example change `gr8` for `great` in the sample tweet and see if the score gets higher or lower. \n",
    "\n",
    "Also Try writing your own tweet and see if you can find what affects the output most."
   ]
  },
  {
   "cell_type": "code",
   "execution_count": null,
   "id": "f48c7ff0",
   "metadata": {
    "deletable": false,
    "tags": [
     "graded"
    ]
   },
   "outputs": [],
   "source": [
    "unseen_tweet = '@DLAI @NLP_team_dlai OMG!!! what a daaay, wow, wow. This AsSiGnMeNt was gr8.'\n",
    "\n",
    "prediction_unseen = get_prediction_from_tweet(unseen_tweet, model, vocab, max_len)\n",
    "print(f\"Model prediction on unseen tweet: {prediction_unseen}\")"
   ]
  },
  {
   "cell_type": "markdown",
   "id": "3b35eaaa",
   "metadata": {},
   "source": [
    "<a name=\"ex-8\"></a>\n",
    "### Exercise 8 - graded_very_positive_tweet\n",
    "**Instructions:** For your last exercise in this assignment, you need to write a very positive tweet. To pass this exercise, the tweet needs to score at least 0.99 with the model (which means the model thinks it is very positive).\n",
    "\n",
    "Hint: try some positive words and/or happy smiley faces :)"
   ]
  },
  {
   "cell_type": "code",
   "execution_count": null,
   "id": "2f075af5",
   "metadata": {
    "deletable": false,
    "scrolled": true,
    "tags": [
     "graded"
    ]
   },
   "outputs": [],
   "source": [
    "# GRADED VARIABLE: graded_very_positive_tweet\n",
    "\n",
    "### START CODE HERE ###\n",
    "\n",
    "# Please replace this sad tweet with a happier tweet\n",
    "graded_very_positive_tweet = 'sad'\n",
    "\n",
    "### END CODE HERE ###"
   ]
  },
  {
   "cell_type": "markdown",
   "id": "d1420a67",
   "metadata": {},
   "source": [
    "Test your positive tweet below"
   ]
  },
  {
   "cell_type": "code",
   "execution_count": 1,
   "id": "8c2fe677",
   "metadata": {
    "deletable": false,
    "editable": false,
    "tags": [
     "graded"
    ]
   },
   "outputs": [
    {
     "ename": "NameError",
     "evalue": "name 'get_prediction_from_tweet' is not defined",
     "output_type": "error",
     "traceback": [
      "\u001b[1;31m---------------------------------------------------------------------------\u001b[0m",
      "\u001b[1;31mNameError\u001b[0m                                 Traceback (most recent call last)",
      "Cell \u001b[1;32mIn[1], line 2\u001b[0m\n\u001b[0;32m      1\u001b[0m \u001b[38;5;66;03m# Test your graded_very_positive_tweet tweet\u001b[39;00m\n\u001b[1;32m----> 2\u001b[0m prediction \u001b[38;5;241m=\u001b[39m \u001b[43mget_prediction_from_tweet\u001b[49m(graded_very_positive_tweet, model, vocab, max_len)\n\u001b[0;32m      3\u001b[0m \u001b[38;5;28;01mif\u001b[39;00m prediction \u001b[38;5;241m>\u001b[39m \u001b[38;5;241m0.99\u001b[39m:\n\u001b[0;32m      4\u001b[0m     \u001b[38;5;28mprint\u001b[39m(\u001b[38;5;124m\"\u001b[39m\u001b[38;5;130;01m\\033\u001b[39;00m\u001b[38;5;124m[92m All tests passed\u001b[39m\u001b[38;5;124m\"\u001b[39m)\n",
      "\u001b[1;31mNameError\u001b[0m: name 'get_prediction_from_tweet' is not defined"
     ]
    }
   ],
   "source": [
    "# Test your graded_very_positive_tweet tweet\n",
    "prediction = get_prediction_from_tweet(graded_very_positive_tweet, model, vocab, max_len)\n",
    "if prediction > 0.99:\n",
    "    print(\"\\033[92m All tests passed\")\n",
    "else:\n",
    "    print(\"The model thinks your tweet is not positive enough.\\nTry figuring out what makes some of the tweets in the validation set so positive.\")"
   ]
  },
  {
   "cell_type": "markdown",
   "id": "5b6f86ff",
   "metadata": {},
   "source": [
    "<a name=\"6\"></a>\n",
    "## 6 - Word Embeddings\n",
    "\n",
    "In this last section, you will visualize the word embeddings that your model has learned for this sentiment analysis task.\n",
    "By using `model.layers`, you get a list of the layers in the model. The embeddings are saved in the first layer of the model (position 0).\n",
    "You can retrieve the weights of the layer by calling `layer.get_weights()` function, which gives you a list of matrices with weights. The embedding layer has only one matrix in it, which contains your embeddings. Let's extract the embeddings."
   ]
  },
  {
   "cell_type": "code",
   "execution_count": null,
   "id": "4b437a60",
   "metadata": {
    "deletable": false,
    "editable": false,
    "tags": [
     "graded"
    ]
   },
   "outputs": [],
   "source": [
    "# Get the embedding layer\n",
    "embeddings_layer = model.layers[0]\n",
    "\n",
    "# Get the weights of the embedding layer\n",
    "embeddings = embeddings_layer.get_weights()[0]\n",
    "\n",
    "print(f\"Weights of embedding layer have shape: {embeddings.shape}\")"
   ]
  },
  {
   "cell_type": "markdown",
   "id": "f289857c",
   "metadata": {},
   "source": [
    "Since your embeddings are 16-dimensional (or different if you chose some other dimension), it is hard to visualize them without some kind of transformation. Here, you'll use scikit-learn to perform dimensionality reduction of the word embeddings using PCA, with which you can reduce the number of dimensions to two, while keeping as much information as possible. Then you can visualize the data to see how the vectors for different words look like."
   ]
  },
  {
   "cell_type": "code",
   "execution_count": null,
   "id": "9f064556",
   "metadata": {
    "deletable": false,
    "editable": false,
    "tags": [
     "graded"
    ]
   },
   "outputs": [],
   "source": [
    "# PCA with two dimensions\n",
    "pca = PCA(n_components=2)\n",
    "\n",
    "# Dimensionality reduction of the word embeddings\n",
    "embeddings_2D = pca.fit_transform(embeddings)"
   ]
  },
  {
   "cell_type": "markdown",
   "id": "a957d815",
   "metadata": {},
   "source": [
    "Now, everything is ready to plot a selection of words in 2d. Dont mind the axes on the plot - they point in the directions calculated by the PCA algorithm. Pay attention to which words group together."
   ]
  },
  {
   "cell_type": "code",
   "execution_count": null,
   "id": "9696170b",
   "metadata": {
    "deletable": false,
    "editable": false,
    "tags": [
     "graded"
    ]
   },
   "outputs": [],
   "source": [
    "#Selection of negative and positive words\n",
    "neg_words = ['bad', 'hurt', 'sad', 'hate', 'worst']\n",
    "pos_words = ['best', 'good', 'nice', 'love', 'better', ':)']\n",
    "\n",
    "#Index of each selected word\n",
    "neg_n = [vocab[w] for w in neg_words]\n",
    "pos_n = [vocab[w] for w in pos_words]\n",
    "\n",
    "plt.figure()\n",
    "\n",
    "#Scatter plot for negative words\n",
    "plt.scatter(embeddings_2D[neg_n][:,0], embeddings_2D[neg_n][:,1], color = 'r')\n",
    "for i, txt in enumerate(neg_words): \n",
    "    plt.annotate(txt, (embeddings_2D[neg_n][i,0], embeddings_2D[neg_n][i,1]))\n",
    "\n",
    "#Scatter plot for positive words\n",
    "plt.scatter(embeddings_2D[pos_n][:,0], embeddings_2D[pos_n][:,1], color = 'g')\n",
    "for i, txt in enumerate(pos_words): \n",
    "    plt.annotate(txt,(embeddings_2D[pos_n][i,0], embeddings_2D[pos_n][i,1]))\n",
    "\n",
    "plt.title('Word embeddings in 2d')\n",
    "\n",
    "plt.show()"
   ]
  },
  {
   "cell_type": "markdown",
   "id": "bca33cce",
   "metadata": {},
   "source": [
    "As you can see, the word embeddings for this task seem to distinguish negative and positive meanings. However, similar words don't necessarily cluster together, since you only trained the model to analyze the overall sentiment. Notice how the smiley face is much further away from the negative words than any of the positive words are. It turns out that smiley faces are actually the most important predictors of sentiment in this dataset. Try removing them from the tweets (and consequently from the vocabulary) and see how well the model performs then. You should see quite a significant drop in performance."
   ]
  },
  {
   "cell_type": "markdown",
   "id": "9791af3a",
   "metadata": {},
   "source": [
    "**Congratulations on finishing this assignment!**\n",
    "\n",
    "During this assignment you tested your theoretical and practical skills by creating a vocabulary of words in the tweets and coding a neural network that created word embeddings and classified the tweets into positive or negative. Next week you will start coding some sequence models!\n",
    "\n",
    "**Keep up the good work!**\n"
   ]
  }
 ],
 "metadata": {
  "grader_version": "1",
  "kernelspec": {
   "display_name": "Python 3",
   "language": "python",
   "name": "python3"
  },
  "language_info": {
   "codemirror_mode": {
    "name": "ipython",
    "version": 3
   },
   "file_extension": ".py",
   "mimetype": "text/x-python",
   "name": "python",
   "nbconvert_exporter": "python",
   "pygments_lexer": "ipython3",
   "version": "3.10.4"
  }
 },
 "nbformat": 4,
 "nbformat_minor": 5
}
